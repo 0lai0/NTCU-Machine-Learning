{
 "cells": [
  {
   "cell_type": "markdown",
   "id": "337d5810",
   "metadata": {},
   "source": [
    "# Combined KMeans and Random Forest for Fraud Detection\n",
    "\n",
    "This notebook demonstrates how to combine **KMeans clustering** and **Random Forest** to detect fraud in the Kaggle credit card fraud dataset."
   ]
  },
  {
   "cell_type": "code",
   "execution_count": null,
   "id": "d48544ee",
   "metadata": {},
   "outputs": [],
   "source": [
    "import numpy as np\n",
    "import pandas as pd\n",
    "from sklearn.model_selection import train_test_split, GridSearchCV\n",
    "from sklearn.preprocessing import StandardScaler\n",
    "from sklearn.cluster import KMeans\n",
    "from sklearn.ensemble import RandomForestClassifier\n",
    "from sklearn.metrics import (\n",
    "    silhouette_score, classification_report, accuracy_score,\n",
    "    precision_score, recall_score, f1_score\n",
    ")\n",
    "import kagglehub\n",
    "\n",
    "RANDOM_SEED = 42\n",
    "TEST_SIZE = 0.3"
   ]
  },
  {
   "cell_type": "code",
   "execution_count": null,
   "id": "0f685b3d",
   "metadata": {},
   "outputs": [],
   "source": [
    "path = kagglehub.dataset_download(\"mlg-ulb/creditcardfraud\")\n",
    "data = pd.read_csv(f\"{path}/creditcard.csv\")\n",
    "data['Class'] = data['Class'].astype(int)\n",
    "data.head()"
   ]
  },
  {
   "cell_type": "code",
   "execution_count": null,
   "id": "8251fb4c",
   "metadata": {},
   "outputs": [],
   "source": [
    "data = data.drop(['Time'], axis=1)\n",
    "data['Amount'] = StandardScaler().fit_transform(data['Amount'].values.reshape(-1, 1))\n",
    "\n",
    "fraud = data[data['Class'] == 1]\n",
    "nonfraud = data[data['Class'] == 0]\n",
    "\n",
    "print(f'Fraudulent: {len(fraud)}, Non-fraudulent: {len(nonfraud)}')\n",
    "print(f'Fraud percentage: {len(fraud)/(len(fraud)+len(nonfraud))*100:.3f}%')"
   ]
  },
  {
   "cell_type": "code",
   "execution_count": null,
   "id": "cfb7e2b8",
   "metadata": {},
   "outputs": [],
   "source": [
    "X = np.asarray(data.drop(columns=['Class']))\n",
    "y = np.asarray(data['Class'])\n",
    "\n",
    "x_train, x_test, y_train, y_test = train_test_split(\n",
    "    X, y, test_size=TEST_SIZE, random_state=RANDOM_SEED, stratify=y\n",
    ")\n",
    "\n",
    "scaler = StandardScaler()\n",
    "x_train = scaler.fit_transform(x_train)\n",
    "x_test = scaler.transform(x_test)"
   ]
  },
  {
   "cell_type": "code",
   "execution_count": null,
   "id": "9227887f",
   "metadata": {},
   "outputs": [],
   "source": [
    "np.random.seed(RANDOM_SEED)\n",
    "\n",
    "normal_train_indices = np.where(y_train == 0)[0]\n",
    "fraud_train_indices = np.where(y_train == 1)[0]\n",
    "\n",
    "np.random.shuffle(normal_train_indices)\n",
    "np.random.shuffle(fraud_train_indices)\n",
    "\n",
    "selected_normal = normal_train_indices[:5000]\n",
    "selected_fraud = fraud_train_indices[:500]\n",
    "\n",
    "selected_train = np.concatenate([selected_normal, selected_fraud])\n",
    "np.random.shuffle(selected_train)\n",
    "\n",
    "n_x_train = x_train[selected_train]"
   ]
  },
  {
   "cell_type": "code",
   "execution_count": null,
   "id": "b2afd18f",
   "metadata": {},
   "outputs": [],
   "source": [
    "scores = []\n",
    "for k in range(2, 8):\n",
    "    kmeans = KMeans(n_clusters=k, init='k-means++', random_state=RANDOM_SEED)\n",
    "    kmeans.fit(n_x_train)\n",
    "    score = silhouette_score(n_x_train, kmeans.labels_)\n",
    "    scores.append(score)\n",
    "    print(f'k={k}, Silhouette Score={score:.4f}')\n",
    "\n",
    "optimal_k = np.argmax(scores) + 2\n",
    "print(f'Optimal k: {optimal_k}')\n",
    "\n",
    "kmeans = KMeans(n_clusters=optimal_k, init='k-means++', random_state=RANDOM_SEED)\n",
    "kmeans.fit(n_x_train)"
   ]
  },
  {
   "cell_type": "code",
   "execution_count": null,
   "id": "9e12862c",
   "metadata": {},
   "outputs": [],
   "source": [
    "train_clusters = kmeans.predict(x_train)\n",
    "test_clusters = kmeans.predict(x_test)\n",
    "\n",
    "x_train_combined = np.concatenate([x_train, train_clusters.reshape(-1, 1)], axis=1)\n",
    "x_test_combined = np.concatenate([x_test, test_clusters.reshape(-1, 1)], axis=1)"
   ]
  },
  {
   "cell_type": "code",
   "execution_count": null,
   "id": "e8f65286",
   "metadata": {},
   "outputs": [],
   "source": [
    "rf = RandomForestClassifier(random_state=RANDOM_SEED)\n",
    "param_grid = {'n_estimators': [50, 100], 'max_depth': [5, 10, None]}\n",
    "\n",
    "grid_search = GridSearchCV(rf, param_grid, cv=3, scoring='f1', n_jobs=-1)\n",
    "grid_search.fit(x_train_combined, y_train)\n",
    "\n",
    "best_rf = grid_search.best_estimator_"
   ]
  },
  {
   "cell_type": "code",
   "execution_count": null,
   "id": "8df9eae2",
   "metadata": {},
   "outputs": [],
   "source": [
    "y_pred_rf = best_rf.predict(x_test_combined)\n",
    "\n",
    "def evaluation(y_true, y_pred, model_name=\"Model\"):\n",
    "    accuracy = accuracy_score(y_true, y_pred)\n",
    "    precision = precision_score(y_true, y_pred, zero_division=0)\n",
    "    recall = recall_score(y_true, y_pred)\n",
    "    f1 = f1_score(y_true, y_pred)\n",
    "\n",
    "    print(f'\\n{model_name} Evaluation:')\n",
    "    print('===' * 15)\n",
    "    print('         Accuracy:', accuracy)\n",
    "    print('  Precision Score:', precision)\n",
    "    print('     Recall Score:', recall)\n",
    "    print('         F1 Score:', f1)\n",
    "    print(\"\\nClassification Report:\")\n",
    "    print(classification_report(y_true, y_pred))\n",
    "\n",
    "evaluation(y_test, y_pred_rf, model_name=\"Random Forest (with KMeans feature)\")"
   ]
  }
 ],
 "metadata": {},
 "nbformat": 4,
 "nbformat_minor": 5
}
