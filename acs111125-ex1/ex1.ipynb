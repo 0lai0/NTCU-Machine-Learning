{
 "cells": [
  {
   "cell_type": "code",
   "execution_count": 2,
   "id": "0a8b1f63",
   "metadata": {},
   "outputs": [
    {
     "name": "stderr",
     "output_type": "stream",
     "text": [
      "c:\\Users\\yianm\\AppData\\Local\\Programs\\Python\\Python313\\Lib\\site-packages\\tqdm\\auto.py:21: TqdmWarning: IProgress not found. Please update jupyter and ipywidgets. See https://ipywidgets.readthedocs.io/en/stable/user_install.html\n",
      "  from .autonotebook import tqdm as notebook_tqdm\n"
     ]
    },
    {
     "name": "stdout",
     "output_type": "stream",
     "text": [
      "Downloading from https://www.kaggle.com/api/v1/datasets/download/mlg-ulb/creditcardfraud?dataset_version_number=3...\n"
     ]
    },
    {
     "name": "stderr",
     "output_type": "stream",
     "text": [
      "100%|██████████| 66.0M/66.0M [00:25<00:00, 2.76MB/s]"
     ]
    },
    {
     "name": "stdout",
     "output_type": "stream",
     "text": [
      "Extracting files...\n"
     ]
    },
    {
     "name": "stderr",
     "output_type": "stream",
     "text": [
      "\n"
     ]
    },
    {
     "name": "stdout",
     "output_type": "stream",
     "text": [
      "✅ 資料載入完成，總筆數： 284807\n",
      "\n",
      "📊 Random Forest 評估結果\n",
      "========================================\n",
      "Accuracy : 0.9994499256814484\n",
      "Precision: 0.9719626168224299\n",
      "Recall   : 0.7027027027027027\n",
      "F1 Score : 0.8156862745098039\n",
      "\n",
      "Classification Report:\n",
      "               precision    recall  f1-score   support\n",
      "\n",
      "           0       1.00      1.00      1.00     85295\n",
      "           1       0.97      0.70      0.82       148\n",
      "\n",
      "    accuracy                           1.00     85443\n",
      "   macro avg       0.99      0.85      0.91     85443\n",
      "weighted avg       1.00      1.00      1.00     85443\n",
      "\n",
      "🌀 KMeans 最佳群數 k = 2\n",
      "\n",
      "📊 KMeans (Unsupervised) 評估結果\n",
      "========================================\n",
      "Accuracy : 0.9982678510820079\n",
      "Precision: 0.0\n",
      "Recall   : 0.0\n",
      "F1 Score : 0.0\n",
      "\n",
      "Classification Report:\n",
      "               precision    recall  f1-score   support\n",
      "\n",
      "           0       1.00      1.00      1.00     85295\n",
      "           1       0.00      0.00      0.00       148\n",
      "\n",
      "    accuracy                           1.00     85443\n",
      "   macro avg       0.50      0.50      0.50     85443\n",
      "weighted avg       1.00      1.00      1.00     85443\n",
      "\n"
     ]
    },
    {
     "name": "stderr",
     "output_type": "stream",
     "text": [
      "c:\\Users\\yianm\\AppData\\Local\\Programs\\Python\\Python313\\Lib\\site-packages\\sklearn\\metrics\\_classification.py:1565: UndefinedMetricWarning: Precision is ill-defined and being set to 0.0 due to no predicted samples. Use `zero_division` parameter to control this behavior.\n",
      "  _warn_prf(average, modifier, f\"{metric.capitalize()} is\", len(result))\n",
      "c:\\Users\\yianm\\AppData\\Local\\Programs\\Python\\Python313\\Lib\\site-packages\\sklearn\\metrics\\_classification.py:1565: UndefinedMetricWarning: Precision is ill-defined and being set to 0.0 in labels with no predicted samples. Use `zero_division` parameter to control this behavior.\n",
      "  _warn_prf(average, modifier, f\"{metric.capitalize()} is\", len(result))\n",
      "c:\\Users\\yianm\\AppData\\Local\\Programs\\Python\\Python313\\Lib\\site-packages\\sklearn\\metrics\\_classification.py:1565: UndefinedMetricWarning: Precision is ill-defined and being set to 0.0 in labels with no predicted samples. Use `zero_division` parameter to control this behavior.\n",
      "  _warn_prf(average, modifier, f\"{metric.capitalize()} is\", len(result))\n",
      "c:\\Users\\yianm\\AppData\\Local\\Programs\\Python\\Python313\\Lib\\site-packages\\sklearn\\metrics\\_classification.py:1565: UndefinedMetricWarning: Precision is ill-defined and being set to 0.0 in labels with no predicted samples. Use `zero_division` parameter to control this behavior.\n",
      "  _warn_prf(average, modifier, f\"{metric.capitalize()} is\", len(result))\n"
     ]
    }
   ],
   "source": [
    "# ex1.ipynb - 挑戰一 練習作業框架\n",
    "# Author: [請寫上你的名字或學號]\n",
    "\n",
    "# ====== 🔹 套件匯入區 ======\n",
    "import numpy as np\n",
    "import pandas as pd\n",
    "from sklearn.model_selection import train_test_split\n",
    "from sklearn.preprocessing import StandardScaler\n",
    "from sklearn.ensemble import RandomForestClassifier\n",
    "from sklearn.metrics import classification_report, accuracy_score, precision_score, recall_score, f1_score\n",
    "from sklearn.cluster import KMeans\n",
    "from sklearn.metrics import silhouette_score\n",
    "\n",
    "# ====== 🔹 資料載入與前處理 ======\n",
    "# 如果 kagglehub 有裝就用這個；如果你下載 csv，改成讀本地檔\n",
    "try:\n",
    "    import kagglehub\n",
    "    path = kagglehub.dataset_download(\"mlg-ulb/creditcardfraud\")\n",
    "    data = pd.read_csv(f\"{path}/creditcard.csv\")\n",
    "except:\n",
    "    print(\"使用本地資料路徑\")\n",
    "    data = pd.read_csv(\"creditcard.csv\")  # <-- 下載檔案後請放這裡\n",
    "\n",
    "data['Class'] = data['Class'].astype(int)\n",
    "data = data.drop(['Time'], axis=1)\n",
    "data['Amount'] = StandardScaler().fit_transform(data['Amount'].values.reshape(-1, 1))\n",
    "\n",
    "print(\"✅ 資料載入完成，總筆數：\", len(data))\n",
    "\n",
    "# ====== 🔹 評估函式 ======\n",
    "def evaluation(y_true, y_pred, model_name=\"Model\"):\n",
    "    print(f\"\\n📊 {model_name} 評估結果\")\n",
    "    print(\"=\"*40)\n",
    "    print(\"Accuracy :\", accuracy_score(y_true, y_pred))\n",
    "    print(\"Precision:\", precision_score(y_true, y_pred))\n",
    "    print(\"Recall   :\", recall_score(y_true, y_pred))\n",
    "    print(\"F1 Score :\", f1_score(y_true, y_pred))\n",
    "    print(\"\\nClassification Report:\\n\", classification_report(y_true, y_pred))\n",
    "\n",
    "# ====== 🔹 Random Forest：有監督式學習 ======\n",
    "X = np.asarray(data.drop(columns=['Class']))\n",
    "Y = np.asarray(data['Class'])\n",
    "\n",
    "X_train, X_test, y_train, y_test = train_test_split(\n",
    "    X, Y, test_size=0.3, random_state=42, stratify=Y\n",
    ")\n",
    "\n",
    "rf_model = RandomForestClassifier(n_estimators=100, random_state=42, class_weight='balanced')\n",
    "rf_model.fit(X_train, y_train)\n",
    "y_pred_rf = rf_model.predict(X_test)\n",
    "\n",
    "evaluation(y_test, y_pred_rf, \"Random Forest\")\n",
    "\n",
    "# ====== 🔹 KMeans：非監督式學習 ======\n",
    "scaler = StandardScaler()\n",
    "X_scaled = scaler.fit_transform(X)\n",
    "\n",
    "X_train_unsupervised = X_scaled[Y == 0][:1000]  # 取前 1000 筆非詐欺樣本\n",
    "\n",
    "# 選擇最佳 k 值\n",
    "scores = []\n",
    "for k in range(2, 5):\n",
    "    kmeans = KMeans(n_clusters=k, random_state=42)\n",
    "    kmeans.fit(X_train_unsupervised)\n",
    "    score = silhouette_score(X_train_unsupervised, kmeans.labels_)\n",
    "    scores.append(score)\n",
    "\n",
    "optimal_k = np.argmax(scores) + 2\n",
    "print(\"🌀 KMeans 最佳群數 k =\", optimal_k)\n",
    "\n",
    "# 用最佳 k 訓練模型\n",
    "kmeans = KMeans(n_clusters=optimal_k, random_state=42)\n",
    "kmeans.fit(X_train_unsupervised)\n",
    "X_test_scaled = scaler.transform(X_test)\n",
    "y_pred_kmeans = kmeans.predict(X_test_scaled)\n",
    "\n",
    "# 對齊群集標籤\n",
    "def align_labels(y_true, y_pred, n_clusters):\n",
    "    labels = np.zeros_like(y_pred)\n",
    "    for i in range(n_clusters):\n",
    "        mask = (y_pred == i)\n",
    "        if np.sum(mask) > 0:\n",
    "            labels[mask] = np.bincount(y_true[mask]).argmax()\n",
    "        else:\n",
    "            labels[mask] = 0\n",
    "    return labels\n",
    "\n",
    "y_pred_aligned = align_labels(y_test, y_pred_kmeans, optimal_k)\n",
    "evaluation(y_test, y_pred_aligned, \"KMeans (Unsupervised)\")\n",
    "\n",
    "# ====== 🔹 TODO：你可以在這裡進行改進 ======\n",
    "# 例如：\n",
    "# - 改用其他分類器（如 XGBoost、SVM）\n",
    "# - 嘗試調整 Random Forest 參數\n",
    "# - SMOTE 資料平衡處理\n",
    "# - 比較更多非監督模型\n",
    "# - 把結果寫入 ex1.md 檔案\n"
   ]
  }
 ],
 "metadata": {
  "kernelspec": {
   "display_name": "Python 3",
   "language": "python",
   "name": "python3"
  },
  "language_info": {
   "codemirror_mode": {
    "name": "ipython",
    "version": 3
   },
   "file_extension": ".py",
   "mimetype": "text/x-python",
   "name": "python",
   "nbconvert_exporter": "python",
   "pygments_lexer": "ipython3",
   "version": "3.13.3"
  }
 },
 "nbformat": 4,
 "nbformat_minor": 5
}
