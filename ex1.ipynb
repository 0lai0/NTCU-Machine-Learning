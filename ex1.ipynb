{
 "cells": [
  {
   "cell_type": "code",
   "execution_count": 2,
   "metadata": {},
   "outputs": [],
   "source": [
    "# !pip install kagglehub\n",
    "# !pip install ipywidgets"
   ]
  },
  {
   "cell_type": "markdown",
   "metadata": {
    "id": "dWMfSiQ965S2"
   },
   "source": [
    "## Import Necessary Package"
   ]
  },
  {
   "cell_type": "code",
   "execution_count": 3,
   "metadata": {
    "id": "Z9p241Ag6_W4"
   },
   "outputs": [],
   "source": [
    "import pandas as pd\n",
    "import numpy as np\n",
    "from sklearn.model_selection import train_test_split\n",
    "from sklearn.preprocessing import StandardScaler\n",
    "from sklearn.metrics import (silhouette_score, accuracy_score, precision_score, recall_score, f1_score,\n",
    "                             roc_auc_score, confusion_matrix, classification_report, precision_recall_curve)\n",
    "from sklearn.cluster import KMeans\n",
    "from xgboost import XGBClassifier\n",
    "import kagglehub\n",
    "import optuna\n",
    "\n",
    "# general setting. do not change TEST_SIZE\n",
    "RANDOM_SEED = 42\n",
    "TEST_SIZE = 0.3"
   ]
  },
  {
   "cell_type": "markdown",
   "metadata": {
    "id": "ysBADDUY7ESi"
   },
   "source": [
    "## Load Dataset & Prepare Data"
   ]
  },
  {
   "cell_type": "code",
   "execution_count": 4,
   "metadata": {
    "id": "S9OzKek-7Ly4"
   },
   "outputs": [
    {
     "name": "stdout",
     "output_type": "stream",
     "text": [
      "/home/u7539525/.cache/kagglehub/datasets/mlg-ulb/creditcardfraud/versions/3\n"
     ]
    }
   ],
   "source": [
    "# load dataset（from kagglehub）\n",
    "path = kagglehub.dataset_download(\"mlg-ulb/creditcardfraud\")\n",
    "print(path)\n",
    "data = pd.read_csv(f\"{path}/creditcard.csv\")\n",
    "data['Class'] = data['Class'].astype(int)\n",
    "\n",
    "# prepare data\n",
    "data = data.drop(['Time'], axis=1)\n",
    "data['Amount'] = StandardScaler().fit_transform(data['Amount'].values.reshape(-1, 1))"
   ]
  },
  {
   "cell_type": "markdown",
   "metadata": {
    "id": "OSGjRpDG7Vac"
   },
   "source": [
    "## Fraud/Non-Fraud Transactions"
   ]
  },
  {
   "cell_type": "code",
   "execution_count": 5,
   "metadata": {
    "colab": {
     "base_uri": "https://localhost:8080/"
    },
    "id": "HBTR4FUN7dTM",
    "outputId": "81ca067b-fa55-419b-ee49-82e308083709"
   },
   "outputs": [
    {
     "name": "stdout",
     "output_type": "stream",
     "text": [
      "Fraudulent:492, non-fraudulent:284315\n",
      "the positive class (frauds) percentage: 492/284807 (0.173%)\n"
     ]
    }
   ],
   "source": [
    "fraud = data[data['Class'] == 1]\n",
    "nonfraud = data[data['Class'] == 0]\n",
    "print(f'Fraudulent:{len(fraud)}, non-fraudulent:{len(nonfraud)}')\n",
    "print(f'the positive class (frauds) percentage: {len(fraud)}/{len(fraud) + len(nonfraud)} ({len(fraud)/(len(fraud) + len(nonfraud))*100:.3f}%)')"
   ]
  },
  {
   "cell_type": "code",
   "execution_count": 6,
   "metadata": {
    "colab": {
     "base_uri": "https://localhost:8080/"
    },
    "id": "FtFnNrdm8FYr",
    "outputId": "fd1b0dd7-9cb9-4781-88e1-3378e045627d"
   },
   "outputs": [],
   "source": [
    "# define evaluation function\n",
    "def evaluation(y_true, y_pred, model_name=\"Model\"):\n",
    "    accuracy = accuracy_score(y_true, y_pred)\n",
    "    precision = precision_score(y_true, y_pred)\n",
    "    recall = recall_score(y_true, y_pred)\n",
    "    f1 = f1_score(y_true, y_pred)\n",
    "\n",
    "    print(f'\\n{model_name} Evaluation:')\n",
    "    print('===' * 15)\n",
    "    print('         Accuracy:', accuracy)\n",
    "    print('  Precision Score:', precision)\n",
    "    print('     Recall Score:', recall)\n",
    "    print('         F1 Score:', f1)\n",
    "    print(\"\\nClassification Report:\")\n",
    "    print(classification_report(y_true, y_pred))"
   ]
  },
  {
   "cell_type": "markdown",
   "metadata": {},
   "source": [
    "## 監督式學習 (XGBoost)\n",
    "\n",
    "**Baseline**:\n",
    "\n",
    "```\n",
    "Random forest Evaluation:\n",
    "=============================================\n",
    "         Accuracy: 0.9996371850239341\n",
    "  Precision Score: 0.9411764705882353\n",
    "     Recall Score: 0.8235294117647058\n",
    "         F1 Score: 0.8784313725490196\n",
    "\n",
    "Classification Report:\n",
    "              precision    recall  f1-score   support\n",
    "\n",
    "           0       1.00      1.00      1.00     85307\n",
    "           1       0.94      0.82      0.88       136\n",
    "\n",
    "    accuracy                           1.00     85443\n",
    "   macro avg       0.97      0.91      0.94     85443\n",
    "weighted avg       1.00      1.00      1.00     85443\n",
    "```\n",
    "\n",
    "### 說明\n",
    "\n",
    "XGBoost 是使用 Gradient Boosting 方式，依序訓練多個決策樹，每棵新的樹都會對前一棵樹進行學習跟修正。相較於 Random Forest 的每棵樹彼此獨立，XGBoost 有更高的 accuracy，並且訓練效率更高。\n",
    "\n",
    "參數調整：\n",
    "\n",
    "- `enable_categorical`: 使用分類模式。\n",
    "- `n_estimators`: 經過多組參數測試，設置 250 的效果最好，設更高結果不再提升。\n",
    "- `tree_method`: 分類模式需要使用 `approx` 或 `hist` 演算法，前者兼顧效率與準確度。\n",
    "- `device`: 使用 GPU 加速計算。\n",
    "- `learning_rate`: 預設值是 0.3，在 40 步之後開始出現 overfitting 的現象，\n",
    "- `n_jobs`: -1 表示用所有 CPU 核心進行平行計算。\n",
    "\n",
    "### 結果\n",
    "\n",
    "四項指標皆有提升：\n",
    "\n",
    "|      指標       | Baseline |   My Model   |\n",
    "|:---------------:|:--------:|:------------:|\n",
    "|    Accuracy     | 0.999637 | **0.999672** |\n",
    "| Precision Score | 0.941176 | **0.950000** |\n",
    "|  Recall Score   | 0.823529 | **0.838235** |\n",
    "|    F1 Score     | 0.878431 | **0.890625** |"
   ]
  },
  {
   "cell_type": "code",
   "execution_count": 7,
   "metadata": {
    "id": "NwgT6nZQ7le0"
   },
   "outputs": [
    {
     "name": "stderr",
     "output_type": "stream",
     "text": [
      "/usr/local/lib/python3.12/dist-packages/xgboost/core.py:158: UserWarning: [14:28:18] WARNING: /home/coder/xgboost/src/common/error_msg.cc:58: Falling back to prediction using DMatrix due to mismatched devices. This might lead to higher memory usage and slower performance. XGBoost is running on: cuda:0, while the input data is on: cpu.\n",
      "Potential solutions:\n",
      "- Use a data structure that matches the device ordinal in the booster.\n",
      "- Set the device for booster before call to inplace_predict.\n",
      "\n",
      "This warning will only be shown once.\n",
      "\n",
      "  warnings.warn(smsg, UserWarning)\n"
     ]
    },
    {
     "name": "stdout",
     "output_type": "stream",
     "text": [
      "\n",
      "XGBoost Evaluation:\n",
      "=============================================\n",
      "         Accuracy: 0.9996722961506501\n",
      "  Precision Score: 0.95\n",
      "     Recall Score: 0.8382352941176471\n",
      "         F1 Score: 0.890625\n",
      "\n",
      "Classification Report:\n",
      "              precision    recall  f1-score   support\n",
      "\n",
      "           0       1.00      1.00      1.00     85307\n",
      "           1       0.95      0.84      0.89       136\n",
      "\n",
      "    accuracy                           1.00     85443\n",
      "   macro avg       0.97      0.92      0.95     85443\n",
      "weighted avg       1.00      1.00      1.00     85443\n",
      "\n"
     ]
    }
   ],
   "source": [
    "# split feature and label\n",
    "X = np.asarray(data.drop(columns=['Class']))\n",
    "Y = np.asarray(data['Class']) # 1-D array\n",
    "\n",
    "# split training set and data set\n",
    "X_train, X_test, y_train, y_test = train_test_split(X, Y, test_size=TEST_SIZE, random_state=RANDOM_SEED)\n",
    "\n",
    "model = XGBClassifier(\n",
    "    enable_categorical=True,\n",
    "    n_estimators=250,\n",
    "    tree_method='approx',\n",
    "    device='cuda',\n",
    "    learning_rate=0.1,\n",
    "    n_jobs=-1\n",
    ")\n",
    "\n",
    "# 訓練\n",
    "model.fit(X_train, y_train)\n",
    "\n",
    "# 預測\n",
    "y_pred = model.predict(X_test)\n",
    "evaluation(y_test, y_pred, model_name=\"XGBoost\")"
   ]
  },
  {
   "cell_type": "markdown",
   "metadata": {
    "id": "WZJ5hAwi8LdR"
   },
   "source": [
    "## 非監督式學習(KMeans)\n",
    "\n",
    "Baseline:\n",
    "\n",
    "```\n",
    "KMeans (Unsupervised) Evaluation:\n",
    "=============================================\n",
    "         Accuracy: 0.9987242957293166\n",
    "  Precision Score: 0.782608695652174\n",
    "     Recall Score: 0.36486486486486486\n",
    "         F1 Score: 0.4976958525345622\n",
    "\n",
    "Classification Report:\n",
    "              precision    recall  f1-score   support\n",
    "\n",
    "           0       1.00      1.00      1.00     85295\n",
    "           1       0.78      0.36      0.50       148\n",
    "\n",
    "    accuracy                           1.00     85443\n",
    "   macro avg       0.89      0.68      0.75     85443\n",
    "weighted avg       1.00      1.00      1.00     85443\n",
    "```\n",
    "\n",
    "### 調整方法\n",
    "\n",
    "雖然資料集本身已經過 PCA 處理，但或許還能再去除較不重要的資料，提升判斷的準確性。在嘗試多種參數後，設置 `n_components=0.95` 的提升最大，保留了 27 維的資料。\n",
    "\n",
    "### 結果\n",
    "\n",
    "四項指標皆有提升：\n",
    "\n",
    "|      指標       | Baseline |   My Model   |\n",
    "|:---------------:|:--------:|:------------:|\n",
    "|    Accuracy     | 0.998724 | **0.998748** |\n",
    "| Precision Score | 0.782609 | **0.788732** |\n",
    "|  Recall Score   | 0.364865 | **0.378378** |\n",
    "|    F1 Score     | 0.497696 | **0.511416** |"
   ]
  },
  {
   "cell_type": "code",
   "execution_count": 12,
   "metadata": {
    "id": "NhOX-eo98M0R"
   },
   "outputs": [
    {
     "name": "stdout",
     "output_type": "stream",
     "text": [
      "\n",
      "Isolation Forest (Unsupervised) Evaluation:\n",
      "=============================================\n",
      "         Accuracy: 0.9949205903350772\n",
      "  Precision Score: 0.15789473684210525\n",
      "     Recall Score: 0.44594594594594594\n",
      "         F1 Score: 0.2332155477031802\n",
      "\n",
      "Classification Report:\n",
      "              precision    recall  f1-score   support\n",
      "\n",
      "           0       1.00      1.00      1.00     85295\n",
      "           1       0.16      0.45      0.23       148\n",
      "\n",
      "    accuracy                           0.99     85443\n",
      "   macro avg       0.58      0.72      0.62     85443\n",
      "weighted avg       1.00      0.99      1.00     85443\n",
      "\n"
     ]
    }
   ],
   "source": [
    "from sklearn.decomposition import PCA\n",
    "\n",
    "# Extract features and labels\n",
    "X = np.asarray(data.drop(columns=['Class']))\n",
    "y = np.asarray(data['Class'])\n",
    "\n",
    "# Split the dataset into training and testing sets (with stratification)\n",
    "x_train, x_test, y_train, y_test = train_test_split(\n",
    "   X, y, test_size=TEST_SIZE, random_state=RANDOM_SEED, stratify=y\n",
    ")\n",
    "\n",
    "scaler = StandardScaler()\n",
    "x_train = scaler.fit_transform(x_train)\n",
    "x_test = scaler.transform(x_test)\n",
    "\n",
    "pca = PCA(n_components=0.95, random_state=RANDOM_SEED)\n",
    "x_train_pca = pca.fit_transform(x_train)\n",
    "x_test_pca = pca.transform(x_test)\n",
    "\n",
    "print(\"保留維度數量:\", x_train_pca.shape[1])\n",
    "\n",
    "# Select a small sample of normal (non-fraud) data for unsupervised training\n",
    "n_x_train = x_train_pca[y_train == 0]\n",
    "n_x_train = n_x_train[:1000]\n",
    "\n",
    "scores = []\n",
    "for k in range(2, 5):\n",
    "   kmeans = KMeans(n_clusters=k, init='k-means++', random_state=RANDOM_SEED)\n",
    "   kmeans.fit(n_x_train)\n",
    "   score = silhouette_score(n_x_train, kmeans.labels_)\n",
    "   scores.append(score)\n",
    "\n",
    "optimal_k = np.argmax(scores) + 2\n",
    "kmeans = KMeans(n_clusters=optimal_k, init='k-means++', random_state=RANDOM_SEED)\n",
    "kmeans.fit(n_x_train)\n",
    "y_pred_test = kmeans.predict(x_test_pca)\n",
    "\n",
    "def align_labels(y_true, y_pred, n_clusters):\n",
    "   labels = np.zeros_like(y_pred)\n",
    "   for i in range(n_clusters):\n",
    "       mask = (y_pred == i)\n",
    "       if np.sum(mask) > 0:\n",
    "           labels[mask] = np.bincount(y_true[mask]).argmax()\n",
    "       else:\n",
    "           labels[mask] = 0  # Default to normal class\n",
    "   return labels\n",
    "\n",
    "y_pred_aligned = align_labels(y_test, y_pred_test, optimal_k)\n",
    "evaluation(y_test, y_pred_aligned, model_name=\"KMeans (Unsupervised)\")"
   ]
  },
  {
   "cell_type": "code",
   "execution_count": null,
   "metadata": {},
   "outputs": [],
   "source": []
  }
 ],
 "metadata": {
  "colab": {
   "provenance": []
  },
  "kernelspec": {
   "display_name": "Python 3 (ipykernel)",
   "language": "python",
   "name": "python3"
  },
  "language_info": {
   "codemirror_mode": {
    "name": "ipython",
    "version": 3
   },
   "file_extension": ".py",
   "mimetype": "text/x-python",
   "name": "python",
   "nbconvert_exporter": "python",
   "pygments_lexer": "ipython3",
   "version": "3.12.3"
  }
 },
 "nbformat": 4,
 "nbformat_minor": 4
}
