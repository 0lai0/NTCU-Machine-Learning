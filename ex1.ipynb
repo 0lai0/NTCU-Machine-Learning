{
  "nbformat": 4,
  "nbformat_minor": 0,
  "metadata": {
    "colab": {
      "provenance": []
    },
    "kernelspec": {
      "name": "python3",
      "display_name": "Python 3"
    },
    "language_info": {
      "name": "python"
    }
  },
  "cells": [
    {
      "cell_type": "code",
      "execution_count": 1,
      "metadata": {
        "id": "_xOjC-7UCpGo"
      },
      "outputs": [],
      "source": [
        "import kagglehub\n",
        "path = kagglehub.dataset_download(\"mlg-ulb/creditcardfraud\")\n"
      ]
    },
    {
      "cell_type": "code",
      "source": [
        "import pandas as pd\n",
        "from sklearn.preprocessing import StandardScaler\n",
        "\n",
        "data = pd.read_csv(f\"{path}/creditcard.csv\")\n",
        "data['Class'] = data['Class'].astype(int)\n",
        "data = data.drop(['Time'], axis=1)\n",
        "data['Amount'] = StandardScaler().fit_transform(data['Amount'].values.reshape(-1, 1))\n"
      ],
      "metadata": {
        "id": "QdvYEayaC1EV"
      },
      "execution_count": 2,
      "outputs": []
    },
    {
      "cell_type": "code",
      "source": [
        "from sklearn.ensemble import RandomForestClassifier\n",
        "from sklearn.model_selection import train_test_split\n",
        "from sklearn.metrics import classification_report\n",
        "\n",
        "X = data.drop(columns=['Class'])\n",
        "y = data['Class']\n",
        "\n",
        "X_train, X_test, y_train, y_test = train_test_split(X, y, test_size=0.3, random_state=42)\n",
        "model = RandomForestClassifier(n_estimators=100, random_state=42)\n",
        "model.fit(X_train, y_train)\n",
        "y_pred = model.predict(X_test)\n",
        "\n",
        "print(classification_report(y_test, y_pred))\n"
      ],
      "metadata": {
        "colab": {
          "base_uri": "https://localhost:8080/"
        },
        "id": "M9IsRUs-C4zI",
        "outputId": "504d1582-189a-48fe-82bf-146d8e608303"
      },
      "execution_count": 3,
      "outputs": [
        {
          "output_type": "stream",
          "name": "stdout",
          "text": [
            "              precision    recall  f1-score   support\n",
            "\n",
            "           0       1.00      1.00      1.00     85307\n",
            "           1       0.94      0.82      0.88       136\n",
            "\n",
            "    accuracy                           1.00     85443\n",
            "   macro avg       0.97      0.91      0.94     85443\n",
            "weighted avg       1.00      1.00      1.00     85443\n",
            "\n"
          ]
        }
      ]
    },
    {
      "cell_type": "code",
      "source": [
        "# 找出最佳的 k\n",
        "optimal_k = np.argmax(scores) + 2\n",
        "print(\"最佳的 k 值為：\", optimal_k)\n",
        "\n",
        "# 重新用最佳 k 訓練 KMeans\n",
        "kmeans = KMeans(n_clusters=optimal_k, random_state=42)\n",
        "kmeans.fit(x_train)\n",
        "\n",
        "# 對測試資料進行標準化（因為剛剛的 x_train 是標準化的）\n",
        "from sklearn.preprocessing import StandardScaler\n",
        "scaler = StandardScaler()\n",
        "x_test_scaled = scaler.fit_transform(X_test)\n",
        "\n",
        "# 對測試資料做預測\n",
        "y_pred_test = kmeans.predict(x_test_scaled)\n",
        "\n",
        "# 對齊 labels 的函式（因為 KMeans 分類結果不一定對應原本類別）\n",
        "def align_labels(y_true, y_pred, n_clusters):\n",
        "    labels = np.zeros_like(y_pred)\n",
        "    for i in range(n_clusters):\n",
        "        mask = (y_pred == i)\n",
        "        if np.sum(mask) > 0:\n",
        "            labels[mask] = np.bincount(y_true[mask]).argmax()\n",
        "        else:\n",
        "            labels[mask] = 0\n",
        "    return labels\n",
        "\n",
        "y_pred_aligned = align_labels(y_test, y_pred_test, optimal_k)\n",
        "\n",
        "# 評估結果\n",
        "from sklearn.metrics import classification_report\n",
        "print(classification_report(y_test, y_pred_aligned))\n"
      ],
      "metadata": {
        "colab": {
          "base_uri": "https://localhost:8080/"
        },
        "id": "55uYnZBkEEFv",
        "outputId": "7f98be26-d3af-4161-897c-3c83339e97e0"
      },
      "execution_count": 5,
      "outputs": [
        {
          "output_type": "stream",
          "name": "stdout",
          "text": [
            "最佳的 k 值為： 2\n",
            "              precision    recall  f1-score   support\n",
            "\n",
            "           0       1.00      1.00      1.00     85307\n",
            "           1       0.00      0.00      0.00       136\n",
            "\n",
            "    accuracy                           1.00     85443\n",
            "   macro avg       0.50      0.50      0.50     85443\n",
            "weighted avg       1.00      1.00      1.00     85443\n",
            "\n"
          ]
        },
        {
          "output_type": "stream",
          "name": "stderr",
          "text": [
            "/usr/local/lib/python3.11/dist-packages/sklearn/utils/validation.py:2739: UserWarning: X does not have valid feature names, but KMeans was fitted with feature names\n",
            "  warnings.warn(\n",
            "/usr/local/lib/python3.11/dist-packages/sklearn/metrics/_classification.py:1565: UndefinedMetricWarning: Precision is ill-defined and being set to 0.0 in labels with no predicted samples. Use `zero_division` parameter to control this behavior.\n",
            "  _warn_prf(average, modifier, f\"{metric.capitalize()} is\", len(result))\n",
            "/usr/local/lib/python3.11/dist-packages/sklearn/metrics/_classification.py:1565: UndefinedMetricWarning: Precision is ill-defined and being set to 0.0 in labels with no predicted samples. Use `zero_division` parameter to control this behavior.\n",
            "  _warn_prf(average, modifier, f\"{metric.capitalize()} is\", len(result))\n",
            "/usr/local/lib/python3.11/dist-packages/sklearn/metrics/_classification.py:1565: UndefinedMetricWarning: Precision is ill-defined and being set to 0.0 in labels with no predicted samples. Use `zero_division` parameter to control this behavior.\n",
            "  _warn_prf(average, modifier, f\"{metric.capitalize()} is\", len(result))\n"
          ]
        }
      ]
    },
    {
      "cell_type": "code",
      "source": [
        "from sklearn.ensemble import RandomForestClassifier\n",
        "from sklearn.model_selection import train_test_split\n",
        "from sklearn.metrics import classification_report\n",
        "\n",
        "X = data.drop(columns=['Class'])\n",
        "y = data['Class']\n",
        "\n",
        "X_train, X_test, y_train, y_test = train_test_split(X, y, test_size=0.3, random_state=42)\n",
        "model = RandomForestClassifier(n_estimators=100, random_state=42)\n",
        "model.fit(X_train, y_train)\n",
        "y_pred = model.predict(X_test)\n",
        "\n",
        "print(classification_report(y_test, y_pred))\n"
      ],
      "metadata": {
        "colab": {
          "base_uri": "https://localhost:8080/"
        },
        "id": "a1o0atjxESdJ",
        "outputId": "d7f42f05-4c39-44e0-cd3d-45527412a16d"
      },
      "execution_count": 6,
      "outputs": [
        {
          "output_type": "stream",
          "name": "stdout",
          "text": [
            "              precision    recall  f1-score   support\n",
            "\n",
            "           0       1.00      1.00      1.00     85307\n",
            "           1       0.94      0.82      0.88       136\n",
            "\n",
            "    accuracy                           1.00     85443\n",
            "   macro avg       0.97      0.91      0.94     85443\n",
            "weighted avg       1.00      1.00      1.00     85443\n",
            "\n"
          ]
        }
      ]
    }
  ]
}