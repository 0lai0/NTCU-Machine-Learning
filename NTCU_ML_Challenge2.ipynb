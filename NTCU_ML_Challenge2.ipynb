{
  "nbformat": 4,
  "nbformat_minor": 0,
  "metadata": {
    "colab": {
      "provenance": [],
      "collapsed_sections": [
        "4Y2cxMmX3m_L"
      ],
      "authorship_tag": "ABX9TyNS+5NVtePhMdnNiJHhADKt",
      "include_colab_link": true
    },
    "kernelspec": {
      "name": "python3",
      "display_name": "Python 3"
    },
    "language_info": {
      "name": "python"
    }
  },
  "cells": [
    {
      "cell_type": "markdown",
      "metadata": {
        "id": "view-in-github",
        "colab_type": "text"
      },
      "source": [
        "<a href=\"https://colab.research.google.com/github/Sandrala0413/NTCU-Machine-Learning/blob/main/NTCU_ML_Challenge2.ipynb\" target=\"_parent\"><img src=\"https://colab.research.google.com/assets/colab-badge.svg\" alt=\"Open In Colab\"/></a>"
      ]
    },
    {
      "cell_type": "markdown",
      "source": [
        "## Import Necessary Package\n"
      ],
      "metadata": {
        "id": "wnMZj6n_rKRm"
      }
    },
    {
      "cell_type": "code",
      "execution_count": 2,
      "metadata": {
        "id": "1HTt1kdhq7Ve"
      },
      "outputs": [],
      "source": [
        "import numpy as np\n",
        "import pandas as pd\n",
        "from sklearn.model_selection import train_test_split, GridSearchCV\n",
        "from sklearn.preprocessing import StandardScaler\n",
        "from sklearn.ensemble import RandomForestClassifier\n",
        "from sklearn.metrics import classification_report\n",
        "from sklearn.cluster import KMeans\n",
        "from sklearn.metrics import silhouette_score, accuracy_score, precision_score, recall_score, f1_score, roc_auc_score, confusion_matrix\n",
        "from sklearn.decomposition import PCA\n",
        "from sklearn.ensemble import IsolationForest\n",
        "from xgboost import XGBClassifier\n",
        "from sklearn.metrics import precision_recall_curve, average_precision_score\n",
        "import matplotlib.pyplot as plt\n",
        "import kagglehub\n",
        "\n",
        "# general setting. do not change TEST_SIZE\n",
        "RANDOM_SEED = 42\n",
        "TEST_SIZE = 0.3"
      ]
    },
    {
      "cell_type": "markdown",
      "source": [
        "## Load Dataset & Prepare Data"
      ],
      "metadata": {
        "id": "MgaFEllSrU-d"
      }
    },
    {
      "cell_type": "code",
      "source": [
        "# load dataset（from kagglehub）\n",
        "path = kagglehub.dataset_download(\"mlg-ulb/creditcardfraud\")\n",
        "data = pd.read_csv(f\"{path}/creditcard.csv\")\n",
        "data['Class'] = data['Class'].astype(int)\n",
        "\n",
        "# prepare data\n",
        "data = data.drop(['Time'], axis=1)  #拿掉Time欄位\n",
        "data['Amount'] = StandardScaler().fit_transform(data['Amount'].values.reshape(-1, 1))"
      ],
      "metadata": {
        "id": "GdDIeBULrXGZ"
      },
      "execution_count": 294,
      "outputs": []
    },
    {
      "cell_type": "markdown",
      "source": [
        "## Fraud/Non-Fraud Transactions"
      ],
      "metadata": {
        "id": "zNrPzWvlrlV1"
      }
    },
    {
      "cell_type": "code",
      "source": [
        "fraud = data[data['Class'] == 1]\n",
        "nonfraud = data[data['Class'] == 0]\n",
        "print(f'Fraudulent:{len(fraud)}, non-fraudulent:{len(nonfraud)}')\n",
        "print(f'the positive class (frauds) percentage: {len(fraud)}/{len(fraud) + len(nonfraud)} ({len(fraud)/(len(fraud) + len(nonfraud))*100:.3f}%)')"
      ],
      "metadata": {
        "colab": {
          "base_uri": "https://localhost:8080/"
        },
        "id": "yAFvI_PgrmvC",
        "outputId": "cf5f9c87-1387-44f8-b376-467548a36034"
      },
      "execution_count": 4,
      "outputs": [
        {
          "output_type": "stream",
          "name": "stdout",
          "text": [
            "Fraudulent:492, non-fraudulent:284315\n",
            "the positive class (frauds) percentage: 492/284807 (0.173%)\n"
          ]
        }
      ]
    },
    {
      "cell_type": "markdown",
      "source": [
        "## 非監督學習（isolation）+ 監督學習（XGBoost）\n"
      ],
      "metadata": {
        "id": "4Y2cxMmX3m_L"
      }
    },
    {
      "cell_type": "code",
      "source": [
        "import numpy as np\n",
        "import pandas as pd\n",
        "import matplotlib.pyplot as plt\n",
        "from sklearn.model_selection import train_test_split\n",
        "from sklearn.preprocessing import StandardScaler\n",
        "from sklearn.ensemble import IsolationForest\n",
        "from sklearn.metrics import precision_recall_curve, f1_score, confusion_matrix\n",
        "from xgboost import XGBClassifier\n",
        "\n",
        "# === 資料切分與標準化 ===\n",
        "X = data.drop(columns=['Class'])\n",
        "y = data['Class']\n",
        "\n",
        "X_train, X_test, y_train, y_test = train_test_split(\n",
        "    X, y, test_size=TEST_SIZE, random_state=42,\n",
        ")\n",
        "\n",
        "scaler = StandardScaler()\n",
        "X_train_scaled = scaler.fit_transform(X_train)\n",
        "X_test_scaled = scaler.transform(X_test)\n",
        "\n",
        "pca = PCA(n_components=25)\n",
        "x_train = pca.fit_transform(X_train_scaled)\n",
        "x_test = pca.transform(X_test_scaled)\n",
        "# === Isolation Forest 異常偵測 ===\n",
        "iso_forest = IsolationForest(\n",
        "    n_estimators=600,\n",
        "    contamination=0.017,\n",
        "    max_features=10,\n",
        "    random_state=42\n",
        ")\n",
        "iso_forest.fit(X_train_scaled)\n",
        "\n",
        "# 計算異常標籤與異常分數（分數越小越異常）\n",
        "iso_train_labels = (iso_forest.predict(X_train_scaled) == -1).astype(int)\n",
        "train_anomaly_scores = iso_forest.decision_function(X_train_scaled)\n",
        "\n",
        "iso_test_labels = (iso_forest.predict(X_test_scaled) == -1).astype(int)\n",
        "test_anomaly_scores = iso_forest.decision_function(X_test_scaled)\n",
        "\n",
        "# 將異常資訊加入資料中\n",
        "X_train_df = pd.DataFrame(X_train_scaled, columns=X.columns)\n",
        "X_test_df = pd.DataFrame(X_test_scaled, columns=X.columns)\n",
        "\n",
        "X_train_df['isolation_label'] = iso_train_labels\n",
        "X_train_df['anomaly_score'] = train_anomaly_scores\n",
        "\n",
        "X_test_df['isolation_label'] = iso_test_labels\n",
        "X_test_df['anomaly_score'] = test_anomaly_scores\n",
        "\n",
        "# === 訓練 XGBoost 模型 ===\n",
        "scale_weight = (y_train == 0).sum() / (y_train == 1).sum()\n",
        "\n",
        "xgb_model = XGBClassifier(\n",
        "    max_depth=8,\n",
        "    n_estimators=600,\n",
        "    scale_pos_weight=70,\n",
        "    eval_metric='logloss',\n",
        "    early_stopping_rounds=10,\n",
        "    random_state=42\n",
        ")\n",
        "\n",
        "xgb_model.fit(X_train_df, y_train, eval_set=[(X_test_df, y_test)], verbose=False)\n",
        "\n",
        "# === 預測 ===\n",
        "y_probs = xgb_model.predict_proba(X_test_df)[:, 1]\n"
      ],
      "metadata": {
        "id": "9d9zn8kZp6Pi"
      },
      "execution_count": 290,
      "outputs": []
    },
    {
      "cell_type": "markdown",
      "source": [
        "## Result"
      ],
      "metadata": {
        "id": "ednVAcJFrrb8"
      }
    },
    {
      "cell_type": "code",
      "source": [
        "def evaluation(y_true, y_pred, model_name=\"Model\"):\n",
        "   accuracy = accuracy_score(y_true, y_pred)\n",
        "   precision = precision_score(y_true, y_pred, zero_division=0)\n",
        "   recall = recall_score(y_true, y_pred)\n",
        "   f1 = f1_score(y_true, y_pred)\n",
        "\n",
        "   print(f'\\n{model_name} Evaluation:')\n",
        "   print('===' * 15)\n",
        "   print('         Accuracy:', accuracy)\n",
        "   print('  Precision Score:', precision)\n",
        "   print('     Recall Score:', recall)\n",
        "   print('         F1 Score:', f1)\n",
        "   print(\"\\nClassification Report:\")\n",
        "   print(classification_report(y_true, y_pred))\n",
        "\n",
        "# precision-recall 曲線找最佳 threshold\n",
        "precision, recall, thresholds = precision_recall_curve(y_test, y_probs)\n",
        "f1_scores = 2 * (precision * recall) / (precision + recall + 1e-6)\n",
        "best_threshold = thresholds[np.argmax(f1_scores)]\n",
        "\n",
        "print(f\"Best Threshold by F1: {best_threshold:.4f}\")\n",
        "\n",
        "y_pred = (y_probs >= 0.4988).astype(int)\n",
        "evaluation(y_test, y_pred, model_name=\"Hybrid Model\")"
      ],
      "metadata": {
        "colab": {
          "base_uri": "https://localhost:8080/"
        },
        "id": "n16PFJFLrtvx",
        "outputId": "4b7ef42b-90a1-4ca7-bf77-cac4d3c97e8a"
      },
      "execution_count": 293,
      "outputs": [
        {
          "output_type": "stream",
          "name": "stdout",
          "text": [
            "🔍 Best Threshold by F1: 0.4988\n",
            "\n",
            "Hybrid Model Evaluation:\n",
            "=============================================\n",
            "         Accuracy: 0.9996839998595555\n",
            "  Precision Score: 0.936\n",
            "     Recall Score: 0.8602941176470589\n",
            "         F1 Score: 0.896551724137931\n",
            "\n",
            "Classification Report:\n",
            "              precision    recall  f1-score   support\n",
            "\n",
            "           0       1.00      1.00      1.00     85307\n",
            "           1       0.94      0.86      0.90       136\n",
            "\n",
            "    accuracy                           1.00     85443\n",
            "   macro avg       0.97      0.93      0.95     85443\n",
            "weighted avg       1.00      1.00      1.00     85443\n",
            "\n"
          ]
        }
      ]
    }
  ]
}