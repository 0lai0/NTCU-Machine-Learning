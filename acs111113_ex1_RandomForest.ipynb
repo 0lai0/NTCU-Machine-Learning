{
 "cells": [
  {
   "cell_type": "code",
   "execution_count": null,
   "id": "77ed5736",
   "metadata": {},
   "outputs": [],
   "source": [
    "import numpy as np\n",
    "import pandas as pd\n",
    "from sklearn.model_selection import train_test_split\n",
    "from sklearn.preprocessing import StandardScaler\n",
    "from sklearn.ensemble import RandomForestClassifier\n",
    "from sklearn.model_selection import GridSearchCV\n",
    "from sklearn.metrics import (\n",
    "    classification_report, accuracy_score, precision_score,\n",
    "    recall_score, f1_score, confusion_matrix\n",
    ")\n",
    "import kagglehub"
   ]
  },
  {
   "cell_type": "code",
   "execution_count": null,
   "id": "2da70e28",
   "metadata": {},
   "outputs": [],
   "source": [
    "# general setting. do not change TEST_SIZE\n",
    "RANDOM_SEED = 42\n",
    "TEST_SIZE = 0.3"
   ]
  },
  {
   "cell_type": "code",
   "execution_count": null,
   "id": "18d0b704",
   "metadata": {},
   "outputs": [],
   "source": [
    "# load dataset\n",
    "path = kagglehub.dataset_download(\"mlg-ulb/creditcardfraud\")\n",
    "data = pd.read_csv(f\"{path}/creditcard.csv\")\n",
    "data['Class'] = data['Class'].astype(int)"
   ]
  },
  {
   "cell_type": "code",
   "execution_count": null,
   "id": "89cee374",
   "metadata": {},
   "outputs": [],
   "source": [
    "# prepare data\n",
    "data = data.drop(['Time'], axis=1)\n",
    "data['Amount'] = StandardScaler().fit_transform(data['Amount'].values.reshape(-1, 1))"
   ]
  },
  {
   "cell_type": "code",
   "execution_count": null,
   "id": "32ba94f7",
   "metadata": {},
   "outputs": [],
   "source": [
    "# feature matrix and target vector\n",
    "X = data.drop(['Class'], axis=1).values\n",
    "Y = data['Class'].values\n",
    "\n",
    "# train-test split\n",
    "X_train, X_test, y_train, y_test = train_test_split(\n",
    "    X, Y, test_size=TEST_SIZE, random_state=RANDOM_SEED\n",
    ")"
   ]
  },
  {
   "cell_type": "code",
   "execution_count": null,
   "id": "f195e705",
   "metadata": {},
   "outputs": [],
   "source": [
    "# evaluation function\n",
    "def evaluation(y_true, y_pred, model_name=\"Model\"):\n",
    "    accuracy = accuracy_score(y_true, y_pred)\n",
    "    precision = precision_score(y_true, y_pred)\n",
    "    recall = recall_score(y_true, y_pred)\n",
    "    f1 = f1_score(y_true, y_pred)\n",
    "\n",
    "    print(f'\\n{model_name} Evaluation:')\n",
    "    print('===' * 15)\n",
    "    print(f'         Accuracy: {accuracy:.15f}')\n",
    "    print(f'  Precision Score: {precision:.15f}')\n",
    "    print(f'     Recall Score: {recall:.15f}')\n",
    "    print(f'         F1 Score: {f1:.15f}')\n",
    "    print(\"\\nClassification Report:\")\n",
    "    print(classification_report(y_true, y_pred))"
   ]
  },
  {
   "cell_type": "code",
   "execution_count": null,
   "id": "decd7b98",
   "metadata": {},
   "outputs": [],
   "source": [
    "# define hyperparameter grid\n",
    "param_grid = {\n",
    "    'n_estimators': [100, 200],\n",
    "    'max_depth': [10, 20, None],\n",
    "    'min_samples_split': [2, 5],\n",
    "    'min_samples_leaf': [1, 2],\n",
    "    'max_features': ['sqrt', 'log2'],\n",
    "    'class_weight': ['balanced']\n",
    "}"
   ]
  },
  {
   "cell_type": "code",
   "execution_count": null,
   "id": "9edbcb5b",
   "metadata": {},
   "outputs": [],
   "source": [
    "# initialize base model\n",
    "base_rf = RandomForestClassifier(random_state=RANDOM_SEED)"
   ]
  },
  {
   "cell_type": "code",
   "execution_count": null,
   "id": "cec36ee3",
   "metadata": {},
   "outputs": [],
   "source": [
    "# set up GridSearchCV\n",
    "grid_search = GridSearchCV(\n",
    "    estimator=base_rf,\n",
    "    param_grid=param_grid,\n",
    "    scoring='accuracy',     # You can try 'f1' or 'recall' too\n",
    "    cv=3,\n",
    "    n_jobs=-1,              # Use all CPU cores\n",
    "    verbose=2               # Print progress\n",
    ")"
   ]
  },
  {
   "cell_type": "code",
   "execution_count": null,
   "id": "af3dc6a1",
   "metadata": {},
   "outputs": [],
   "source": [
    "# run the search\n",
    "print(\"Running grid search... (this may take a few minutes)\")\n",
    "grid_search.fit(X_train, y_train)"
   ]
  },
  {
   "cell_type": "code",
   "execution_count": null,
   "id": "0cfd6690",
   "metadata": {},
   "outputs": [],
   "source": [
    "# get the best model\n",
    "best_rf = grid_search.best_estimator_\n",
    "print(f\"\\nBest Parameters:\\n{grid_search.best_params_}\")"
   ]
  },
  {
   "cell_type": "code",
   "execution_count": null,
   "id": "c9edbf48",
   "metadata": {},
   "outputs": [],
   "source": [
    "# predict and evaluate\n",
    "y_pred = best_rf.predict(X_test)\n",
    "evaluation(y_test, y_pred, \"Tuned Random Forest\")"
   ]
  }
 ],
 "metadata": {
  "kernelspec": {
   "display_name": "Python 3",
   "name": "python3"
  }
 },
 "nbformat": 4,
 "nbformat_minor": 5
}
