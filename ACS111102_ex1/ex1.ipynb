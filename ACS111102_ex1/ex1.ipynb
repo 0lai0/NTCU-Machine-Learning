{
 "cells": [
  {
   "cell_type": "code",
   "execution_count": 28,
   "id": "c97ecae6",
   "metadata": {},
   "outputs": [
    {
     "name": "stdout",
     "output_type": "stream",
     "text": [
      "Fraudulent:492, non-fraudulent:56863\n",
      "the positive class (frauds) percentage: 492/57355 (0.858%)\n"
     ]
    }
   ],
   "source": [
    "import numpy as np\n",
    "import pandas as pd\n",
    "from sklearn.model_selection import train_test_split\n",
    "from sklearn.model_selection import GridSearchCV\n",
    "from sklearn.preprocessing import StandardScaler\n",
    "from sklearn.ensemble import RandomForestClassifier\n",
    "from sklearn.metrics import classification_report\n",
    "from sklearn.cluster import KMeans\n",
    "from sklearn.metrics import silhouette_score, accuracy_score,precision_score, recall_score, f1_score\n",
    "import kagglehub\n",
    "from sklearn.decomposition import PCA\n",
    "\n",
    "# general setting. do not change TEST_SIZE\n",
    "RANDOM_SEED = 42\n",
    "TEST_SIZE = 0.3\n",
    "\n",
    "# load dataset（from kagglehub）\n",
    "path = kagglehub.dataset_download(\"mlg-ulb/creditcardfraud\")\n",
    "data = pd.read_csv(f\"{path}/creditcard.csv\")\n",
    "data['Class'] = data['Class'].astype(int)\n",
    "\n",
    "# prepare data\n",
    "data = data.drop(['Time'], axis=1)\n",
    "data['Amount'] = StandardScaler().fit_transform(data['Amount'].values.reshape(-1, 1))\n",
    "fraud = data[data['Class'] == 1]\n",
    "nonfraud = data[data['Class'] == 0].sample(frac=0.2, random_state=42)\n",
    "data_small = pd.concat([fraud, nonfraud])\n",
    "print(f'Fraudulent:{len(fraud)}, non-fraudulent:{len(nonfraud)}')\n",
    "print(f'the positive class (frauds) percentage: {len(fraud)}/{len(fraud) + len(nonfraud)} ({len(fraud)/(len(fraud) + len(nonfraud))*100:.3f}%)')"
   ]
  },
  {
   "cell_type": "markdown",
   "id": "dce46863",
   "metadata": {},
   "source": [
    "監督式 "
   ]
  },
  {
   "cell_type": "code",
   "execution_count": 26,
   "id": "080beb0a",
   "metadata": {},
   "outputs": [
    {
     "name": "stderr",
     "output_type": "stream",
     "text": [
      "C:\\Users\\huach\\AppData\\Local\\Temp\\ipykernel_11676\\411559954.py:15: DataConversionWarning: A column-vector y was passed when a 1d array was expected. Please change the shape of y to (n_samples,), for example using ravel().\n",
      "  rf.fit(X_train, y_train)\n"
     ]
    },
    {
     "data": {
      "text/html": [
       "<style>#sk-container-id-2 {color: black;background-color: white;}#sk-container-id-2 pre{padding: 0;}#sk-container-id-2 div.sk-toggleable {background-color: white;}#sk-container-id-2 label.sk-toggleable__label {cursor: pointer;display: block;width: 100%;margin-bottom: 0;padding: 0.3em;box-sizing: border-box;text-align: center;}#sk-container-id-2 label.sk-toggleable__label-arrow:before {content: \"▸\";float: left;margin-right: 0.25em;color: #696969;}#sk-container-id-2 label.sk-toggleable__label-arrow:hover:before {color: black;}#sk-container-id-2 div.sk-estimator:hover label.sk-toggleable__label-arrow:before {color: black;}#sk-container-id-2 div.sk-toggleable__content {max-height: 0;max-width: 0;overflow: hidden;text-align: left;background-color: #f0f8ff;}#sk-container-id-2 div.sk-toggleable__content pre {margin: 0.2em;color: black;border-radius: 0.25em;background-color: #f0f8ff;}#sk-container-id-2 input.sk-toggleable__control:checked~div.sk-toggleable__content {max-height: 200px;max-width: 100%;overflow: auto;}#sk-container-id-2 input.sk-toggleable__control:checked~label.sk-toggleable__label-arrow:before {content: \"▾\";}#sk-container-id-2 div.sk-estimator input.sk-toggleable__control:checked~label.sk-toggleable__label {background-color: #d4ebff;}#sk-container-id-2 div.sk-label input.sk-toggleable__control:checked~label.sk-toggleable__label {background-color: #d4ebff;}#sk-container-id-2 input.sk-hidden--visually {border: 0;clip: rect(1px 1px 1px 1px);clip: rect(1px, 1px, 1px, 1px);height: 1px;margin: -1px;overflow: hidden;padding: 0;position: absolute;width: 1px;}#sk-container-id-2 div.sk-estimator {font-family: monospace;background-color: #f0f8ff;border: 1px dotted black;border-radius: 0.25em;box-sizing: border-box;margin-bottom: 0.5em;}#sk-container-id-2 div.sk-estimator:hover {background-color: #d4ebff;}#sk-container-id-2 div.sk-parallel-item::after {content: \"\";width: 100%;border-bottom: 1px solid gray;flex-grow: 1;}#sk-container-id-2 div.sk-label:hover label.sk-toggleable__label {background-color: #d4ebff;}#sk-container-id-2 div.sk-serial::before {content: \"\";position: absolute;border-left: 1px solid gray;box-sizing: border-box;top: 0;bottom: 0;left: 50%;z-index: 0;}#sk-container-id-2 div.sk-serial {display: flex;flex-direction: column;align-items: center;background-color: white;padding-right: 0.2em;padding-left: 0.2em;position: relative;}#sk-container-id-2 div.sk-item {position: relative;z-index: 1;}#sk-container-id-2 div.sk-parallel {display: flex;align-items: stretch;justify-content: center;background-color: white;position: relative;}#sk-container-id-2 div.sk-item::before, #sk-container-id-2 div.sk-parallel-item::before {content: \"\";position: absolute;border-left: 1px solid gray;box-sizing: border-box;top: 0;bottom: 0;left: 50%;z-index: -1;}#sk-container-id-2 div.sk-parallel-item {display: flex;flex-direction: column;z-index: 1;position: relative;background-color: white;}#sk-container-id-2 div.sk-parallel-item:first-child::after {align-self: flex-end;width: 50%;}#sk-container-id-2 div.sk-parallel-item:last-child::after {align-self: flex-start;width: 50%;}#sk-container-id-2 div.sk-parallel-item:only-child::after {width: 0;}#sk-container-id-2 div.sk-dashed-wrapped {border: 1px dashed gray;margin: 0 0.4em 0.5em 0.4em;box-sizing: border-box;padding-bottom: 0.4em;background-color: white;}#sk-container-id-2 div.sk-label label {font-family: monospace;font-weight: bold;display: inline-block;line-height: 1.2em;}#sk-container-id-2 div.sk-label-container {text-align: center;}#sk-container-id-2 div.sk-container {/* jupyter's `normalize.less` sets `[hidden] { display: none; }` but bootstrap.min.css set `[hidden] { display: none !important; }` so we also need the `!important` here to be able to override the default hidden behavior on the sphinx rendered scikit-learn.org. See: https://github.com/scikit-learn/scikit-learn/issues/21755 */display: inline-block !important;position: relative;}#sk-container-id-2 div.sk-text-repr-fallback {display: none;}</style><div id=\"sk-container-id-2\" class=\"sk-top-container\"><div class=\"sk-text-repr-fallback\"><pre>RandomForestClassifier(class_weight=&#x27;balanced&#x27;, max_depth=20,\n",
       "                       min_samples_leaf=2, n_estimators=125, random_state=42)</pre><b>In a Jupyter environment, please rerun this cell to show the HTML representation or trust the notebook. <br />On GitHub, the HTML representation is unable to render, please try loading this page with nbviewer.org.</b></div><div class=\"sk-container\" hidden><div class=\"sk-item\"><div class=\"sk-estimator sk-toggleable\"><input class=\"sk-toggleable__control sk-hidden--visually\" id=\"sk-estimator-id-2\" type=\"checkbox\" checked><label for=\"sk-estimator-id-2\" class=\"sk-toggleable__label sk-toggleable__label-arrow\">RandomForestClassifier</label><div class=\"sk-toggleable__content\"><pre>RandomForestClassifier(class_weight=&#x27;balanced&#x27;, max_depth=20,\n",
       "                       min_samples_leaf=2, n_estimators=125, random_state=42)</pre></div></div></div></div></div>"
      ],
      "text/plain": [
       "RandomForestClassifier(class_weight='balanced', max_depth=20,\n",
       "                       min_samples_leaf=2, n_estimators=125, random_state=42)"
      ]
     },
     "execution_count": 26,
     "metadata": {},
     "output_type": "execute_result"
    }
   ],
   "source": [
    "X = np.asarray(data.iloc[:, ~data.columns.isin(['Class'])])\n",
    "Y = np.asarray(data.iloc[:, data.columns == 'Class'])\n",
    "\n",
    "X_train, X_test, y_train, y_test = train_test_split(X, Y, test_size=TEST_SIZE, random_state=RANDOM_SEED)\n",
    "\n",
    "# 建立 Random Forest 模型\n",
    "rf = RandomForestClassifier(\n",
    "    n_estimators=125,\n",
    "    max_depth=20,\n",
    "    min_samples_leaf=2,\n",
    "    class_weight='balanced',\n",
    "    random_state=RANDOM_SEED\n",
    ")\n",
    "\n",
    "rf.fit(X_train, y_train)"
   ]
  },
  {
   "cell_type": "markdown",
   "id": "c65b9cff",
   "metadata": {},
   "source": [
    "result of 監督式"
   ]
  },
  {
   "cell_type": "code",
   "execution_count": 27,
   "id": "c0209575",
   "metadata": {},
   "outputs": [
    {
     "name": "stdout",
     "output_type": "stream",
     "text": [
      "\n",
      "Model Evaluation:\n",
      "=============================================\n",
      "         Accuracy: 0.9996605924417448\n",
      "  Precision Score: 0.9421487603305785\n",
      "     Recall Score: 0.8382352941176471\n",
      "         F1 Score: 0.8871595330739299\n",
      "\n",
      "Classification Report:\n",
      "              precision    recall  f1-score   support\n",
      "\n",
      "           0       1.00      1.00      1.00     85307\n",
      "           1       0.94      0.84      0.89       136\n",
      "\n",
      "    accuracy                           1.00     85443\n",
      "   macro avg       0.97      0.92      0.94     85443\n",
      "weighted avg       1.00      1.00      1.00     85443\n",
      "\n"
     ]
    }
   ],
   "source": [
    "# define evaluation function\n",
    "def evaluation(y_true, y_pred, model_name=\"Model\"):\n",
    "    accuracy = accuracy_score(y_true, y_pred)\n",
    "    precision = precision_score(y_true, y_pred)\n",
    "    recall = recall_score(y_true, y_pred)\n",
    "    f1 = f1_score(y_true, y_pred)\n",
    "\n",
    "    print(f'\\n{model_name} Evaluation:')\n",
    "    print('===' * 15)\n",
    "    print('         Accuracy:', accuracy)\n",
    "    print('  Precision Score:', precision)\n",
    "    print('     Recall Score:', recall)\n",
    "    print('         F1 Score:', f1)\n",
    "    print(\"\\nClassification Report:\")\n",
    "    print(classification_report(y_true, y_pred))\n",
    "\n",
    "# predict and print result\n",
    "y_pred = rf.predict(X_test)\n",
    "evaluation(y_test, y_pred)\n",
    "#print(classification_report(y_test, y_pred))\n"
   ]
  },
  {
   "cell_type": "markdown",
   "id": "1f832a8a",
   "metadata": {},
   "source": [
    "非監督式"
   ]
  },
  {
   "cell_type": "code",
   "execution_count": 29,
   "id": "f99889bd",
   "metadata": {},
   "outputs": [],
   "source": [
    "# Extract features and labels\n",
    "selected_features = data_small.columns.drop('Class')\n",
    "X = data_small[selected_features].to_numpy()\n",
    "y = data_small['Class'].to_numpy()\n",
    "\n",
    "# Train-test split (with stratify)\n",
    "X_train, X_test, y_train, y_test = train_test_split(\n",
    "    X, y, test_size=TEST_SIZE, random_state=RANDOM_SEED, stratify=y\n",
    ")\n",
    "\n",
    "# Train Isolation Forest only on normal data\n",
    "from sklearn.ensemble import IsolationForest\n",
    "\n",
    "iso_model = IsolationForest(\n",
    "    n_estimators=1000,\n",
    "    contamination='auto',\n",
    "    random_state=RANDOM_SEED\n",
    ")\n",
    "iso_model.fit(X_train[y_train == 0])  # only fit normal\n",
    "\n",
    "# Predict anomaly scores\n",
    "test_scores = -iso_model.decision_function(X_test)\n",
    "threshold = np.percentile(test_scores, 97)\n",
    "y_pred = (test_scores > threshold).astype(int)\n"
   ]
  },
  {
   "cell_type": "markdown",
   "id": "e0db2b31",
   "metadata": {},
   "source": [
    "result of 非監督式"
   ]
  },
  {
   "cell_type": "code",
   "execution_count": 31,
   "id": "dfaf10f3",
   "metadata": {},
   "outputs": [
    {
     "name": "stdout",
     "output_type": "stream",
     "text": [
      "\n",
      "KMeans (Unsupervised) Evaluation:\n",
      "=============================================\n",
      "         Accuracy: 0.9750682861626082\n",
      "  Precision Score: 0.22823984526112184\n",
      "     Recall Score: 0.7972972972972973\n",
      "         F1 Score: 0.35488721804511275\n",
      "\n",
      "Classification Report:\n",
      "              precision    recall  f1-score   support\n",
      "\n",
      "           0       1.00      0.98      0.99     17059\n",
      "           1       0.23      0.80      0.35       148\n",
      "\n",
      "    accuracy                           0.98     17207\n",
      "   macro avg       0.61      0.89      0.67     17207\n",
      "weighted avg       0.99      0.98      0.98     17207\n",
      "\n"
     ]
    }
   ],
   "source": [
    "def evaluation(y_true, y_pred, model_name=\"Model\"):\n",
    "   accuracy = accuracy_score(y_true, y_pred)\n",
    "   precision = precision_score(y_true, y_pred, zero_division=0)\n",
    "   recall = recall_score(y_true, y_pred)\n",
    "   f1 = f1_score(y_true, y_pred)\n",
    "\n",
    "   print(f'\\n{model_name} Evaluation:')\n",
    "   print('===' * 15)\n",
    "   print('         Accuracy:', accuracy)\n",
    "   print('  Precision Score:', precision)\n",
    "   print('     Recall Score:', recall)\n",
    "   print('         F1 Score:', f1)\n",
    "   print(\"\\nClassification Report:\")\n",
    "   print(classification_report(y_true, y_pred))\n",
    "\n",
    "evaluation(y_test, y_pred, model_name=\"KMeans (Unsupervised)\")"
   ]
  }
 ],
 "metadata": {
  "kernelspec": {
   "display_name": "Python (ml06)",
   "language": "python",
   "name": "ml06"
  },
  "language_info": {
   "codemirror_mode": {
    "name": "ipython",
    "version": 3
   },
   "file_extension": ".py",
   "mimetype": "text/x-python",
   "name": "python",
   "nbconvert_exporter": "python",
   "pygments_lexer": "ipython3",
   "version": "3.11.11"
  }
 },
 "nbformat": 4,
 "nbformat_minor": 5
}
