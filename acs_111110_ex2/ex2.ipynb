{
 "cells": [
  {
   "cell_type": "markdown",
   "id": "d1c3a372",
   "metadata": {},
   "source": [
    "匯入必要內容"
   ]
  },
  {
   "cell_type": "code",
   "execution_count": 333,
   "id": "ffc2dcd6",
   "metadata": {},
   "outputs": [],
   "source": [
    "import numpy as np\n",
    "import pandas as pd\n",
    "from sklearn.preprocessing import StandardScaler\n",
    "from sklearn.model_selection import train_test_split\n",
    "from sklearn.ensemble import IsolationForest # For Isolation Forest\n",
    "from sklearn.metrics import precision_recall_curve,accuracy_score, precision_score, recall_score, f1_score, classification_report\n",
    "import kagglehub\n",
    "from sklearn.decomposition import PCA\n",
    "from xgboost import XGBClassifier\n",
    "# general setting. do not change TEST_SIZE\n",
    "RANDOM_SEED = 42\n",
    "TEST_SIZE = 0.3\n"
   ]
  },
  {
   "cell_type": "markdown",
   "id": "fce6380a",
   "metadata": {},
   "source": [
    "匯入dataset 準備data"
   ]
  },
  {
   "cell_type": "code",
   "execution_count": 334,
   "id": "9375989c",
   "metadata": {},
   "outputs": [],
   "source": [
    "\n",
    "path = kagglehub.dataset_download(\"mlg-ulb/creditcardfraud\")\n",
    "data = pd.read_csv(f\"{path}/creditcard.csv\")\n",
    "data['Class'] = data['Class'].astype(int)\n",
    "\n",
    "data = data.drop(['Time'], axis=1)\n",
    "data['Amount'] = StandardScaler().fit_transform(data['Amount'].values.reshape(-1, 1))"
   ]
  },
  {
   "cell_type": "markdown",
   "id": "fc21cc41",
   "metadata": {},
   "source": [
    "特徵/目標分離與格式轉換"
   ]
  },
  {
   "cell_type": "code",
   "execution_count": 335,
   "id": "fd437615",
   "metadata": {},
   "outputs": [],
   "source": [
    "# --- 分離 ---\n",
    "X_df = data.drop(columns=['Class'])\n",
    "Y_series = data['Class']\n",
    "# --- 轉換格式 ---\n",
    "X = X_df.to_numpy()\n",
    "Y = Y_series.to_numpy()\n"
   ]
  },
  {
   "cell_type": "markdown",
   "id": "51e2174f",
   "metadata": {},
   "source": [
    "調整參數"
   ]
  },
  {
   "cell_type": "code",
   "execution_count": null,
   "id": "3d30f44b",
   "metadata": {},
   "outputs": [],
   "source": [
    "iso_forest__n_estimators = 200\n",
    "iso_forest__contamination = 0.0017\n",
    "\n",
    "xgb__n_estimators = 200\n",
    "xgb__max_depth = 6\n",
    "xgb__learning_rate = 0.1\n",
    "xgb__eval_metric = 'aucpr'\n",
    "xgb__min_child_weight = 5\n",
    "xgb__gamma = 0.5\n",
    "xgb__colsample_bytree = 1.0\n",
    "xgb__subsample = 0.6\n",
    "xgb__alpha = 0.1\n",
    "scale_pos_weight_val_fixed = 3\n",
    "\n",
    "pca__n_components = 12"
   ]
  },
  {
   "cell_type": "markdown",
   "id": "4d36216f",
   "metadata": {},
   "source": [
    "評估函式"
   ]
  },
  {
   "cell_type": "code",
   "execution_count": 363,
   "id": "f6ad3099",
   "metadata": {},
   "outputs": [],
   "source": [
    "\n",
    "def evaluation(y_true, y_pred, model_name=\"Model\"):\n",
    "    accuracy = accuracy_score(y_true, y_pred)\n",
    "    precision = precision_score(y_true, y_pred)\n",
    "    recall = recall_score(y_true, y_pred)\n",
    "    f1 = f1_score(y_true, y_pred)\n",
    "\n",
    "    print(f'\\n{model_name} Evaluation:')\n",
    "    print('===' * 15)\n",
    "    print('         Accuracy:', accuracy)\n",
    "    print('  Precision Score:', precision)\n",
    "    print('     Recall Score:', recall)\n",
    "    print('         F1 Score:', f1)\n",
    "    print(\"\\nClassification Report:\")\n",
    "    print(classification_report(y_true, y_pred))\n"
   ]
  },
  {
   "cell_type": "code",
   "execution_count": 443,
   "id": "f678bea0",
   "metadata": {},
   "outputs": [
    {
     "name": "stderr",
     "output_type": "stream",
     "text": [
      "C:\\Users\\User\\AppData\\Local\\Packages\\PythonSoftwareFoundation.Python.3.13_qbz5n2kfra8p0\\LocalCache\\local-packages\\Python313\\site-packages\\xgboost\\training.py:183: UserWarning: [16:59:02] WARNING: C:\\actions-runner\\_work\\xgboost\\xgboost\\src\\learner.cc:738: \n",
      "Parameters: { \"use_label_encoder\" } are not used.\n",
      "\n",
      "  bst.update(dtrain, iteration=i, fobj=obj)\n"
     ]
    },
    {
     "name": "stdout",
     "output_type": "stream",
     "text": [
      "Best Threshold for F1-score: 0.1940 (F1: 0.9091)\n",
      "\n",
      "Hybrid Evaluation:\n",
      "=============================================\n",
      "         Accuracy: 0.9997074072773662\n",
      "  Precision Score: 0.937007874015748\n",
      "     Recall Score: 0.875\n",
      "         F1 Score: 0.9049429657794676\n",
      "\n",
      "Classification Report:\n",
      "              precision    recall  f1-score   support\n",
      "\n",
      "           0       1.00      1.00      1.00     85307\n",
      "           1       0.94      0.88      0.90       136\n",
      "\n",
      "    accuracy                           1.00     85443\n",
      "   macro avg       0.97      0.94      0.95     85443\n",
      "weighted avg       1.00      1.00      1.00     85443\n",
      "\n"
     ]
    }
   ],
   "source": [
    "# --- 訓練集/測試集切分 ---\n",
    "X_train, X_test, y_train, y_test = train_test_split(X, Y, test_size=TEST_SIZE, random_state=RANDOM_SEED)\n",
    "\n",
    "# --- 特徵標準化 ---\n",
    "scaler = StandardScaler()\n",
    "X_train_std = scaler.fit_transform(X_train)\n",
    "X_test_std = scaler.transform(X_test)\n",
    "\n",
    "# --- Isolation Forest 特徵 ---\n",
    "iso_forest = IsolationForest(\n",
    "    n_estimators=iso_forest__n_estimators,\n",
    "    contamination=iso_forest__contamination,\n",
    "    random_state=RANDOM_SEED,\n",
    ")\n",
    "iso_forest.fit(X_train_std)\n",
    "train_anomaly_scores = iso_forest.decision_function(X_train_std).reshape(-1, 1)\n",
    "test_anomaly_scores = iso_forest.decision_function(X_test_std).reshape(-1, 1)\n",
    "\n",
    "# --- PCA 特徵 ---\n",
    "pca = PCA(n_components=pca__n_components, random_state=RANDOM_SEED)\n",
    "pca.fit(X_train_std)\n",
    "X_train_pca = pca.transform(X_train_std)\n",
    "X_test_pca = pca.transform(X_test_std)\n",
    "\n",
    "# --- 合併特徵 ---\n",
    "X_train_upgrade = np.hstack((X_train_std, train_anomaly_scores, X_train_pca))\n",
    "X_test_upgrade = np.hstack((X_test_std, test_anomaly_scores, X_test_pca))\n",
    "\n",
    "# --- 訓練 XGBoost 模型 ---\n",
    "xgb_model_upgrade = XGBClassifier(\n",
    "    n_estimators=xgb__n_estimators,\n",
    "    max_depth=xgb__max_depth,\n",
    "    learning_rate=xgb__learning_rate,\n",
    "    colsample_bytree=xgb__colsample_bytree,\n",
    "    subsample=xgb__subsample,\n",
    "    objective='binary:logistic',\n",
    "    eval_metric=xgb__eval_metric,\n",
    "    use_label_encoder=False,\n",
    "    scale_pos_weight=scale_pos_weight_val_fixed,\n",
    "    random_state=RANDOM_SEED,\n",
    "    tree_method='hist',\n",
    ")\n",
    "xgb_model_upgrade.fit(X_train_upgrade, y_train)\n",
    "\n",
    "# --- 預測機率 ---\n",
    "y_prob_upgrade = xgb_model_upgrade.predict_proba(X_test_upgrade)[:, 1]\n",
    "\n",
    "# --- 閾值最佳化 (方法 1: 最大化 F1-score) ---\n",
    "precision, recall, pr_thresholds = precision_recall_curve(y_test, y_prob_upgrade)\n",
    "\n",
    "fscore_values = (2 * precision[:-1] * recall[:-1]) / (precision[:-1] + recall[:-1] + 1e-9)\n",
    "fscore_values = np.nan_to_num(fscore_values)\n",
    "\n",
    "ix_f1 = np.argmax(fscore_values)\n",
    "best_threshold_f1 = pr_thresholds[ix_f1]\n",
    "print(f\"Best Threshold for F1-score: {best_threshold_f1:.4f} (F1: {fscore_values[ix_f1]:.4f})\")\n",
    "OPTIMIZED_THRESHOLD = best_threshold_f1\n",
    "\n",
    "\n",
    "y_prob_upgrade = xgb_model_upgrade.predict_proba(X_test_upgrade)[:, 1]\n",
    "y_pred_upgrade = (y_prob_upgrade > OPTIMIZED_THRESHOLD).astype(int)\n",
    "evaluation(y_test, y_pred_upgrade, model_name=\"Hybrid\")\n"
   ]
  },
  {
   "cell_type": "markdown",
   "id": "730b73ec",
   "metadata": {},
   "source": [
    "混和矩陣"
   ]
  },
  {
   "cell_type": "code",
   "execution_count": 444,
   "id": "50b04bdb",
   "metadata": {},
   "outputs": [
    {
     "data": {
      "image/png": "[encoded data removed]",
      "text/plain": [
       "<Figure size 600x500 with 2 Axes>"
      ]
     },
     "metadata": {},
     "output_type": "display_data"
    }
   ],
   "source": [
    "from sklearn.metrics import confusion_matrix\n",
    "import matplotlib.pyplot as plt\n",
    "import seaborn as sns\n",
    "\n",
    "cm = confusion_matrix(y_test, y_pred_upgrade) # 使用 y_pred_upgrade\n",
    "plt.figure(figsize=(6, 5))\n",
    "sns.heatmap(cm, annot=True, fmt='d', cmap='Blues',\n",
    "            xticklabels=['Predicted Normal (0)', 'Predicted Fraud (1)'],\n",
    "            yticklabels=['Actual Normal (0)', 'Actual Fraud (1)'])\n",
    "plt.title(f'Confusion Matrix:')\n",
    "plt.ylabel('Actual Class')\n",
    "plt.xlabel('Predicted Class')\n",
    "plt.show()"
   ]
  }
 ],
 "metadata": {
  "kernelspec": {
   "display_name": "Python 3",
   "language": "python",
   "name": "python3"
  },
  "language_info": {
   "codemirror_mode": {
    "name": "ipython",
    "version": 3
   },
   "file_extension": ".py",
   "mimetype": "text/x-python",
   "name": "python",
   "nbconvert_exporter": "python",
   "pygments_lexer": "ipython3",
   "version": "3.13.3"
  }
 },
 "nbformat": 4,
 "nbformat_minor": 5
}
