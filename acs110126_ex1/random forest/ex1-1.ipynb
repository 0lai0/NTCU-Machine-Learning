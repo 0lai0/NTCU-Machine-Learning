{
 "cells": [
  {
   "cell_type": "markdown",
   "metadata": {},
   "source": [
    "# Machine Learning Challenge 1-1"
   ]
  },
  {
   "cell_type": "code",
   "execution_count": 1,
   "metadata": {
    "scrolled": true
   },
   "outputs": [],
   "source": [
    "# !pip install kagglehub\n",
    "# !pip install ipywidgets\n",
    "# !pip install xgboost"
   ]
  },
  {
   "cell_type": "markdown",
   "metadata": {
    "id": "dWMfSiQ965S2"
   },
   "source": [
    "## 匯入必要套件"
   ]
  },
  {
   "cell_type": "code",
   "execution_count": 2,
   "metadata": {
    "id": "Z9p241Ag6_W4"
   },
   "outputs": [],
   "source": [
    "import numpy as np\n",
    "import pandas as pd\n",
    "import matplotlib.pyplot as plt\n",
    "from sklearn.model_selection import train_test_split, cross_val_score, StratifiedKFold\n",
    "from sklearn.preprocessing import StandardScaler\n",
    "from sklearn.ensemble import RandomForestClassifier\n",
    "from sklearn.metrics import classification_report\n",
    "from sklearn.cluster import KMeans\n",
    "from sklearn.metrics import silhouette_score, accuracy_score, precision_score, recall_score, f1_score, roc_auc_score, confusion_matrix\n",
    "import kagglehub\n",
    "from sklearn.utils import resample\n",
    "\n",
    "# general setting. do not change TEST_SIZE\n",
    "RANDOM_SEED = 42\n",
    "TEST_SIZE = 0.3"
   ]
  },
  {
   "cell_type": "markdown",
   "metadata": {
    "id": "ysBADDUY7ESi"
   },
   "source": [
    "## Load Dataset & Prepare Data"
   ]
  },
  {
   "cell_type": "code",
   "execution_count": 3,
   "metadata": {
    "id": "S9OzKek-7Ly4"
   },
   "outputs": [],
   "source": [
    "# load dataset（from kagglehub）\n",
    "path = kagglehub.dataset_download(\"mlg-ulb/creditcardfraud\")\n",
    "data = pd.read_csv(f\"{path}/creditcard.csv\")\n",
    "data['Class'] = data['Class'].astype(int)\n",
    "\n",
    "# prepare data\n",
    "data = data.drop(['Time'], axis=1)\n",
    "data['Amount'] = StandardScaler().fit_transform(data['Amount'].values.reshape(-1, 1))"
   ]
  },
  {
   "cell_type": "markdown",
   "metadata": {
    "id": "OSGjRpDG7Vac"
   },
   "source": [
    "## Fraud/Non-Fraud Transactions"
   ]
  },
  {
   "cell_type": "code",
   "execution_count": 4,
   "metadata": {
    "colab": {
     "base_uri": "https://localhost:8080/"
    },
    "id": "HBTR4FUN7dTM",
    "outputId": "2a3a082b-55f9-4d09-c29b-bdfe576fe7a6"
   },
   "outputs": [
    {
     "name": "stdout",
     "output_type": "stream",
     "text": [
      "Fraudulent:492, non-fraudulent:284315\n",
      "the positive class (frauds) percentage: 492/284807 (0.173%)\n"
     ]
    }
   ],
   "source": [
    "fraud = data[data['Class'] == 1]\n",
    "nonfraud = data[data['Class'] == 0]\n",
    "print(f'Fraudulent:{len(fraud)}, non-fraudulent:{len(nonfraud)}')\n",
    "print(f'the positive class (frauds) percentage: {len(fraud)}/{len(fraud) + len(nonfraud)} ({len(fraud)/(len(fraud) + len(nonfraud))*100:.3f}%)')"
   ]
  },
  {
   "cell_type": "markdown",
   "metadata": {
    "id": "NwgT6nZQ7le0"
   },
   "source": [
    "## 監督式學習 (random forest)"
   ]
  },
  {
   "cell_type": "code",
   "execution_count": 5,
   "metadata": {},
   "outputs": [],
   "source": [
    "# define evaluation function\n",
    "def evaluation(y_true, y_pred, model_name=\"Model\"):\n",
    "    accuracy = accuracy_score(y_true, y_pred)\n",
    "    precision = precision_score(y_true, y_pred)\n",
    "    recall = recall_score(y_true, y_pred)\n",
    "    f1 = f1_score(y_true, y_pred)\n",
    "\n",
    "    print(f'\\n{model_name} Evaluation:')\n",
    "    print('===' * 15)\n",
    "    print('         Accuracy:', accuracy)\n",
    "    print('  Precision Score:', precision)\n",
    "    print('     Recall Score:', recall)\n",
    "    print('         F1 Score:', f1)\n",
    "    print(\"\\nClassification Report:\")\n",
    "    print(classification_report(y_true, y_pred))"
   ]
  },
  {
   "cell_type": "code",
   "execution_count": 12,
   "metadata": {
    "colab": {
     "base_uri": "https://localhost:8080/",
     "height": 80
    },
    "id": "8avvmtSO7szn",
    "outputId": "db72ccd0-32d3-4118-d3a0-ccbb722e5080"
   },
   "outputs": [],
   "source": [
    "X = np.asarray(data.iloc[:, ~data.columns.isin(['Class'])])\n",
    "Y = np.asarray(data.iloc[:, data.columns == 'Class'])\n",
    "\n",
    "# split training set and data set\n",
    "x_train, x_test, y_train, y_test = train_test_split(X, Y, test_size=TEST_SIZE, random_state=RANDOM_SEED)\n",
    "\n",
    "y_train = y_train.ravel()\n",
    "y_test = y_test.ravel()"
   ]
  },
  {
   "cell_type": "markdown",
   "metadata": {
    "id": "Evp5wA1K79pN"
   },
   "source": [
    "### Result of 監督式學習(random forest)"
   ]
  },
  {
   "cell_type": "code",
   "execution_count": 39,
   "metadata": {
    "colab": {
     "base_uri": "https://localhost:8080/"
    },
    "id": "FtFnNrdm8FYr",
    "outputId": "8157cb28-4bfb-4235-9867-bfcb702ba72e"
   },
   "outputs": [
    {
     "name": "stdout",
     "output_type": "stream",
     "text": [
      "\n",
      "Random Forest(Supervised) Evaluation:\n",
      "=============================================\n",
      "         Accuracy: 0.9996371850239341\n",
      "  Precision Score: 0.9411764705882353\n",
      "     Recall Score: 0.8235294117647058\n",
      "         F1 Score: 0.8784313725490196\n",
      "\n",
      "Classification Report:\n",
      "              precision    recall  f1-score   support\n",
      "\n",
      "           0       1.00      1.00      1.00     85307\n",
      "           1       0.94      0.82      0.88       136\n",
      "\n",
      "    accuracy                           1.00     85443\n",
      "   macro avg       0.97      0.91      0.94     85443\n",
      "weighted avg       1.00      1.00      1.00     85443\n",
      "\n"
     ]
    }
   ],
   "source": [
    "# build Random Forest model\n",
    "rf_model = RandomForestClassifier(n_estimators=100, random_state=RANDOM_SEED, n_jobs=-1)\n",
    "rf_model.fit(x_train, y_train)\n",
    "\n",
    "# predict and print result\n",
    "y_pred = rf_model.predict(x_test)\n",
    "# print(classification_report(y_test, y_pred))\n",
    "evaluation(y_test, y_pred, model_name=\"Random Forest(Supervised)\")"
   ]
  },
  {
   "cell_type": "markdown",
   "metadata": {},
   "source": [
    "## 調整參數＆資料集"
   ]
  },
  {
   "cell_type": "code",
   "execution_count": 7,
   "metadata": {},
   "outputs": [],
   "source": [
    "def tune_param(param_name, param_values, fixed_params, x, y, cv_splits=5, title=None):\n",
    "    res = []\n",
    "    cv = StratifiedKFold(n_splits=cv_splits, shuffle=True, random_state=RANDOM_SEED)\n",
    "\n",
    "    for val in param_values:\n",
    "        params = fixed_params.copy()\n",
    "        params[param_name] = val\n",
    "        model = RandomForestClassifier(**params)\n",
    "        score = cross_val_score(model, x, y, cv=cv, scoring='f1').mean()\n",
    "        res.append(score)\n",
    "\n",
    "    best_idx = res.index(max(res))\n",
    "    best_value = param_values[best_idx]\n",
    "    best_score = res[best_idx]\n",
    "\n",
    "    print(f\"Best {param_name}: {best_value}, Best CV score: {best_score:.4f}\")\n",
    "\n",
    "    # 繪圖\n",
    "    plt.figure(figsize=(12, 4))\n",
    "    x_vals = [str(v) for v in param_values]  # 避免混合型資料\n",
    "    plt.plot(x_vals, res, marker='o')\n",
    "    plt.xlabel(param_name)\n",
    "    plt.ylabel(\"CV Score (mean)\")\n",
    "    plt.title(title if title else f\"Tuning {param_name}\")\n",
    "    plt.grid(True)\n",
    "    plt.show()\n",
    "\n",
    "    return best_value, best_score"
   ]
  },
  {
   "cell_type": "markdown",
   "metadata": {},
   "source": [
    "### 資料提取"
   ]
  },
  {
   "cell_type": "code",
   "execution_count": 8,
   "metadata": {},
   "outputs": [],
   "source": [
    "nonfraud_sampled = resample(nonfraud, replace=False, n_samples=1500, random_state=RANDOM_SEED)\n",
    "\n",
    "under_data = pd.concat([fraud, nonfraud_sampled])\n",
    "under_data = under_data.sample(frac=1, random_state=RANDOM_SEED)\n",
    "\n",
    "under_X = under_data.drop(columns=[\"Class\"])\n",
    "under_y = under_data[\"Class\"]\n",
    "\n",
    "under_x_train, under_x_test, under_y_train, under_y_test = train_test_split(\n",
    "    under_X, under_y, test_size=0.3, stratify=under_y, random_state=RANDOM_SEED)"
   ]
  },
  {
   "cell_type": "code",
   "execution_count": 9,
   "metadata": {},
   "outputs": [],
   "source": [
    "# default\n",
    "fixed_params = {\n",
    "    'random_state': RANDOM_SEED,\n",
    "    'n_jobs': -1,\n",
    "    'class_weight': 'balanced', \n",
    "}"
   ]
  },
  {
   "cell_type": "markdown",
   "metadata": {},
   "source": [
    "### n_estimator"
   ]
  },
  {
   "cell_type": "code",
   "execution_count": 32,
   "metadata": {},
   "outputs": [
    {
     "name": "stdout",
     "output_type": "stream",
     "text": [
      "Best n_estimators: 300, Best CV score: 0.9210\n"
     ]
    },
    {
     "data": {
      "image/png": "[encoded data removed]",
      "text/plain": [
       "<Figure size 1200x400 with 1 Axes>"
      ]
     },
     "metadata": {},
     "output_type": "display_data"
    },
    {
     "name": "stdout",
     "output_type": "stream",
     "text": [
      "{'random_state': 42, 'n_jobs': -1, 'class_weight': 'balanced', 'n_estimators': 300}\n"
     ]
    }
   ],
   "source": [
    "param_range = list(range(100, 501, 100))\n",
    "\n",
    "best_n, best_score = tune_param(\n",
    "    param_name='n_estimators',\n",
    "    param_values=param_range,\n",
    "    fixed_params=fixed_params,\n",
    "    x=under_x_train,\n",
    "    y=under_y_train,\n",
    "    title='Refine Search: n_estomators'\n",
    ")\n",
    "\n",
    "fixed_params['n_estimators'] = best_n\n",
    "print(fixed_params)"
   ]
  },
  {
   "cell_type": "code",
   "execution_count": 33,
   "metadata": {},
   "outputs": [
    {
     "name": "stdout",
     "output_type": "stream",
     "text": [
      "Best n_estimators: 255, Best CV score: 0.9210\n"
     ]
    },
    {
     "data": {
      "image/png": "[encoded data removed]",
      "text/plain": [
       "<Figure size 1200x400 with 1 Axes>"
      ]
     },
     "metadata": {},
     "output_type": "display_data"
    },
    {
     "name": "stdout",
     "output_type": "stream",
     "text": [
      "{'random_state': 42, 'n_jobs': -1, 'class_weight': 'balanced', 'n_estimators': 255}\n"
     ]
    }
   ],
   "source": [
    "param_range = list(range(best_n - 50, best_n + 51, 5))\n",
    "\n",
    "best_n, best_score = tune_param(\n",
    "    param_name='n_estimators',\n",
    "    param_values=param_range,\n",
    "    fixed_params=fixed_params,\n",
    "    x=under_x_train,\n",
    "    y=under_y_train,\n",
    "    title='Refine Search: n_estomators'\n",
    ")\n",
    "\n",
    "fixed_params['n_estimators'] = best_n\n",
    "print(fixed_params)"
   ]
  },
  {
   "cell_type": "markdown",
   "metadata": {},
   "source": [
    "### max_depth"
   ]
  },
  {
   "cell_type": "code",
   "execution_count": 34,
   "metadata": {},
   "outputs": [
    {
     "name": "stdout",
     "output_type": "stream",
     "text": [
      "Best max_depth: 5, Best CV score: 0.9227\n"
     ]
    },
    {
     "data": {
      "image/png": "[encoded data removed]",
      "text/plain": [
       "<Figure size 1200x400 with 1 Axes>"
      ]
     },
     "metadata": {},
     "output_type": "display_data"
    },
    {
     "name": "stdout",
     "output_type": "stream",
     "text": [
      "{'random_state': 42, 'n_jobs': -1, 'class_weight': 'balanced', 'n_estimators': 255, 'max_depth': 5}\n"
     ]
    }
   ],
   "source": [
    "param_range = list(range(5, 31, 5))\n",
    "\n",
    "best_n, best_score = tune_param(\n",
    "    param_name='max_depth',\n",
    "    param_values=param_range,\n",
    "    fixed_params=fixed_params,\n",
    "    x=under_x_train,\n",
    "    y=under_y_train,\n",
    "    title='Refine Search: max_depth'\n",
    ")\n",
    "\n",
    "fixed_params['max_depth'] = best_n\n",
    "print(fixed_params)"
   ]
  },
  {
   "cell_type": "markdown",
   "metadata": {},
   "source": [
    "## 實際測試"
   ]
  },
  {
   "cell_type": "code",
   "execution_count": 35,
   "metadata": {},
   "outputs": [
    {
     "name": "stdout",
     "output_type": "stream",
     "text": [
      "{'random_state': 42, 'n_jobs': -1, 'class_weight': 'balanced', 'n_estimators': 255, 'max_depth': 5}\n",
      "\n",
      "Random Forest(Supervised) Evaluation:\n",
      "=============================================\n",
      "         Accuracy: 0.9970857764825674\n",
      "  Precision Score: 0.3426183844011142\n",
      "     Recall Score: 0.9044117647058824\n",
      "         F1 Score: 0.49696969696969695\n",
      "\n",
      "Classification Report:\n",
      "              precision    recall  f1-score   support\n",
      "\n",
      "           0       1.00      1.00      1.00     85307\n",
      "           1       0.34      0.90      0.50       136\n",
      "\n",
      "    accuracy                           1.00     85443\n",
      "   macro avg       0.67      0.95      0.75     85443\n",
      "weighted avg       1.00      1.00      1.00     85443\n",
      "\n"
     ]
    }
   ],
   "source": [
    "print(fixed_params)\n",
    "\n",
    "rf_model = RandomForestClassifier(**fixed_params)\n",
    "rf_model.fit(x_train, y_train)\n",
    "\n",
    "# predict and print result\n",
    "y_pred = rf_model.predict(x_test)\n",
    "# print(classification_report(y_test, y_pred))\n",
    "evaluation(y_test, y_pred, model_name=\"Random Forest(Supervised)\")"
   ]
  },
  {
   "cell_type": "markdown",
   "metadata": {},
   "source": [
    "### class_weight"
   ]
  },
  {
   "cell_type": "code",
   "execution_count": 36,
   "metadata": {},
   "outputs": [
    {
     "name": "stdout",
     "output_type": "stream",
     "text": [
      "\n",
      "--- 測試 class_weight: balanced ---\n",
      "使用 class_weight=balanced 時，測試集上的 F1-score: 0.4970\n",
      "\n",
      "Random Forest (class_weight=balanced) Evaluation:\n",
      "=============================================\n",
      "         Accuracy: 0.9970857764825674\n",
      "  Precision Score: 0.3426183844011142\n",
      "     Recall Score: 0.9044117647058824\n",
      "         F1 Score: 0.49696969696969695\n",
      "\n",
      "Classification Report:\n",
      "              precision    recall  f1-score   support\n",
      "\n",
      "           0       1.00      1.00      1.00     85307\n",
      "           1       0.34      0.90      0.50       136\n",
      "\n",
      "    accuracy                           1.00     85443\n",
      "   macro avg       0.67      0.95      0.75     85443\n",
      "weighted avg       1.00      1.00      1.00     85443\n",
      "\n",
      "\n",
      "--- 測試 class_weight: {0: 1, 1: 50} ---\n",
      "使用 class_weight={0: 1, 1: 50} 時，測試集上的 F1-score: 0.8387\n",
      "\n",
      "Random Forest (class_weight={0: 1, 1: 50}) Evaluation:\n",
      "=============================================\n",
      "         Accuracy: 0.9994733330992591\n",
      "  Precision Score: 0.8181818181818182\n",
      "     Recall Score: 0.8602941176470589\n",
      "         F1 Score: 0.8387096774193549\n",
      "\n",
      "Classification Report:\n",
      "              precision    recall  f1-score   support\n",
      "\n",
      "           0       1.00      1.00      1.00     85307\n",
      "           1       0.82      0.86      0.84       136\n",
      "\n",
      "    accuracy                           1.00     85443\n",
      "   macro avg       0.91      0.93      0.92     85443\n",
      "weighted avg       1.00      1.00      1.00     85443\n",
      "\n",
      "\n",
      "--- 測試 class_weight: {0: 1, 1: 100} ---\n",
      "使用 class_weight={0: 1, 1: 100} 時，測試集上的 F1-score: 0.8247\n",
      "\n",
      "Random Forest (class_weight={0: 1, 1: 100}) Evaluation:\n",
      "=============================================\n",
      "         Accuracy: 0.999403110845827\n",
      "  Precision Score: 0.7741935483870968\n",
      "     Recall Score: 0.8823529411764706\n",
      "         F1 Score: 0.8247422680412371\n",
      "\n",
      "Classification Report:\n",
      "              precision    recall  f1-score   support\n",
      "\n",
      "           0       1.00      1.00      1.00     85307\n",
      "           1       0.77      0.88      0.82       136\n",
      "\n",
      "    accuracy                           1.00     85443\n",
      "   macro avg       0.89      0.94      0.91     85443\n",
      "weighted avg       1.00      1.00      1.00     85443\n",
      "\n",
      "\n",
      "--- 測試 class_weight: {0: 1, 1: 200} ---\n",
      "使用 class_weight={0: 1, 1: 200} 時，測試集上的 F1-score: 0.7973\n",
      "\n",
      "Random Forest (class_weight={0: 1, 1: 200}) Evaluation:\n",
      "=============================================\n",
      "         Accuracy: 0.9992860737567735\n",
      "  Precision Score: 0.7272727272727273\n",
      "     Recall Score: 0.8823529411764706\n",
      "         F1 Score: 0.7973421926910299\n",
      "\n",
      "Classification Report:\n",
      "              precision    recall  f1-score   support\n",
      "\n",
      "           0       1.00      1.00      1.00     85307\n",
      "           1       0.73      0.88      0.80       136\n",
      "\n",
      "    accuracy                           1.00     85443\n",
      "   macro avg       0.86      0.94      0.90     85443\n",
      "weighted avg       1.00      1.00      1.00     85443\n",
      "\n",
      "\n",
      "--- 測試 class_weight: {0: 1, 1: 300} ---\n",
      "使用 class_weight={0: 1, 1: 300} 時，測試集上的 F1-score: 0.7289\n",
      "\n",
      "Random Forest (class_weight={0: 1, 1: 300}) Evaluation:\n",
      "=============================================\n",
      "         Accuracy: 0.9989466661985184\n",
      "  Precision Score: 0.6173469387755102\n",
      "     Recall Score: 0.8897058823529411\n",
      "         F1 Score: 0.7289156626506024\n",
      "\n",
      "Classification Report:\n",
      "              precision    recall  f1-score   support\n",
      "\n",
      "           0       1.00      1.00      1.00     85307\n",
      "           1       0.62      0.89      0.73       136\n",
      "\n",
      "    accuracy                           1.00     85443\n",
      "   macro avg       0.81      0.94      0.86     85443\n",
      "weighted avg       1.00      1.00      1.00     85443\n",
      "\n",
      "\n",
      "--- 測試 class_weight: {0: 1, 1: 400} ---\n",
      "使用 class_weight={0: 1, 1: 400} 時，測試集上的 F1-score: 0.6419\n",
      "\n",
      "Random Forest (class_weight={0: 1, 1: 400}) Evaluation:\n",
      "=============================================\n",
      "         Accuracy: 0.9984199992977775\n",
      "  Precision Score: 0.5020746887966805\n",
      "     Recall Score: 0.8897058823529411\n",
      "         F1 Score: 0.6419098143236074\n",
      "\n",
      "Classification Report:\n",
      "              precision    recall  f1-score   support\n",
      "\n",
      "           0       1.00      1.00      1.00     85307\n",
      "           1       0.50      0.89      0.64       136\n",
      "\n",
      "    accuracy                           1.00     85443\n",
      "   macro avg       0.75      0.94      0.82     85443\n",
      "weighted avg       1.00      1.00      1.00     85443\n",
      "\n",
      "\n",
      "--- 測試 class_weight: {0: 1, 1: 578} ---\n",
      "使用 class_weight={0: 1, 1: 578} 時，測試集上的 F1-score: 0.4881\n",
      "\n",
      "Random Forest (class_weight={0: 1, 1: 578}) Evaluation:\n",
      "=============================================\n",
      "         Accuracy: 0.9969804431024192\n",
      "  Precision Score: 0.3342391304347826\n",
      "     Recall Score: 0.9044117647058824\n",
      "         F1 Score: 0.4880952380952381\n",
      "\n",
      "Classification Report:\n",
      "              precision    recall  f1-score   support\n",
      "\n",
      "           0       1.00      1.00      1.00     85307\n",
      "           1       0.33      0.90      0.49       136\n",
      "\n",
      "    accuracy                           1.00     85443\n",
      "   macro avg       0.67      0.95      0.74     85443\n",
      "weighted avg       1.00      1.00      1.00     85443\n",
      "\n",
      "best class_weight: {0: 1, 1: 50}，對應 F1: 0.8387\n"
     ]
    }
   ],
   "source": [
    "class_weights_to_test = [\n",
    "    'balanced',\n",
    "    {0: 1, 1: 50},\n",
    "    {0: 1, 1: 100},\n",
    "    {0: 1, 1: 200},\n",
    "    {0: 1, 1: 300},\n",
    "    {0: 1, 1: 400},\n",
    "    {0: 1, 1: 578}\n",
    "]\n",
    "\n",
    "best_f1_so_far = -1\n",
    "best_cw_setting = None\n",
    "\n",
    "for cw in class_weights_to_test:\n",
    "    print(f\"\\n--- 測試 class_weight: {cw} ---\")\n",
    "    current_params = fixed_params.copy()\n",
    "    current_params['class_weight'] = cw\n",
    "\n",
    "    rf_model = RandomForestClassifier(**current_params)\n",
    "    rf_model.fit(x_train, y_train) # 在 x_train 上訓練\n",
    "\n",
    "    y_pred = rf_model.predict(x_test)\n",
    "    \n",
    "    current_f1 = f1_score(y_test, y_pred)\n",
    "    print(f\"使用 class_weight={cw} 時，測試集上的 F1-score: {current_f1:.4f}\")\n",
    "    evaluation(y_test, y_pred, model_name=f\"Random Forest (class_weight={cw})\")\n",
    "\n",
    "    if current_f1 > best_f1_so_far:\n",
    "        best_f1_so_far = current_f1\n",
    "        best_cw_setting = cw\n",
    "\n",
    "print(f\"best class_weight: {best_cw_setting}，對應 F1: {best_f1_so_far:.4f}\")"
   ]
  },
  {
   "cell_type": "code",
   "execution_count": 37,
   "metadata": {},
   "outputs": [],
   "source": [
    "fixed_params['class_weight'] = {0: 1, 1: 50}"
   ]
  },
  {
   "cell_type": "code",
   "execution_count": 38,
   "metadata": {},
   "outputs": [
    {
     "name": "stdout",
     "output_type": "stream",
     "text": [
      "{'random_state': 42, 'n_jobs': -1, 'class_weight': {0: 1, 1: 50}, 'n_estimators': 255, 'max_depth': 5}\n",
      "\n",
      "Random Forest(Supervised) Evaluation:\n",
      "=============================================\n",
      "         Accuracy: 0.9994733330992591\n",
      "  Precision Score: 0.8181818181818182\n",
      "     Recall Score: 0.8602941176470589\n",
      "         F1 Score: 0.8387096774193549\n",
      "\n",
      "Classification Report:\n",
      "              precision    recall  f1-score   support\n",
      "\n",
      "           0       1.00      1.00      1.00     85307\n",
      "           1       0.82      0.86      0.84       136\n",
      "\n",
      "    accuracy                           1.00     85443\n",
      "   macro avg       0.91      0.93      0.92     85443\n",
      "weighted avg       1.00      1.00      1.00     85443\n",
      "\n"
     ]
    }
   ],
   "source": [
    "print(fixed_params)\n",
    "\n",
    "rf_model = RandomForestClassifier(**fixed_params)\n",
    "rf_model.fit(x_train, y_train)\n",
    "\n",
    "# predict and print result\n",
    "y_pred = rf_model.predict(x_test)\n",
    "# print(classification_report(y_test, y_pred))\n",
    "evaluation(y_test, y_pred, model_name=\"Random Forest(Supervised)\")"
   ]
  },
  {
   "cell_type": "markdown",
   "metadata": {},
   "source": [
    "## 嘗試更換模型 (XGBoost)"
   ]
  },
  {
   "cell_type": "code",
   "execution_count": 46,
   "metadata": {},
   "outputs": [],
   "source": [
    "from xgboost import XGBClassifier"
   ]
  },
  {
   "cell_type": "code",
   "execution_count": 47,
   "metadata": {},
   "outputs": [
    {
     "data": {
      "text/html": [
       "<style>#sk-container-id-16 {\n",
       "  /* Definition of color scheme common for light and dark mode */\n",
       "  --sklearn-color-text: black;\n",
       "  --sklearn-color-line: gray;\n",
       "  /* Definition of color scheme for unfitted estimators */\n",
       "  --sklearn-color-unfitted-level-0: #fff5e6;\n",
       "  --sklearn-color-unfitted-level-1: #f6e4d2;\n",
       "  --sklearn-color-unfitted-level-2: #ffe0b3;\n",
       "  --sklearn-color-unfitted-level-3: chocolate;\n",
       "  /* Definition of color scheme for fitted estimators */\n",
       "  --sklearn-color-fitted-level-0: #f0f8ff;\n",
       "  --sklearn-color-fitted-level-1: #d4ebff;\n",
       "  --sklearn-color-fitted-level-2: #b3dbfd;\n",
       "  --sklearn-color-fitted-level-3: cornflowerblue;\n",
       "\n",
       "  /* Specific color for light theme */\n",
       "  --sklearn-color-text-on-default-background: var(--sg-text-color, var(--theme-code-foreground, var(--jp-content-font-color1, black)));\n",
       "  --sklearn-color-background: var(--sg-background-color, var(--theme-background, var(--jp-layout-color0, white)));\n",
       "  --sklearn-color-border-box: var(--sg-text-color, var(--theme-code-foreground, var(--jp-content-font-color1, black)));\n",
       "  --sklearn-color-icon: #696969;\n",
       "\n",
       "  @media (prefers-color-scheme: dark) {\n",
       "    /* Redefinition of color scheme for dark theme */\n",
       "    --sklearn-color-text-on-default-background: var(--sg-text-color, var(--theme-code-foreground, var(--jp-content-font-color1, white)));\n",
       "    --sklearn-color-background: var(--sg-background-color, var(--theme-background, var(--jp-layout-color0, #111)));\n",
       "    --sklearn-color-border-box: var(--sg-text-color, var(--theme-code-foreground, var(--jp-content-font-color1, white)));\n",
       "    --sklearn-color-icon: #878787;\n",
       "  }\n",
       "}\n",
       "\n",
       "#sk-container-id-16 {\n",
       "  color: var(--sklearn-color-text);\n",
       "}\n",
       "\n",
       "#sk-container-id-16 pre {\n",
       "  padding: 0;\n",
       "}\n",
       "\n",
       "#sk-container-id-16 input.sk-hidden--visually {\n",
       "  border: 0;\n",
       "  clip: rect(1px 1px 1px 1px);\n",
       "  clip: rect(1px, 1px, 1px, 1px);\n",
       "  height: 1px;\n",
       "  margin: -1px;\n",
       "  overflow: hidden;\n",
       "  padding: 0;\n",
       "  position: absolute;\n",
       "  width: 1px;\n",
       "}\n",
       "\n",
       "#sk-container-id-16 div.sk-dashed-wrapped {\n",
       "  border: 1px dashed var(--sklearn-color-line);\n",
       "  margin: 0 0.4em 0.5em 0.4em;\n",
       "  box-sizing: border-box;\n",
       "  padding-bottom: 0.4em;\n",
       "  background-color: var(--sklearn-color-background);\n",
       "}\n",
       "\n",
       "#sk-container-id-16 div.sk-container {\n",
       "  /* jupyter's `normalize.less` sets `[hidden] { display: none; }`\n",
       "     but bootstrap.min.css set `[hidden] { display: none !important; }`\n",
       "     so we also need the `!important` here to be able to override the\n",
       "     default hidden behavior on the sphinx rendered scikit-learn.org.\n",
       "     See: https://github.com/scikit-learn/scikit-learn/issues/21755 */\n",
       "  display: inline-block !important;\n",
       "  position: relative;\n",
       "}\n",
       "\n",
       "#sk-container-id-16 div.sk-text-repr-fallback {\n",
       "  display: none;\n",
       "}\n",
       "\n",
       "div.sk-parallel-item,\n",
       "div.sk-serial,\n",
       "div.sk-item {\n",
       "  /* draw centered vertical line to link estimators */\n",
       "  background-image: linear-gradient(var(--sklearn-color-text-on-default-background), var(--sklearn-color-text-on-default-background));\n",
       "  background-size: 2px 100%;\n",
       "  background-repeat: no-repeat;\n",
       "  background-position: center center;\n",
       "}\n",
       "\n",
       "/* Parallel-specific style estimator block */\n",
       "\n",
       "#sk-container-id-16 div.sk-parallel-item::after {\n",
       "  content: \"\";\n",
       "  width: 100%;\n",
       "  border-bottom: 2px solid var(--sklearn-color-text-on-default-background);\n",
       "  flex-grow: 1;\n",
       "}\n",
       "\n",
       "#sk-container-id-16 div.sk-parallel {\n",
       "  display: flex;\n",
       "  align-items: stretch;\n",
       "  justify-content: center;\n",
       "  background-color: var(--sklearn-color-background);\n",
       "  position: relative;\n",
       "}\n",
       "\n",
       "#sk-container-id-16 div.sk-parallel-item {\n",
       "  display: flex;\n",
       "  flex-direction: column;\n",
       "}\n",
       "\n",
       "#sk-container-id-16 div.sk-parallel-item:first-child::after {\n",
       "  align-self: flex-end;\n",
       "  width: 50%;\n",
       "}\n",
       "\n",
       "#sk-container-id-16 div.sk-parallel-item:last-child::after {\n",
       "  align-self: flex-start;\n",
       "  width: 50%;\n",
       "}\n",
       "\n",
       "#sk-container-id-16 div.sk-parallel-item:only-child::after {\n",
       "  width: 0;\n",
       "}\n",
       "\n",
       "/* Serial-specific style estimator block */\n",
       "\n",
       "#sk-container-id-16 div.sk-serial {\n",
       "  display: flex;\n",
       "  flex-direction: column;\n",
       "  align-items: center;\n",
       "  background-color: var(--sklearn-color-background);\n",
       "  padding-right: 1em;\n",
       "  padding-left: 1em;\n",
       "}\n",
       "\n",
       "\n",
       "/* Toggleable style: style used for estimator/Pipeline/ColumnTransformer box that is\n",
       "clickable and can be expanded/collapsed.\n",
       "- Pipeline and ColumnTransformer use this feature and define the default style\n",
       "- Estimators will overwrite some part of the style using the `sk-estimator` class\n",
       "*/\n",
       "\n",
       "/* Pipeline and ColumnTransformer style (default) */\n",
       "\n",
       "#sk-container-id-16 div.sk-toggleable {\n",
       "  /* Default theme specific background. It is overwritten whether we have a\n",
       "  specific estimator or a Pipeline/ColumnTransformer */\n",
       "  background-color: var(--sklearn-color-background);\n",
       "}\n",
       "\n",
       "/* Toggleable label */\n",
       "#sk-container-id-16 label.sk-toggleable__label {\n",
       "  cursor: pointer;\n",
       "  display: block;\n",
       "  width: 100%;\n",
       "  margin-bottom: 0;\n",
       "  padding: 0.5em;\n",
       "  box-sizing: border-box;\n",
       "  text-align: center;\n",
       "}\n",
       "\n",
       "#sk-container-id-16 label.sk-toggleable__label-arrow:before {\n",
       "  /* Arrow on the left of the label */\n",
       "  content: \"▸\";\n",
       "  float: left;\n",
       "  margin-right: 0.25em;\n",
       "  color: var(--sklearn-color-icon);\n",
       "}\n",
       "\n",
       "#sk-container-id-16 label.sk-toggleable__label-arrow:hover:before {\n",
       "  color: var(--sklearn-color-text);\n",
       "}\n",
       "\n",
       "/* Toggleable content - dropdown */\n",
       "\n",
       "#sk-container-id-16 div.sk-toggleable__content {\n",
       "  max-height: 0;\n",
       "  max-width: 0;\n",
       "  overflow: hidden;\n",
       "  text-align: left;\n",
       "  /* unfitted */\n",
       "  background-color: var(--sklearn-color-unfitted-level-0);\n",
       "}\n",
       "\n",
       "#sk-container-id-16 div.sk-toggleable__content.fitted {\n",
       "  /* fitted */\n",
       "  background-color: var(--sklearn-color-fitted-level-0);\n",
       "}\n",
       "\n",
       "#sk-container-id-16 div.sk-toggleable__content pre {\n",
       "  margin: 0.2em;\n",
       "  border-radius: 0.25em;\n",
       "  color: var(--sklearn-color-text);\n",
       "  /* unfitted */\n",
       "  background-color: var(--sklearn-color-unfitted-level-0);\n",
       "}\n",
       "\n",
       "#sk-container-id-16 div.sk-toggleable__content.fitted pre {\n",
       "  /* unfitted */\n",
       "  background-color: var(--sklearn-color-fitted-level-0);\n",
       "}\n",
       "\n",
       "#sk-container-id-16 input.sk-toggleable__control:checked~div.sk-toggleable__content {\n",
       "  /* Expand drop-down */\n",
       "  max-height: 200px;\n",
       "  max-width: 100%;\n",
       "  overflow: auto;\n",
       "}\n",
       "\n",
       "#sk-container-id-16 input.sk-toggleable__control:checked~label.sk-toggleable__label-arrow:before {\n",
       "  content: \"▾\";\n",
       "}\n",
       "\n",
       "/* Pipeline/ColumnTransformer-specific style */\n",
       "\n",
       "#sk-container-id-16 div.sk-label input.sk-toggleable__control:checked~label.sk-toggleable__label {\n",
       "  color: var(--sklearn-color-text);\n",
       "  background-color: var(--sklearn-color-unfitted-level-2);\n",
       "}\n",
       "\n",
       "#sk-container-id-16 div.sk-label.fitted input.sk-toggleable__control:checked~label.sk-toggleable__label {\n",
       "  background-color: var(--sklearn-color-fitted-level-2);\n",
       "}\n",
       "\n",
       "/* Estimator-specific style */\n",
       "\n",
       "/* Colorize estimator box */\n",
       "#sk-container-id-16 div.sk-estimator input.sk-toggleable__control:checked~label.sk-toggleable__label {\n",
       "  /* unfitted */\n",
       "  background-color: var(--sklearn-color-unfitted-level-2);\n",
       "}\n",
       "\n",
       "#sk-container-id-16 div.sk-estimator.fitted input.sk-toggleable__control:checked~label.sk-toggleable__label {\n",
       "  /* fitted */\n",
       "  background-color: var(--sklearn-color-fitted-level-2);\n",
       "}\n",
       "\n",
       "#sk-container-id-16 div.sk-label label.sk-toggleable__label,\n",
       "#sk-container-id-16 div.sk-label label {\n",
       "  /* The background is the default theme color */\n",
       "  color: var(--sklearn-color-text-on-default-background);\n",
       "}\n",
       "\n",
       "/* On hover, darken the color of the background */\n",
       "#sk-container-id-16 div.sk-label:hover label.sk-toggleable__label {\n",
       "  color: var(--sklearn-color-text);\n",
       "  background-color: var(--sklearn-color-unfitted-level-2);\n",
       "}\n",
       "\n",
       "/* Label box, darken color on hover, fitted */\n",
       "#sk-container-id-16 div.sk-label.fitted:hover label.sk-toggleable__label.fitted {\n",
       "  color: var(--sklearn-color-text);\n",
       "  background-color: var(--sklearn-color-fitted-level-2);\n",
       "}\n",
       "\n",
       "/* Estimator label */\n",
       "\n",
       "#sk-container-id-16 div.sk-label label {\n",
       "  font-family: monospace;\n",
       "  font-weight: bold;\n",
       "  display: inline-block;\n",
       "  line-height: 1.2em;\n",
       "}\n",
       "\n",
       "#sk-container-id-16 div.sk-label-container {\n",
       "  text-align: center;\n",
       "}\n",
       "\n",
       "/* Estimator-specific */\n",
       "#sk-container-id-16 div.sk-estimator {\n",
       "  font-family: monospace;\n",
       "  border: 1px dotted var(--sklearn-color-border-box);\n",
       "  border-radius: 0.25em;\n",
       "  box-sizing: border-box;\n",
       "  margin-bottom: 0.5em;\n",
       "  /* unfitted */\n",
       "  background-color: var(--sklearn-color-unfitted-level-0);\n",
       "}\n",
       "\n",
       "#sk-container-id-16 div.sk-estimator.fitted {\n",
       "  /* fitted */\n",
       "  background-color: var(--sklearn-color-fitted-level-0);\n",
       "}\n",
       "\n",
       "/* on hover */\n",
       "#sk-container-id-16 div.sk-estimator:hover {\n",
       "  /* unfitted */\n",
       "  background-color: var(--sklearn-color-unfitted-level-2);\n",
       "}\n",
       "\n",
       "#sk-container-id-16 div.sk-estimator.fitted:hover {\n",
       "  /* fitted */\n",
       "  background-color: var(--sklearn-color-fitted-level-2);\n",
       "}\n",
       "\n",
       "/* Specification for estimator info (e.g. \"i\" and \"?\") */\n",
       "\n",
       "/* Common style for \"i\" and \"?\" */\n",
       "\n",
       ".sk-estimator-doc-link,\n",
       "a:link.sk-estimator-doc-link,\n",
       "a:visited.sk-estimator-doc-link {\n",
       "  float: right;\n",
       "  font-size: smaller;\n",
       "  line-height: 1em;\n",
       "  font-family: monospace;\n",
       "  background-color: var(--sklearn-color-background);\n",
       "  border-radius: 1em;\n",
       "  height: 1em;\n",
       "  width: 1em;\n",
       "  text-decoration: none !important;\n",
       "  margin-left: 1ex;\n",
       "  /* unfitted */\n",
       "  border: var(--sklearn-color-unfitted-level-1) 1pt solid;\n",
       "  color: var(--sklearn-color-unfitted-level-1);\n",
       "}\n",
       "\n",
       ".sk-estimator-doc-link.fitted,\n",
       "a:link.sk-estimator-doc-link.fitted,\n",
       "a:visited.sk-estimator-doc-link.fitted {\n",
       "  /* fitted */\n",
       "  border: var(--sklearn-color-fitted-level-1) 1pt solid;\n",
       "  color: var(--sklearn-color-fitted-level-1);\n",
       "}\n",
       "\n",
       "/* On hover */\n",
       "div.sk-estimator:hover .sk-estimator-doc-link:hover,\n",
       ".sk-estimator-doc-link:hover,\n",
       "div.sk-label-container:hover .sk-estimator-doc-link:hover,\n",
       ".sk-estimator-doc-link:hover {\n",
       "  /* unfitted */\n",
       "  background-color: var(--sklearn-color-unfitted-level-3);\n",
       "  color: var(--sklearn-color-background);\n",
       "  text-decoration: none;\n",
       "}\n",
       "\n",
       "div.sk-estimator.fitted:hover .sk-estimator-doc-link.fitted:hover,\n",
       ".sk-estimator-doc-link.fitted:hover,\n",
       "div.sk-label-container:hover .sk-estimator-doc-link.fitted:hover,\n",
       ".sk-estimator-doc-link.fitted:hover {\n",
       "  /* fitted */\n",
       "  background-color: var(--sklearn-color-fitted-level-3);\n",
       "  color: var(--sklearn-color-background);\n",
       "  text-decoration: none;\n",
       "}\n",
       "\n",
       "/* Span, style for the box shown on hovering the info icon */\n",
       ".sk-estimator-doc-link span {\n",
       "  display: none;\n",
       "  z-index: 9999;\n",
       "  position: relative;\n",
       "  font-weight: normal;\n",
       "  right: .2ex;\n",
       "  padding: .5ex;\n",
       "  margin: .5ex;\n",
       "  width: min-content;\n",
       "  min-width: 20ex;\n",
       "  max-width: 50ex;\n",
       "  color: var(--sklearn-color-text);\n",
       "  box-shadow: 2pt 2pt 4pt #999;\n",
       "  /* unfitted */\n",
       "  background: var(--sklearn-color-unfitted-level-0);\n",
       "  border: .5pt solid var(--sklearn-color-unfitted-level-3);\n",
       "}\n",
       "\n",
       ".sk-estimator-doc-link.fitted span {\n",
       "  /* fitted */\n",
       "  background: var(--sklearn-color-fitted-level-0);\n",
       "  border: var(--sklearn-color-fitted-level-3);\n",
       "}\n",
       "\n",
       ".sk-estimator-doc-link:hover span {\n",
       "  display: block;\n",
       "}\n",
       "\n",
       "/* \"?\"-specific style due to the `<a>` HTML tag */\n",
       "\n",
       "#sk-container-id-16 a.estimator_doc_link {\n",
       "  float: right;\n",
       "  font-size: 1rem;\n",
       "  line-height: 1em;\n",
       "  font-family: monospace;\n",
       "  background-color: var(--sklearn-color-background);\n",
       "  border-radius: 1rem;\n",
       "  height: 1rem;\n",
       "  width: 1rem;\n",
       "  text-decoration: none;\n",
       "  /* unfitted */\n",
       "  color: var(--sklearn-color-unfitted-level-1);\n",
       "  border: var(--sklearn-color-unfitted-level-1) 1pt solid;\n",
       "}\n",
       "\n",
       "#sk-container-id-16 a.estimator_doc_link.fitted {\n",
       "  /* fitted */\n",
       "  border: var(--sklearn-color-fitted-level-1) 1pt solid;\n",
       "  color: var(--sklearn-color-fitted-level-1);\n",
       "}\n",
       "\n",
       "/* On hover */\n",
       "#sk-container-id-16 a.estimator_doc_link:hover {\n",
       "  /* unfitted */\n",
       "  background-color: var(--sklearn-color-unfitted-level-3);\n",
       "  color: var(--sklearn-color-background);\n",
       "  text-decoration: none;\n",
       "}\n",
       "\n",
       "#sk-container-id-16 a.estimator_doc_link.fitted:hover {\n",
       "  /* fitted */\n",
       "  background-color: var(--sklearn-color-fitted-level-3);\n",
       "}\n",
       "</style><div id=\"sk-container-id-16\" class=\"sk-top-container\"><div class=\"sk-text-repr-fallback\"><pre>XGBClassifier(base_score=None, booster=None, callbacks=None,\n",
       "              colsample_bylevel=None, colsample_bynode=None,\n",
       "              colsample_bytree=None, device=None, early_stopping_rounds=None,\n",
       "              enable_categorical=False, eval_metric=None, feature_types=None,\n",
       "              gamma=None, grow_policy=None, importance_type=None,\n",
       "              interaction_constraints=None, learning_rate=0.1, max_bin=None,\n",
       "              max_cat_threshold=None, max_cat_to_onehot=None,\n",
       "              max_delta_step=None, max_depth=5, max_leaves=None,\n",
       "              min_child_weight=None, missing=nan, monotone_constraints=None,\n",
       "              multi_strategy=None, n_estimators=300, n_jobs=None,\n",
       "              num_parallel_tree=None, random_state=42, ...)</pre><b>In a Jupyter environment, please rerun this cell to show the HTML representation or trust the notebook. <br />On GitHub, the HTML representation is unable to render, please try loading this page with nbviewer.org.</b></div><div class=\"sk-container\" hidden><div class=\"sk-item\"><div class=\"sk-estimator fitted sk-toggleable\"><input class=\"sk-toggleable__control sk-hidden--visually\" id=\"sk-estimator-id-16\" type=\"checkbox\" checked><label for=\"sk-estimator-id-16\" class=\"sk-toggleable__label fitted sk-toggleable__label-arrow fitted\">&nbsp;XGBClassifier<span class=\"sk-estimator-doc-link fitted\">i<span>Fitted</span></span></label><div class=\"sk-toggleable__content fitted\"><pre>XGBClassifier(base_score=None, booster=None, callbacks=None,\n",
       "              colsample_bylevel=None, colsample_bynode=None,\n",
       "              colsample_bytree=None, device=None, early_stopping_rounds=None,\n",
       "              enable_categorical=False, eval_metric=None, feature_types=None,\n",
       "              gamma=None, grow_policy=None, importance_type=None,\n",
       "              interaction_constraints=None, learning_rate=0.1, max_bin=None,\n",
       "              max_cat_threshold=None, max_cat_to_onehot=None,\n",
       "              max_delta_step=None, max_depth=5, max_leaves=None,\n",
       "              min_child_weight=None, missing=nan, monotone_constraints=None,\n",
       "              multi_strategy=None, n_estimators=300, n_jobs=None,\n",
       "              num_parallel_tree=None, random_state=42, ...)</pre></div> </div></div></div></div>"
      ],
      "text/plain": [
       "XGBClassifier(base_score=None, booster=None, callbacks=None,\n",
       "              colsample_bylevel=None, colsample_bynode=None,\n",
       "              colsample_bytree=None, device=None, early_stopping_rounds=None,\n",
       "              enable_categorical=False, eval_metric=None, feature_types=None,\n",
       "              gamma=None, grow_policy=None, importance_type=None,\n",
       "              interaction_constraints=None, learning_rate=0.1, max_bin=None,\n",
       "              max_cat_threshold=None, max_cat_to_onehot=None,\n",
       "              max_delta_step=None, max_depth=5, max_leaves=None,\n",
       "              min_child_weight=None, missing=nan, monotone_constraints=None,\n",
       "              multi_strategy=None, n_estimators=300, n_jobs=None,\n",
       "              num_parallel_tree=None, random_state=42, ...)"
      ]
     },
     "execution_count": 47,
     "metadata": {},
     "output_type": "execute_result"
    }
   ],
   "source": [
    "x_train, x_test, y_train, y_test = train_test_split(X, Y, test_size=TEST_SIZE, random_state=RANDOM_SEED)\n",
    "\n",
    "xgb = XGBClassifier(\n",
    "    n_estimators=300,\n",
    "    learning_rate=0.1,\n",
    "    max_depth=5,\n",
    "    # scale_pos_weight=scale_pos_weight,\n",
    "    random_state=RANDOM_SEED\n",
    ")\n",
    "\n",
    "xgb.fit(x_train, y_train)"
   ]
  },
  {
   "cell_type": "code",
   "execution_count": 48,
   "metadata": {},
   "outputs": [
    {
     "name": "stdout",
     "output_type": "stream",
     "text": [
      "\n",
      "XGBoost + Isolation Forest Evaluation:\n",
      "=============================================\n",
      "         Accuracy: 0.9996254813150287\n",
      "  Precision Score: 0.9333333333333333\n",
      "     Recall Score: 0.8235294117647058\n",
      "         F1 Score: 0.875\n",
      "\n",
      "Classification Report:\n",
      "              precision    recall  f1-score   support\n",
      "\n",
      "           0       1.00      1.00      1.00     85307\n",
      "           1       0.93      0.82      0.88       136\n",
      "\n",
      "    accuracy                           1.00     85443\n",
      "   macro avg       0.97      0.91      0.94     85443\n",
      "weighted avg       1.00      1.00      1.00     85443\n",
      "\n"
     ]
    }
   ],
   "source": [
    "y_pred = xgb.predict(x_test)\n",
    "\n",
    "evaluation(y_test, y_pred, model_name=\"XGBoost\")"
   ]
  },
  {
   "cell_type": "code",
   "execution_count": null,
   "metadata": {},
   "outputs": [],
   "source": []
  }
 ],
 "metadata": {
  "colab": {
   "provenance": []
  },
  "kernelspec": {
   "display_name": "Python 3 (ipykernel)",
   "language": "python",
   "name": "python3"
  },
  "language_info": {
   "codemirror_mode": {
    "name": "ipython",
    "version": 3
   },
   "file_extension": ".py",
   "mimetype": "text/x-python",
   "name": "python",
   "nbconvert_exporter": "python",
   "pygments_lexer": "ipython3",
   "version": "3.12.3"
  }
 },
 "nbformat": 4,
 "nbformat_minor": 4
}
