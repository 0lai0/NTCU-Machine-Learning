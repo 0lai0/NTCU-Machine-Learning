{
 "cells": [
  {
   "cell_type": "code",
   "execution_count": 1,
   "id": "39f59a0c-5aea-47b6-990a-dac13656c1fa",
   "metadata": {
    "scrolled": true
   },
   "outputs": [],
   "source": [
    "# !pip install kagglehub\n",
    "# !pip install ipywidgets\n",
    "# !pip install xgboost"
   ]
  },
  {
   "cell_type": "markdown",
   "id": "f4be0937-adde-47e4-bf82-193bd941b431",
   "metadata": {},
   "source": [
    "## Import Necessary Package"
   ]
  },
  {
   "cell_type": "code",
   "execution_count": 2,
   "id": "29fe1531-658f-4b90-96b0-a5b54b496601",
   "metadata": {},
   "outputs": [],
   "source": [
    "import numpy as np\n",
    "import pandas as pd\n",
    "import matplotlib.pyplot as plt\n",
    "from sklearn.model_selection import train_test_split, cross_val_score, StratifiedKFold\n",
    "from sklearn.preprocessing import StandardScaler\n",
    "from sklearn.metrics import classification_report\n",
    "from sklearn.cluster import KMeans\n",
    "from sklearn.metrics import silhouette_score, accuracy_score, precision_score, recall_score, f1_score, roc_auc_score, confusion_matrix\n",
    "from sklearn.utils import resample\n",
    "from sklearn.decomposition import PCA\n",
    "from scipy.stats import mode\n",
    "import kagglehub\n",
    "\n",
    "# general setting. do not change TEST_SIZE\n",
    "RANDOM_SEED = 42\n",
    "TEST_SIZE = 0.3"
   ]
  },
  {
   "cell_type": "markdown",
   "id": "6c91009c-55e9-4db5-91d6-f43271b3b78b",
   "metadata": {},
   "source": [
    "## Load Dataset & Prepare Data"
   ]
  },
  {
   "cell_type": "code",
   "execution_count": 3,
   "id": "b6f4d462-b38b-480e-b6de-1bdeda9cab42",
   "metadata": {},
   "outputs": [],
   "source": [
    "# load dataset（from kagglehub）\n",
    "path = kagglehub.dataset_download(\"mlg-ulb/creditcardfraud\")\n",
    "data = pd.read_csv(f\"{path}/creditcard.csv\")\n",
    "data['Class'] = data['Class'].astype(int)\n",
    "\n",
    "# prepare data\n",
    "data = data.drop(['Time'], axis=1)\n",
    "data['Amount'] = StandardScaler().fit_transform(data['Amount'].values.reshape(-1, 1))"
   ]
  },
  {
   "cell_type": "markdown",
   "id": "0e95088b-43fa-44f4-a257-00002091f79d",
   "metadata": {},
   "source": [
    "## Fraud/Non-Fraud Transactions"
   ]
  },
  {
   "cell_type": "code",
   "execution_count": 4,
   "id": "e852fc69-a7a3-4f23-a044-8328960b215a",
   "metadata": {},
   "outputs": [
    {
     "name": "stdout",
     "output_type": "stream",
     "text": [
      "Fraudulent:492, non-fraudulent:284315\n",
      "the positive class (frauds) percentage: 492/284807 (0.173%)\n"
     ]
    }
   ],
   "source": [
    "fraud = data[data['Class'] == 1]\n",
    "nonfraud = data[data['Class'] == 0]\n",
    "print(f'Fraudulent:{len(fraud)}, non-fraudulent:{len(nonfraud)}')\n",
    "print(f'the positive class (frauds) percentage: {len(fraud)}/{len(fraud) + len(nonfraud)} ({len(fraud)/(len(fraud) + len(nonfraud))*100:.3f}%)')"
   ]
  },
  {
   "cell_type": "markdown",
   "id": "c66e31cb-c5ed-4f9e-b848-4e1adec7ce70",
   "metadata": {},
   "source": [
    "## 非監督式學習(KMeans)"
   ]
  },
  {
   "cell_type": "code",
   "execution_count": 5,
   "id": "ba2a7f9f-3253-447f-982c-4c4be9614f3d",
   "metadata": {},
   "outputs": [],
   "source": [
    "def align_labels(y_true, y_pred, n_clusters):\n",
    "   labels = np.zeros_like(y_pred)\n",
    "   for i in range(n_clusters):\n",
    "       mask = (y_pred == i)\n",
    "       if np.sum(mask) > 0:\n",
    "           labels[mask] = np.bincount(y_true[mask]).argmax()\n",
    "       else:\n",
    "           labels[mask] = 0  # Default to normal class\n",
    "   return labels"
   ]
  },
  {
   "cell_type": "code",
   "execution_count": 6,
   "id": "4ac9a199-0889-422a-b3d7-ff51843946e0",
   "metadata": {},
   "outputs": [],
   "source": [
    "# Extract features and labels\n",
    "X = np.asarray(data.drop(columns=['Class']))\n",
    "y = np.asarray(data['Class'])\n",
    "\n",
    "# Split the dataset into training and testing sets (with stratification)\n",
    "x_train, x_test, y_train, y_test = train_test_split(\n",
    "   X, y, test_size=TEST_SIZE, random_state=RANDOM_SEED, stratify=y\n",
    ")\n",
    "\n",
    "scaler = StandardScaler()\n",
    "x_train = scaler.fit_transform(x_train)\n",
    "x_test = scaler.transform(x_test)\n",
    "\n",
    "# Select a small sample of normal (non-fraud) data for unsupervised training\n",
    "n_x_train = x_train[y_train == 0]\n",
    "n_x_train = n_x_train[:1000]\n",
    "\n",
    "scores = []\n",
    "for k in range(2, 5):\n",
    "   kmeans = KMeans(n_clusters=k, init='k-means++', random_state=RANDOM_SEED)\n",
    "   kmeans.fit(n_x_train)\n",
    "   score = silhouette_score(n_x_train, kmeans.labels_)\n",
    "   scores.append(score)\n",
    "\n",
    "optimal_k = np.argmax(scores) + 2\n",
    "kmeans = KMeans(n_clusters=optimal_k, init='k-means++', random_state=RANDOM_SEED)\n",
    "kmeans.fit(n_x_train)\n",
    "y_pred_test = kmeans.predict(x_test)\n",
    "\n",
    "y_pred_aligned = align_labels(y_test, y_pred_test, optimal_k)"
   ]
  },
  {
   "cell_type": "markdown",
   "id": "8789c56f-e87a-4539-ac34-5c367193a772",
   "metadata": {},
   "source": [
    "## Result of 非監督式學習(KMeans)"
   ]
  },
  {
   "cell_type": "code",
   "execution_count": 7,
   "id": "25e94260-4e89-4269-ba8d-b0d8b2e3e0ee",
   "metadata": {},
   "outputs": [],
   "source": [
    "def evaluation(y_true, y_pred, model_name=\"Model\"):\n",
    "   accuracy = accuracy_score(y_true, y_pred)\n",
    "   precision = precision_score(y_true, y_pred, zero_division=0)\n",
    "   recall = recall_score(y_true, y_pred)\n",
    "   f1 = f1_score(y_true, y_pred)\n",
    "\n",
    "   print(f'\\n{model_name} Evaluation:')\n",
    "   print('===' * 15)\n",
    "   print('         Accuracy:', accuracy)\n",
    "   print('  Precision Score:', precision)\n",
    "   print('     Recall Score:', recall)\n",
    "   print('         F1 Score:', f1)\n",
    "   print(\"\\nClassification Report:\")\n",
    "   print(classification_report(y_true, y_pred))"
   ]
  },
  {
   "cell_type": "code",
   "execution_count": 8,
   "id": "a613639b-9062-4e96-94dd-14555adac07f",
   "metadata": {},
   "outputs": [
    {
     "name": "stdout",
     "output_type": "stream",
     "text": [
      "\n",
      "KMeans (Unsupervised) Evaluation:\n",
      "=============================================\n",
      "         Accuracy: 0.9987242957293166\n",
      "  Precision Score: 0.782608695652174\n",
      "     Recall Score: 0.36486486486486486\n",
      "         F1 Score: 0.4976958525345622\n",
      "\n",
      "Classification Report:\n",
      "              precision    recall  f1-score   support\n",
      "\n",
      "           0       1.00      1.00      1.00     85295\n",
      "           1       0.78      0.36      0.50       148\n",
      "\n",
      "    accuracy                           1.00     85443\n",
      "   macro avg       0.89      0.68      0.75     85443\n",
      "weighted avg       1.00      1.00      1.00     85443\n",
      "\n"
     ]
    }
   ],
   "source": [
    "evaluation(y_test, y_pred_aligned, model_name=\"KMeans (Unsupervised)\")"
   ]
  },
  {
   "cell_type": "markdown",
   "id": "c389d0a0-7815-45ca-8433-aee335460614",
   "metadata": {},
   "source": [
    "## 調整參數"
   ]
  },
  {
   "cell_type": "code",
   "execution_count": 9,
   "id": "ba9b7c28-05b1-4e14-a891-92884fb349f4",
   "metadata": {},
   "outputs": [],
   "source": [
    "def tune_km_param(param_name, param_values, fixed_params, X, y, title=None):\n",
    "    res = []\n",
    "\n",
    "    x_train, x_test, y_train, y_test = train_test_split(\n",
    "        X, y, test_size=TEST_SIZE, random_state=RANDOM_SEED, stratify=y)\n",
    "\n",
    "    scaler = StandardScaler()\n",
    "    x_train = scaler.fit_transform(x_train)\n",
    "    x_test = scaler.transform(x_test)\n",
    "\n",
    "    pca = PCA(n_components=25)\n",
    "    x_train = pca.fit_transform(x_train)\n",
    "    x_test = pca.transform(x_test)\n",
    "\n",
    "    n_x_train = x_train[y_train == 0]\n",
    "    n_x_train = n_x_train[:1000]\n",
    "\n",
    "    for val in param_values:\n",
    "        params = fixed_params.copy()\n",
    "        params[param_name] = val\n",
    "\n",
    "        kmeans = KMeans(**params)\n",
    "        kmeans.fit(n_x_train)\n",
    "\n",
    "        y_pred_test = kmeans.predict(x_test)\n",
    "        y_pred_aligned = align_labels(y_test, y_pred_test, params.get(\"n_clusters\", 2))\n",
    "        score = f1_score(y_test, y_pred_aligned)\n",
    "        res.append(score)\n",
    "\n",
    "    best_idx = res.index(max(res))\n",
    "    best_value = param_values[best_idx]\n",
    "    best_score = res[best_idx]\n",
    "\n",
    "    print(f\"Best {param_name}: {best_value}, Best F1 score: {best_score:.4f}\")\n",
    "\n",
    "    plt.figure(figsize=(12, 4))\n",
    "    x_vals = [str(v) for v in param_values]\n",
    "    plt.plot(x_vals, res, marker='o')\n",
    "    plt.xlabel(param_name)\n",
    "    plt.ylabel(\"F1 Score\")\n",
    "    plt.title(title if title else f\"Tuning {param_name} (KMeans)\")\n",
    "    plt.grid(True)\n",
    "    plt.show()\n",
    "\n",
    "    return best_value, best_score"
   ]
  },
  {
   "cell_type": "code",
   "execution_count": 10,
   "id": "e08dc169-1679-4ee1-a688-3c85b1f2f7c4",
   "metadata": {},
   "outputs": [],
   "source": [
    "fixed_params = {\n",
    "    'init': 'k-means++',\n",
    "    'random_state': RANDOM_SEED,\n",
    "}"
   ]
  },
  {
   "cell_type": "markdown",
   "id": "edb205ed-bf8f-4960-b1c2-502f166b40e4",
   "metadata": {},
   "source": [
    "### n_clusters "
   ]
  },
  {
   "cell_type": "code",
   "execution_count": 11,
   "id": "642de6ce-707d-406a-afbf-7e87e3799a26",
   "metadata": {},
   "outputs": [
    {
     "name": "stdout",
     "output_type": "stream",
     "text": [
      "Best n_clusters: 3, Best F1 score: 0.5114\n"
     ]
    },
    {
     "data": {
      "image/png": "[encoded data removed]",
      "text/plain": [
       "<Figure size 1200x400 with 1 Axes>"
      ]
     },
     "metadata": {},
     "output_type": "display_data"
    },
    {
     "name": "stdout",
     "output_type": "stream",
     "text": [
      "{'init': 'k-means++', 'random_state': 42, 'n_clusters': 3}\n"
     ]
    }
   ],
   "source": [
    "param_range = list(range(2, 20))\n",
    "\n",
    "best_n, best_score = tune_km_param(\n",
    "    param_name='n_clusters',\n",
    "    param_values=param_range,\n",
    "    fixed_params=fixed_params,\n",
    "    X=X,\n",
    "    y=y,\n",
    "    title='Refine Search: n_clusters'\n",
    ")\n",
    "\n",
    "fixed_params['n_clusters'] = best_n\n",
    "print(fixed_params)"
   ]
  },
  {
   "cell_type": "markdown",
   "id": "39b63f74-f9a9-4e84-97be-998cb0978969",
   "metadata": {},
   "source": [
    "### n_init"
   ]
  },
  {
   "cell_type": "code",
   "execution_count": 12,
   "id": "234cb339-f610-431f-b0c3-4d73a30025c2",
   "metadata": {},
   "outputs": [
    {
     "name": "stdout",
     "output_type": "stream",
     "text": [
      "Best n_init: 10, Best F1 score: 0.5114\n"
     ]
    },
    {
     "data": {
      "image/png": "[encoded data removed]",
      "text/plain": [
       "<Figure size 1200x400 with 1 Axes>"
      ]
     },
     "metadata": {},
     "output_type": "display_data"
    },
    {
     "name": "stdout",
     "output_type": "stream",
     "text": [
      "{'init': 'k-means++', 'random_state': 42, 'n_clusters': 3, 'n_init': 10}\n"
     ]
    }
   ],
   "source": [
    "param_range = list(range(10, 50, 5))\n",
    "\n",
    "best_n, best_score = tune_km_param(\n",
    "    param_name='n_init',\n",
    "    param_values=param_range,\n",
    "    fixed_params=fixed_params,\n",
    "    X=X,\n",
    "    y=y,\n",
    "    title='Refine Search: n_init'\n",
    ")\n",
    "\n",
    "fixed_params['n_init'] = best_n\n",
    "print(fixed_params)"
   ]
  },
  {
   "cell_type": "markdown",
   "id": "0aadb4a8-6d05-414c-af66-4f5ec9be6462",
   "metadata": {},
   "source": [
    "## 實際測試"
   ]
  },
  {
   "cell_type": "code",
   "execution_count": 13,
   "id": "c353be79-5f3f-4e3f-ab66-b18e946d9ea9",
   "metadata": {},
   "outputs": [
    {
     "name": "stdout",
     "output_type": "stream",
     "text": [
      "{'init': 'k-means++', 'random_state': 42, 'n_clusters': 3, 'n_init': 10}\n"
     ]
    }
   ],
   "source": [
    "print(fixed_params)"
   ]
  },
  {
   "cell_type": "code",
   "execution_count": 14,
   "id": "dd8ee42c-312c-4f34-a58b-9b18f4abec03",
   "metadata": {},
   "outputs": [
    {
     "name": "stdout",
     "output_type": "stream",
     "text": [
      "\n",
      "KMeans (Unsupervised) Evaluation:\n",
      "=============================================\n",
      "         Accuracy: 0.9987477031471274\n",
      "  Precision Score: 0.7887323943661971\n",
      "     Recall Score: 0.3783783783783784\n",
      "         F1 Score: 0.5114155251141552\n",
      "\n",
      "Classification Report:\n",
      "              precision    recall  f1-score   support\n",
      "\n",
      "           0       1.00      1.00      1.00     85295\n",
      "           1       0.79      0.38      0.51       148\n",
      "\n",
      "    accuracy                           1.00     85443\n",
      "   macro avg       0.89      0.69      0.76     85443\n",
      "weighted avg       1.00      1.00      1.00     85443\n",
      "\n"
     ]
    }
   ],
   "source": [
    "x_train, x_test, y_train, y_test = train_test_split(\n",
    "   X, y, test_size=TEST_SIZE, random_state=RANDOM_SEED, stratify=y\n",
    ")\n",
    "\n",
    "scaler = StandardScaler()\n",
    "x_train = scaler.fit_transform(x_train)\n",
    "x_test = scaler.transform(x_test)\n",
    "\n",
    "pca = PCA(n_components=25)\n",
    "x_train = pca.fit_transform(x_train)\n",
    "x_test = pca.transform(x_test)\n",
    "\n",
    "n_x_train = x_train[y_train == 0]\n",
    "n_x_train = n_x_train[:1000]\n",
    "\n",
    "kmeans = KMeans(**fixed_params)\n",
    "kmeans.fit(n_x_train)\n",
    "\n",
    "y_pred_test = kmeans.predict(x_test)\n",
    "\n",
    "y_pred_aligned = align_labels(y_test, y_pred_test, optimal_k)\n",
    "evaluation(y_test, y_pred_aligned, model_name=\"KMeans (Unsupervised)\")"
   ]
  },
  {
   "cell_type": "code",
   "execution_count": null,
   "id": "5b93dbda-9dd2-4a68-8ad2-24d8c4837f8d",
   "metadata": {},
   "outputs": [],
   "source": []
  }
 ],
 "metadata": {
  "kernelspec": {
   "display_name": "Python 3 (ipykernel)",
   "language": "python",
   "name": "python3"
  },
  "language_info": {
   "codemirror_mode": {
    "name": "ipython",
    "version": 3
   },
   "file_extension": ".py",
   "mimetype": "text/x-python",
   "name": "python",
   "nbconvert_exporter": "python",
   "pygments_lexer": "ipython3",
   "version": "3.12.3"
  }
 },
 "nbformat": 4,
 "nbformat_minor": 5
}
