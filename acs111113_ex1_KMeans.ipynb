{
 "cells": [
  {
   "cell_type": "markdown",
   "id": "82355e74",
   "metadata": {},
   "source": [
    "# Unsupervised Fraud Detection with KMeans\n",
    "\n",
    "This notebook demonstrates how to use **KMeans clustering** for fraud detection on the Kaggle credit card fraud dataset. We train KMeans on a mixed sample of normal and fraudulent transactions, then evaluate its performance."
   ]
  },
  {
   "cell_type": "code",
   "execution_count": null,
   "id": "759bbfe0",
   "metadata": {},
   "outputs": [],
   "source": [
    "import numpy as np\n",
    "import pandas as pd\n",
    "from sklearn.model_selection import train_test_split\n",
    "from sklearn.preprocessing import StandardScaler\n",
    "from sklearn.metrics import silhouette_score\n",
    "from sklearn.cluster import KMeans\n",
    "from sklearn.metrics import (\n",
    "    classification_report, accuracy_score, precision_score,\n",
    "    recall_score, f1_score, confusion_matrix\n",
    ")\n",
    "import kagglehub\n",
    "\n",
    "# General settings\n",
    "RANDOM_SEED = 42\n",
    "TEST_SIZE = 0.3"
   ]
  },
  {
   "cell_type": "code",
   "execution_count": null,
   "id": "47de402f",
   "metadata": {},
   "outputs": [],
   "source": [
    "# Download and load the dataset\n",
    "path = kagglehub.dataset_download(\"mlg-ulb/creditcardfraud\")\n",
    "data = pd.read_csv(f\"{path}/creditcard.csv\")\n",
    "data['Class'] = data['Class'].astype(int)\n",
    "data.head()"
   ]
  },
  {
   "cell_type": "code",
   "execution_count": null,
   "id": "fa4b9c63",
   "metadata": {},
   "outputs": [],
   "source": [
    "# Drop 'Time' and scale 'Amount'\n",
    "data = data.drop(['Time'], axis=1)\n",
    "data['Amount'] = StandardScaler().fit_transform(data['Amount'].values.reshape(-1, 1))\n",
    "\n",
    "fraud = data[data['Class'] == 1]\n",
    "nonfraud = data[data['Class'] == 0]\n",
    "\n",
    "print(f'Fraudulent: {len(fraud)}, Non-fraudulent: {len(nonfraud)}')\n",
    "print(f'Fraud percentage: {len(fraud)}/{len(fraud) + len(nonfraud)} '\n",
    "      f'({len(fraud)/(len(fraud) + len(nonfraud)) * 100:.3f}%)')"
   ]
  },
  {
   "cell_type": "code",
   "execution_count": null,
   "id": "25a3b35f",
   "metadata": {},
   "outputs": [],
   "source": [
    "# Features & labels\n",
    "X = np.asarray(data.drop(columns=['Class']))\n",
    "y = np.asarray(data['Class'])\n",
    "\n",
    "# Stratified split\n",
    "x_train, x_test, y_train, y_test = train_test_split(\n",
    "    X, y, test_size=TEST_SIZE, random_state=RANDOM_SEED, stratify=y\n",
    ")\n",
    "\n",
    "# Scale\n",
    "scaler = StandardScaler()\n",
    "x_train = scaler.fit_transform(x_train)\n",
    "x_test = scaler.transform(x_test)"
   ]
  },
  {
   "cell_type": "code",
   "execution_count": null,
   "id": "a4c1d1d8",
   "metadata": {},
   "outputs": [],
   "source": [
    "# Create training sample: 5000 normal + 500 fraud\n",
    "np.random.seed(RANDOM_SEED)\n",
    "\n",
    "normal_train_indices = np.where(y_train == 0)[0]\n",
    "fraud_train_indices = np.where(y_train == 1)[0]\n",
    "\n",
    "np.random.shuffle(normal_train_indices)\n",
    "np.random.shuffle(fraud_train_indices)\n",
    "\n",
    "selected_normal_train = normal_train_indices[:5000]\n",
    "selected_fraud_train = fraud_train_indices[:500]\n",
    "\n",
    "selected_train_indices = np.concatenate([selected_normal_train, selected_fraud_train])\n",
    "np.random.shuffle(selected_train_indices)\n",
    "\n",
    "n_x_train = x_train[selected_train_indices]\n",
    "\n",
    "print(f\"Custom training sample shape: {n_x_train.shape}\")"
   ]
  },
  {
   "cell_type": "code",
   "execution_count": null,
   "id": "b9109162",
   "metadata": {},
   "outputs": [],
   "source": [
    "# Try different k values\n",
    "scores = []\n",
    "for k in range(2, 8):\n",
    "    kmeans = KMeans(n_clusters=k, init='k-means++', random_state=RANDOM_SEED)\n",
    "    kmeans.fit(n_x_train)\n",
    "    score = silhouette_score(n_x_train, kmeans.labels_)\n",
    "    scores.append(score)\n",
    "    print(f\"k={k}, Silhouette Score={score:.4f}\")\n",
    "\n",
    "optimal_k = np.argmax(scores) + 2\n",
    "print(f\"\\nOptimal k: {optimal_k}\")\n",
    "\n",
    "# Fit final KMeans\n",
    "kmeans = KMeans(n_clusters=optimal_k, init='k-means++', random_state=RANDOM_SEED)\n",
    "kmeans.fit(n_x_train)"
   ]
  },
  {
   "cell_type": "code",
   "execution_count": null,
   "id": "6500f487",
   "metadata": {},
   "outputs": [],
   "source": [
    "# Predict on test set\n",
    "y_pred_test = kmeans.predict(x_test)\n",
    "\n",
    "# Align cluster labels\n",
    "def align_labels(y_true, y_pred, n_clusters):\n",
    "    labels = np.zeros_like(y_pred)\n",
    "    for i in range(n_clusters):\n",
    "        mask = (y_pred == i)\n",
    "        if np.sum(mask) > 0:\n",
    "            labels[mask] = np.bincount(y_true[mask]).argmax()\n",
    "        else:\n",
    "            labels[mask] = 0\n",
    "    return labels\n",
    "\n",
    "y_pred_aligned = align_labels(y_test, y_pred_test, optimal_k)"
   ]
  },
  {
   "cell_type": "code",
   "execution_count": null,
   "id": "4e4a6280",
   "metadata": {},
   "outputs": [],
   "source": [
    "def evaluation(y_true, y_pred, model_name=\"Model\"):\n",
    "    accuracy = accuracy_score(y_true, y_pred)\n",
    "    precision = precision_score(y_true, y_pred, zero_division=0)\n",
    "    recall = recall_score(y_true, y_pred)\n",
    "    f1 = f1_score(y_true, y_pred)\n",
    "\n",
    "    print(f'\\n{model_name} Evaluation:')\n",
    "    print('===' * 15)\n",
    "    print('         Accuracy:', accuracy)\n",
    "    print('  Precision Score:', precision)\n",
    "    print('     Recall Score:', recall)\n",
    "    print('         F1 Score:', f1)\n",
    "    print(\"\\nClassification Report:\")\n",
    "    print(classification_report(y_true, y_pred))\n",
    "\n",
    "evaluation(y_test, y_pred_aligned, model_name=\"KMeans (Unsupervised)\")"
   ]
  }
 ],
 "metadata": {},
 "nbformat": 4,
 "nbformat_minor": 5
}
