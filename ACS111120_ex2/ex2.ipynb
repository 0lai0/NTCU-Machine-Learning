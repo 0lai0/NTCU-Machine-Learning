{
 "cells": [
  {
   "cell_type": "markdown",
   "id": "b6b619ad",
   "metadata": {},
   "source": [
    "# ACS111120 - 挑戰二\n",
    "融合監督與非監督式學習程式碼"
   ]
  },
  {
   "cell_type": "code",
   "execution_count": null,
   "id": "ba315add",
   "metadata": {},
   "outputs": [],
   "source": [
    "\n",
    "from sklearn.ensemble import IsolationForest\n",
    "from xgboost import XGBClassifier\n",
    "\n",
    "iso = IsolationForest(contamination=0.0017, random_state=RANDOM_SEED)\n",
    "iso_pred = iso.fit_predict(X)\n",
    "iso_pred = np.where(iso_pred == 1, 0, 1)\n",
    "data['IsoAnomaly'] = iso_pred\n",
    "\n",
    "X_new = data.drop(columns=['Class'])\n",
    "Y = data['Class']\n",
    "X_train, X_test, y_train, y_test = train_test_split(X_new, Y, test_size=TEST_SIZE, random_state=RANDOM_SEED, stratify=Y)\n",
    "\n",
    "xgb = XGBClassifier(random_state=RANDOM_SEED, use_label_encoder=False, eval_metric='logloss')\n",
    "xgb.fit(X_train, y_train)\n",
    "y_xgb_pred = xgb.predict(X_test)\n",
    "\n",
    "evaluation(y_test, y_xgb_pred, model_name=\"Isolation + XGBoost\")\n"
   ]
  }
 ],
 "metadata": {},
 "nbformat": 4,
 "nbformat_minor": 5
}
