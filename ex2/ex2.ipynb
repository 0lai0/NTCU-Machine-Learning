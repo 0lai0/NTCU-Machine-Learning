{
  "nbformat": 4,
  "nbformat_minor": 0,
  "metadata": {
    "colab": {
      "provenance": []
    },
    "kernelspec": {
      "name": "python3",
      "display_name": "Python 3"
    },
    "language_info": {
      "name": "python"
    }
  },
  "cells": [
    {
      "cell_type": "code",
      "source": [
        "import numpy as np\n",
        "import pandas as pd\n",
        "from sklearn.model_selection import train_test_split\n",
        "from sklearn.preprocessing import StandardScaler\n",
        "from sklearn.ensemble import RandomForestClassifier\n",
        "from sklearn.cluster import KMeans\n",
        "from sklearn.metrics import classification_report, accuracy_score, precision_score, recall_score, f1_score\n",
        "from imblearn.over_sampling import SMOTE\n",
        "import kagglehub\n",
        "\n",
        "# General settings\n",
        "RANDOM_SEED = 42\n",
        "TEST_SIZE = 0.3\n",
        "\n",
        "# Load dataset\n",
        "path = kagglehub.dataset_download(\"mlg-ulb/creditcardfraud\")\n",
        "data = pd.read_csv(f\"{path}/creditcard.csv\")\n",
        "data['Class'] = data['Class'].astype(int)\n",
        "\n",
        "# Prepare data\n",
        "data = data.drop(['Time'], axis=1)\n",
        "data['Amount'] = StandardScaler().fit_transform(data['Amount'].values.reshape(-1, 1))\n",
        "\n",
        "# Print class distribution\n",
        "fraud = data[data['Class'] == 1]\n",
        "nonfraud = data[data['Class'] == 0]\n",
        "print(f'Fraudulent: {len(fraud)}, Non-fraudulent: {len(nonfraud)}')\n",
        "print(f'The positive class (frauds) percentage: {len(fraud)}/{len(fraud) + len(nonfraud)} '\n",
        "      f'({len(fraud)/(len(fraud) + len(nonfraud))*100:.3f}%)')\n",
        "\n",
        "# Extract features and labels\n",
        "X = np.asarray(data.drop(columns=['Class']))\n",
        "y = np.asarray(data['Class'])\n",
        "\n",
        "# Split data\n",
        "X_train, X_test, y_train, y_test = train_test_split(X, y, test_size=TEST_SIZE, random_state=RANDOM_SEED, stratify=y)\n",
        "# Scale features\n",
        "scaler = StandardScaler()\n",
        "X_train_scaled = scaler.fit_transform(X_train)\n",
        "X_test_scaled = scaler.transform(X_test)\n",
        "# Split data\n",
        "smote = SMOTE(random_state=RANDOM_SEED)\n",
        "X_train_res, y_train_res = smote.fit_resample(X_train_scaled, y_train.ravel())\n",
        "\n",
        "rf = RandomForestClassifier(n_estimators=200, max_depth=10, min_samples_leaf=5, class_weight='balanced', random_state=RANDOM_SEED)\n",
        "rf.fit(X_train_res, y_train_res)\n",
        "\n",
        "y_probs = rf.predict_proba(X_test_scaled)[:, 1]\n",
        "\n",
        "best_threshold = 0.663\n",
        "y_pred = (y_probs >= best_threshold).astype(int)\n",
        "\n",
        "# Define evaluation function\n",
        "def evaluation(y_true, y_pred, model_name=\"Model\"):\n",
        "    accuracy = accuracy_score(y_true, y_pred)\n",
        "    precision = precision_score(y_true, y_pred)\n",
        "    recall = recall_score(y_true, y_pred)\n",
        "    f1 = f1_score(y_true, y_pred)\n",
        "    print(f'\\n{model_name} Evaluation:')\n",
        "    print('===' * 15)\n",
        "    print('         Accuracy:', accuracy)\n",
        "    print('  Precision Score:', precision)\n",
        "    print('     Recall Score:', recall)\n",
        "    print('         F1 Score:', f1)\n",
        "    print(\"\\nClassification Report:\")\n",
        "    print(classification_report(y_true, y_pred))\n",
        "\n",
        "evaluation(y_test, y_pred)"
      ],
      "metadata": {
        "colab": {
          "base_uri": "https://localhost:8080/"
        },
        "id": "oSJh4rrCiAyn",
        "outputId": "b846a94e-d031-4734-da31-3513f46680ca"
      },
      "execution_count": 23,
      "outputs": [
        {
          "output_type": "stream",
          "name": "stdout",
          "text": [
            "Fraudulent: 492, Non-fraudulent: 284315\n",
            "The positive class (frauds) percentage: 492/284807 (0.173%)\n",
            "\n",
            "Model Evaluation:\n",
            "=============================================\n",
            "         Accuracy: 0.9989700736163291\n",
            "  Precision Score: 0.6724137931034483\n",
            "     Recall Score: 0.7905405405405406\n",
            "         F1 Score: 0.7267080745341615\n",
            "\n",
            "Classification Report:\n",
            "              precision    recall  f1-score   support\n",
            "\n",
            "           0       1.00      1.00      1.00     85295\n",
            "           1       0.67      0.79      0.73       148\n",
            "\n",
            "    accuracy                           1.00     85443\n",
            "   macro avg       0.84      0.89      0.86     85443\n",
            "weighted avg       1.00      1.00      1.00     85443\n",
            "\n"
          ]
        }
      ]
    }
  ]
}