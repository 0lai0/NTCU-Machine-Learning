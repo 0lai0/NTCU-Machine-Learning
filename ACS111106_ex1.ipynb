{
  "nbformat": 4,
  "nbformat_minor": 0,
  "metadata": {
    "colab": {
      "provenance": [],
      "authorship_tag": "ABX9TyNj5obWFbD8OkE4bcfgMo1h",
      "include_colab_link": true
    },
    "kernelspec": {
      "name": "python3",
      "display_name": "Python 3"
    },
    "language_info": {
      "name": "python"
    }
  },
  "cells": [
    {
      "cell_type": "markdown",
      "metadata": {
        "id": "view-in-github",
        "colab_type": "text"
      },
      "source": [
        "<a href=\"https://colab.research.google.com/github/thomaschen01/NTCU-Machine-Learning/blob/main/ACS111106_ex1.ipynb\" target=\"_parent\"><img src=\"https://colab.research.google.com/assets/colab-badge.svg\" alt=\"Open In Colab\"/></a>"
      ]
    },
    {
      "cell_type": "code",
      "source": [
        "from google.colab import drive\n",
        "drive.mount('/content/drive')"
      ],
      "metadata": {
        "colab": {
          "base_uri": "https://localhost:8080/"
        },
        "id": "RyiCJTaroZ0y",
        "outputId": "222ee770-2248-4061-9162-08a2c7fea416"
      },
      "execution_count": null,
      "outputs": [
        {
          "output_type": "stream",
          "name": "stdout",
          "text": [
            "Mounted at /content/drive\n"
          ]
        }
      ]
    },
    {
      "cell_type": "code",
      "execution_count": 7,
      "metadata": {
        "colab": {
          "base_uri": "https://localhost:8080/"
        },
        "id": "G-F8oRySYTGX",
        "outputId": "bd301205-d896-4468-ddf5-b8d012d7deb5"
      },
      "outputs": [
        {
          "output_type": "stream",
          "name": "stdout",
          "text": [
            "Class\n",
            "0    284315\n",
            "1       492\n",
            "Name: count, dtype: int64\n",
            "[[85133    16]\n",
            " [    0 85440]]\n",
            "              precision    recall  f1-score   support\n",
            "\n",
            "           0       1.00      1.00      1.00     85149\n",
            "           1       1.00      1.00      1.00     85440\n",
            "\n",
            "    accuracy                           1.00    170589\n",
            "   macro avg       1.00      1.00      1.00    170589\n",
            "weighted avg       1.00      1.00      1.00    170589\n",
            "\n"
          ]
        }
      ],
      "source": [
        "import pandas as pd\n",
        "from sklearn.model_selection import train_test_split\n",
        "from sklearn.ensemble import RandomForestClassifier\n",
        "from sklearn.metrics import classification_report, confusion_matrix\n",
        "from imblearn.over_sampling import SMOTE\n",
        "from sklearn.preprocessing import StandardScaler\n",
        "# 讀取資料\n",
        "url = \"https://www.kaggle.com/datasets/mlg-ulb/creditcardfraud/download?datasetVersionNumber=1\"\n",
        "df = pd.read_csv('/content/drive/MyDrive/creditcard.csv')\n",
        "print(df['Class'].value_counts())\n",
        "# 特徵縮放\n",
        "scaler = StandardScaler()\n",
        "df['Amount'] = scaler.fit_transform(df[['Amount']])\n",
        "df['Time'] = scaler.fit_transform(df[['Time']])\n",
        "# 分割資料\n",
        "X = df.drop('Class', axis=1)\n",
        "y = df['Class']\n",
        "X_resampled, y_resampled = SMOTE().fit_resample(X, y)\n",
        "X_train, X_test, y_train, y_test = train_test_split(X_resampled, y_resampled, test_size=0.3, random_state=42)\n",
        "# 模型訓練\n",
        "clf = RandomForestClassifier()\n",
        "clf.fit(X_train, y_train)\n",
        "# 預測與評估\n",
        "y_pred = clf.predict(X_test)\n",
        "print(confusion_matrix(y_test, y_pred))\n",
        "print(classification_report(y_test, y_pred))"
      ]
    }
  ]
}