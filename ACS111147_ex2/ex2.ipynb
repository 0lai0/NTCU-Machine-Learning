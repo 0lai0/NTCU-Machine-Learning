{
  "nbformat": 4,
  "nbformat_minor": 0,
  "metadata": {
    "colab": {
      "provenance": []
    },
    "kernelspec": {
      "name": "python3",
      "display_name": "Python 3"
    },
    "language_info": {
      "name": "python"
    }
  },
  "cells": [
    {
      "cell_type": "code",
      "source": [
        "# 載入必要套件\n",
        "import numpy as np\n",
        "import pandas as pd\n",
        "from sklearn.ensemble import IsolationForest\n",
        "from xgboost import XGBClassifier\n",
        "from sklearn.model_selection import train_test_split\n",
        "from sklearn.preprocessing import StandardScaler\n",
        "from sklearn.metrics import (\n",
        "    accuracy_score,\n",
        "    precision_score,\n",
        "    recall_score,\n",
        "    f1_score,\n",
        "    classification_report\n",
        ")\n",
        "import kagglehub  # 用於下載 Kaggle 資料集\n",
        "\n",
        "# 一般設定\n",
        "RANDOM_SEED = 42\n",
        "TEST_SIZE = 0.3"
      ],
      "metadata": {
        "id": "zaIXF6RG418d"
      },
      "execution_count": null,
      "outputs": []
    },
    {
      "cell_type": "code",
      "source": [
        "# 讀取資料並前處理\n",
        "path = kagglehub.dataset_download(\"mlg-ulb/creditcardfraud\")\n",
        "data = pd.read_csv(f\"{path}/creditcard.csv\")\n",
        "data.drop(['Time'], axis=1, inplace=True)\n",
        "data['Amount'] = StandardScaler().fit_transform(\n",
        "    data['Amount'].values.reshape(-1, 1)\n",
        ")\n",
        "X = data.drop(columns=['Class']).values\n",
        "y = data['Class'].values\n",
        "\n",
        "# 切分訓練與測試集\n",
        "X_train, X_test, y_train, y_test = train_test_split(\n",
        "    X, y,\n",
        "    test_size=TEST_SIZE,\n",
        "    random_state=RANDOM_SEED,\n",
        "    stratify=y\n",
        ")\n",
        "\n",
        "# 切分詐欺與非詐欺交易\n",
        "fraud = data[data['Class'] == 1]\n",
        "nonfraud = data[data['Class'] == 0]\n",
        "print(f'Fraudulent: {len(fraud)}, non-fraudulent: {len(nonfraud)}')\n",
        "print(f'Positive class percentage: {len(fraud)/(len(fraud)+len(nonfraud))*100:.3f}%')\n",
        "\n",
        "# 定義通用評估函式\n",
        "def evaluation(y_true, y_pred, model_name=\"Model\"):\n",
        "    accuracy = accuracy_score(y_true, y_pred)\n",
        "    precision = precision_score(y_true, y_pred, zero_division=0)\n",
        "    recall = recall_score(y_true, y_pred)\n",
        "    f1 = f1_score(y_true, y_pred)\n",
        "    print(f'\\n{model_name} Evaluation:')\n",
        "    print('===' * 15)\n",
        "    print('         Accuracy:', accuracy)\n",
        "    print('  Precision Score:', precision)\n",
        "    print('     Recall Score:', recall)\n",
        "    print('         F1 Score:', f1)\n",
        "    print(\"\\nClassification Report:\")\n",
        "    print(classification_report(y_true, y_pred))\n",
        ""
      ],
      "metadata": {
        "id": "Om9ZgIq-43I0",
        "colab": {
          "base_uri": "https://localhost:8080/"
        },
        "outputId": "74842995-8ff6-41d0-a93d-7716d46ce36f"
      },
      "execution_count": 25,
      "outputs": [
        {
          "output_type": "stream",
          "name": "stdout",
          "text": [
            "Fraudulent: 492, non-fraudulent: 284315\n",
            "Positive class percentage: 0.173%\n"
          ]
        }
      ]
    },
    {
      "cell_type": "code",
      "source": [
        "selected_features = ['V1','V2','V3','V4','V5','V6','V7',\n",
        "                     'V9','V10','V11','V12','V14','V16','V17','V18','V19','Amount']\n",
        "X  = data[selected_features].to_numpy()\n",
        "y  = data['Class'].to_numpy()\n",
        "\n",
        "nonfraud_sample = nonfraud.sample(n=5000, random_state=RANDOM_SEED)\n",
        "data_balanced   = pd.concat([fraud, nonfraud_sample])\n",
        "\n",
        "X_bal = data_balanced[selected_features].to_numpy()\n",
        "y_bal = data_balanced['Class'].to_numpy()\n",
        "\n",
        "# -----------------------------------------\n",
        "# 2. 切分 train / test\n",
        "# -----------------------------------------\n",
        "X_train, X_test, y_train, y_test = train_test_split(\n",
        "    X_bal, y_bal, test_size=TEST_SIZE, random_state=RANDOM_SEED, stratify=y_bal)\n",
        "\n",
        "# -----------------------------------------\n",
        "# 3. Isolation Forest → 產生 anomaly score\n",
        "#    只用正常樣本 fit，避免資訊外洩\n",
        "# -----------------------------------------\n",
        "iso = IsolationForest(\n",
        "        n_estimators=300,\n",
        "        max_samples='auto',\n",
        "        contamination='auto',\n",
        "        bootstrap=True,\n",
        "        random_state=RANDOM_SEED\n",
        "     )\n",
        "iso.fit(X_train[y_train == 0])\n",
        "\n",
        "# decision_function：分數越低越異常\n",
        "iso_train = (-iso.decision_function(X_train)).reshape(-1, 1)  # 反向 → 分數大 = 高風險\n",
        "iso_test  = (-iso.decision_function(X_test )).reshape(-1, 1)\n",
        "\n",
        "# 疊回特徵\n",
        "X_train_if = np.hstack([X_train, iso_train])\n",
        "X_test_if  = np.hstack([X_test , iso_test ])\n",
        "\n",
        "# -----------------------------------------\n",
        "# 4. XGBoost（含新特徵）\n",
        "# -----------------------------------------\n",
        "scale_pos_weight = (y_train == 0).sum() / (y_train == 1).sum()\n",
        "\n",
        "xgb_model = XGBClassifier(\n",
        "    n_estimators=300,\n",
        "    max_depth=6,\n",
        "    learning_rate=0.07,\n",
        "    subsample=0.8,\n",
        "    colsample_bytree=0.8,\n",
        "    scale_pos_weight=scale_pos_weight,\n",
        "    random_state=RANDOM_SEED,\n",
        "    eval_metric='logloss'\n",
        ")\n",
        "xgb_model.fit(X_train_if, y_train)\n",
        "\n",
        "y_pred = xgb_model.predict(X_test_if)\n",
        "y_prob = xgb_model.predict_proba(X_test_if)[:, 1]\n",
        "\n",
        "\n",
        "evaluation(y_test, y_pred, model_name=\"Hybrid Model\")"
      ],
      "metadata": {
        "colab": {
          "base_uri": "https://localhost:8080/"
        },
        "id": "K065xPBnL1KW",
        "outputId": "e0b31e7e-25f4-4b9a-a9ac-fdc21138ffd8"
      },
      "execution_count": 27,
      "outputs": [
        {
          "output_type": "stream",
          "name": "stdout",
          "text": [
            "\n",
            "Hybrid Model Evaluation:\n",
            "=============================================\n",
            "         Accuracy: 0.9866504854368932\n",
            "  Precision Score: 0.9772727272727273\n",
            "     Recall Score: 0.8716216216216216\n",
            "         F1 Score: 0.9214285714285714\n",
            "\n",
            "Classification Report:\n",
            "              precision    recall  f1-score   support\n",
            "\n",
            "           0       0.99      1.00      0.99      1500\n",
            "           1       0.98      0.87      0.92       148\n",
            "\n",
            "    accuracy                           0.99      1648\n",
            "   macro avg       0.98      0.93      0.96      1648\n",
            "weighted avg       0.99      0.99      0.99      1648\n",
            "\n"
          ]
        }
      ]
    }
  ]
}