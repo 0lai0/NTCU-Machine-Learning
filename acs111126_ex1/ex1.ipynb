{
 "cells": [
  {
   "cell_type": "code",
   "execution_count": 2,
   "id": "3d735aa1",
   "metadata": {},
   "outputs": [
    {
     "name": "stderr",
     "output_type": "stream",
     "text": [
      "f:\\ntcuml\\.conda\\Lib\\site-packages\\tqdm\\auto.py:21: TqdmWarning: IProgress not found. Please update jupyter and ipywidgets. See https://ipywidgets.readthedocs.io/en/stable/user_install.html\n",
      "  from .autonotebook import tqdm as notebook_tqdm\n"
     ]
    },
    {
     "name": "stdout",
     "output_type": "stream",
     "text": [
      "Fraudulent:492, non-fraudulent:284315\n",
      "the positive class (frauds) percentage: 492/284807 (0.173%)\n"
     ]
    }
   ],
   "source": [
    "\n",
    "import numpy as np\n",
    "import pandas as pd\n",
    "from sklearn.model_selection import train_test_split\n",
    "from sklearn.preprocessing import StandardScaler\n",
    "from sklearn.ensemble import RandomForestClassifier\n",
    "from sklearn.metrics import classification_report\n",
    "from sklearn.decomposition import PCA\n",
    "from sklearn.cluster import KMeans\n",
    "from sklearn.metrics import silhouette_score, accuracy_score, precision_score, recall_score, f1_score, roc_auc_score, confusion_matrix\n",
    "import kagglehub\n",
    "\n",
    "# general setting. do not change TEST_SIZE\n",
    "RANDOM_SEED = 42\n",
    "TEST_SIZE = 0.3\n",
    "\n",
    "# load dataset（from kagglehub）\n",
    "path = kagglehub.dataset_download(\"mlg-ulb/creditcardfraud\")\n",
    "data = pd.read_csv(f\"{path}/creditcard.csv\")\n",
    "data['Class'] = data['Class'].astype(int)\n",
    "\n",
    "# prepare data\n",
    "data = data.drop(['Time'], axis=1)\n",
    "data['Amount'] = StandardScaler().fit_transform(data['Amount'].values.reshape(-1, 1))\n",
    "\n",
    "fraud = data[data['Class'] == 1]\n",
    "nonfraud = data[data['Class'] == 0]\n",
    "print(f'Fraudulent:{len(fraud)}, non-fraudulent:{len(nonfraud)}')\n",
    "print(f'the positive class (frauds) percentage: {len(fraud)}/{len(fraud) + len(nonfraud)} ({len(fraud)/(len(fraud) + len(nonfraud))*100:.3f}%)')    \n",
    "\n",
    "\n",
    "\n"
   ]
  },
  {
   "cell_type": "code",
   "execution_count": null,
   "id": "3994efc1",
   "metadata": {},
   "outputs": [
    {
     "name": "stderr",
     "output_type": "stream",
     "text": [
      "f:\\ntcuml\\.conda\\Lib\\site-packages\\sklearn\\base.py:1389: DataConversionWarning: A column-vector y was passed when a 1d array was expected. Please change the shape of y to (n_samples,), for example using ravel().\n",
      "  return fit_method(estimator, *args, **kwargs)\n"
     ]
    },
    {
     "name": "stdout",
     "output_type": "stream",
     "text": [
      "\n",
      "Random Forest (Supervised) Evaluation:\n",
      "=============================================\n",
      "         Accuracy: 0.9996605924417448\n",
      "  Precision Score: 0.9495798319327731\n",
      "     Recall Score: 0.8308823529411765\n",
      "         F1 Score: 0.8862745098039215\n",
      "\n",
      "Classification Report:\n",
      "              precision    recall  f1-score   support\n",
      "\n",
      "           0       1.00      1.00      1.00     85307\n",
      "           1       0.95      0.83      0.89       136\n",
      "\n",
      "    accuracy                           1.00     85443\n",
      "   macro avg       0.97      0.92      0.94     85443\n",
      "weighted avg       1.00      1.00      1.00     85443\n",
      "\n"
     ]
    }
   ],
   "source": [
    "X = np.asarray(data.iloc[:, ~data.columns.isin(['Class'])])\n",
    "Y = np.asarray(data.iloc[:, data.columns == 'Class'])\n",
    "\n",
    "# split training set and data set\n",
    "X_train, X_test, y_train, y_test = train_test_split(X, Y, test_size=TEST_SIZE, random_state=RANDOM_SEED)\n",
    "\n",
    "\n",
    "# build Random Forest model\n",
    "rf_model = RandomForestClassifier(max_depth=16, n_estimators=120, max_features=10, random_state=RANDOM_SEED)\n",
    "rf_model.fit(X_train, y_train)\n",
    "\n",
    "# define evaluation function\n",
    "def evaluation(y_true, y_pred, model_name=\"Model\"):\n",
    "    accuracy = accuracy_score(y_true, y_pred)\n",
    "    precision = precision_score(y_true, y_pred)\n",
    "    recall = recall_score(y_true, y_pred)\n",
    "    f1 = f1_score(y_true, y_pred)\n",
    "\n",
    "    print(f'\\n{model_name} Evaluation:')\n",
    "    print('===' * 15)\n",
    "    print('         Accuracy:', accuracy)\n",
    "    print('  Precision Score:', precision)\n",
    "    print('     Recall Score:', recall)\n",
    "    print('         F1 Score:', f1)\n",
    "    print(\"\\nClassification Report:\")\n",
    "    print(classification_report(y_true, y_pred))\n",
    "\n",
    "# predict and print result\n",
    "y_pred = rf_model.predict(X_test)\n",
    "evaluation(y_test, y_pred, model_name=\"Random Forest (Supervised)\")"
   ]
  },
  {
   "cell_type": "code",
   "execution_count": null,
   "id": "8e5bbb1f",
   "metadata": {},
   "outputs": [
    {
     "name": "stderr",
     "output_type": "stream",
     "text": [
      "f:\\ntcuml\\.conda\\Lib\\site-packages\\sklearn\\cluster\\_kmeans.py:1419: UserWarning: KMeans is known to have a memory leak on Windows with MKL, when there are less chunks than available threads. You can avoid it by setting the environment variable OMP_NUM_THREADS=4.\n",
      "  warnings.warn(\n",
      "f:\\ntcuml\\.conda\\Lib\\site-packages\\sklearn\\cluster\\_kmeans.py:1419: UserWarning: KMeans is known to have a memory leak on Windows with MKL, when there are less chunks than available threads. You can avoid it by setting the environment variable OMP_NUM_THREADS=4.\n",
      "  warnings.warn(\n",
      "f:\\ntcuml\\.conda\\Lib\\site-packages\\sklearn\\cluster\\_kmeans.py:1419: UserWarning: KMeans is known to have a memory leak on Windows with MKL, when there are less chunks than available threads. You can avoid it by setting the environment variable OMP_NUM_THREADS=4.\n",
      "  warnings.warn(\n",
      "f:\\ntcuml\\.conda\\Lib\\site-packages\\sklearn\\cluster\\_kmeans.py:1419: UserWarning: KMeans is known to have a memory leak on Windows with MKL, when there are less chunks than available threads. You can avoid it by setting the environment variable OMP_NUM_THREADS=4.\n",
      "  warnings.warn(\n"
     ]
    },
    {
     "name": "stdout",
     "output_type": "stream",
     "text": [
      "\n",
      "KMeans (Unsupervised) Evaluation:\n",
      "=============================================\n",
      "         Accuracy: 0.9987477031471274\n",
      "  Precision Score: 0.7887323943661971\n",
      "     Recall Score: 0.3783783783783784\n",
      "         F1 Score: 0.5114155251141552\n",
      "\n",
      "Classification Report:\n",
      "              precision    recall  f1-score   support\n",
      "\n",
      "           0       1.00      1.00      1.00     85295\n",
      "           1       0.79      0.38      0.51       148\n",
      "\n",
      "    accuracy                           1.00     85443\n",
      "   macro avg       0.89      0.69      0.76     85443\n",
      "weighted avg       1.00      1.00      1.00     85443\n",
      "\n"
     ]
    }
   ],
   "source": [
    "\n",
    "\n",
    "# Extract features and labels\n",
    "X = np.asarray(data.drop(columns=['Class']))\n",
    "y = np.asarray(data['Class'])\n",
    "\n",
    "# Split the dataset into training and testing sets (with stratification)\n",
    "x_train, x_test, y_train, y_test = train_test_split(\n",
    "   X, y, test_size=TEST_SIZE, random_state=RANDOM_SEED, stratify=y\n",
    ")\n",
    "\n",
    "#StandardScaler\n",
    "scaler = StandardScaler()\n",
    "x_train = scaler.fit_transform(x_train)\n",
    "x_test = scaler.transform(x_test)\n",
    "\n",
    "#PCA reduce\n",
    "pca = PCA(n_components=17)  \n",
    "x_train = pca.fit_transform(x_train)\n",
    "x_test = pca.transform(x_test)\n",
    "\n",
    "# Select a small sample of normal (non-fraud) data for unsupervised training\n",
    "n_x_train = x_train[y_train == 0]\n",
    "n_x_train = n_x_train[:1000]\n",
    "\n",
    "scores = []\n",
    "\n",
    "#KMeans\n",
    "for k in range(2, 5):\n",
    "   kmeans = KMeans(n_clusters=k, init='k-means++', random_state=RANDOM_SEED, n_init=10)\n",
    "   kmeans.fit(n_x_train)\n",
    "   score = silhouette_score(n_x_train, kmeans.labels_)\n",
    "   scores.append(score)\n",
    "\n",
    "optimal_k = np.argmax(scores) + 2\n",
    "kmeans = KMeans(n_clusters=optimal_k, init='k-means++', random_state=RANDOM_SEED, n_init=10)\n",
    "kmeans.fit(n_x_train)\n",
    "y_pred_test = kmeans.predict(x_test)\n",
    "def align_labels(y_true, y_pred, n_clusters):\n",
    "   labels = np.zeros_like(y_pred)\n",
    "   for i in range(n_clusters):\n",
    "       mask = (y_pred == i)\n",
    "       if np.sum(mask) > 0:\n",
    "           labels[mask] = np.bincount(y_true[mask]).argmax()\n",
    "       else:\n",
    "           labels[mask] = 0  # Default to normal class\n",
    "   return labels\n",
    "\n",
    "y_pred_aligned = align_labels(y_test, y_pred_test, optimal_k)\n",
    "\n",
    "def evaluation(y_true, y_pred, model_name=\"Model\"):\n",
    "   accuracy = accuracy_score(y_true, y_pred)\n",
    "   precision = precision_score(y_true, y_pred, zero_division=0)\n",
    "   recall = recall_score(y_true, y_pred)\n",
    "   f1 = f1_score(y_true, y_pred)\n",
    "\n",
    "   print(f'\\n{model_name} Evaluation:')\n",
    "   print('===' * 15)\n",
    "   print('         Accuracy:', accuracy)\n",
    "   print('  Precision Score:', precision)\n",
    "   print('     Recall Score:', recall)\n",
    "   print('         F1 Score:', f1)\n",
    "   print(\"\\nClassification Report:\")\n",
    "   print(classification_report(y_true, y_pred))\n",
    "\n",
    "evaluation(y_test, y_pred_aligned, model_name=\"KMeans (Unsupervised)\")\n"
   ]
  }
 ],
 "metadata": {
  "kernelspec": {
   "display_name": ".conda",
   "language": "python",
   "name": "python3"
  },
  "language_info": {
   "codemirror_mode": {
    "name": "ipython",
    "version": 3
   },
   "file_extension": ".py",
   "mimetype": "text/x-python",
   "name": "python",
   "nbconvert_exporter": "python",
   "pygments_lexer": "ipython3",
   "version": "3.11.11"
  }
 },
 "nbformat": 4,
 "nbformat_minor": 5
}
