{
 "cells": [
  {
   "cell_type": "code",
   "execution_count": 147,
   "id": "254241ba",
   "metadata": {},
   "outputs": [
    {
     "name": "stderr",
     "output_type": "stream",
     "text": [
      "C:\\Users\\USER\\AppData\\Local\\Packages\\PythonSoftwareFoundation.Python.3.11_qbz5n2kfra8p0\\LocalCache\\local-packages\\Python311\\site-packages\\xgboost\\training.py:183: UserWarning: [14:06:28] WARNING: C:\\actions-runner\\_work\\xgboost\\xgboost\\src\\learner.cc:738: \n",
      "Parameters: { \"bootstrap\", \"use_label_encoder\" } are not used.\n",
      "\n",
      "  bst.update(dtrain, iteration=i, fobj=obj)\n"
     ]
    }
   ],
   "source": [
    "import numpy as np\n",
    "import pandas as pd\n",
    "from xgboost import XGBClassifier\n",
    "from sklearn.model_selection import train_test_split\n",
    "from sklearn.preprocessing import StandardScaler\n",
    "from sklearn.metrics import classification_report, accuracy_score, precision_score, recall_score, f1_score\n",
    "from sklearn.ensemble import IsolationForest\n",
    "import kagglehub\n",
    "\n",
    "# === General setting ===\n",
    "RANDOM_SEED = 42\n",
    "TEST_SIZE = 0.3\n",
    "\n",
    "# === Load dataset from Kaggle ===\n",
    "path = kagglehub.dataset_download(\"mlg-ulb/creditcardfraud\")\n",
    "data = pd.read_csv(f\"{path}/creditcard.csv\")\n",
    "data['Class'] = data['Class'].astype(int)\n",
    "\n",
    "# === Preprocessing ===\n",
    "data = data.drop(['Time'], axis=1)\n",
    "data['Amount'] = StandardScaler().fit_transform(data['Amount'].values.reshape(-1, 1))\n",
    "X = np.asarray(data.drop(columns=['Class']))\n",
    "Y = np.asarray(data['Class'])\n",
    "\n",
    "# === Split dataset ===\n",
    "X_train, X_test, y_train, y_test = train_test_split(X, Y, test_size=TEST_SIZE, random_state=RANDOM_SEED, stratify=Y)\n",
    "\n",
    "# === Train XGBoost model ===\n",
    "xgb_model = XGBClassifier(\n",
    "    n_estimators=500,#最好\n",
    "    max_depth=7, #最好\n",
    "    learning_rate=0.05,#最好\n",
    "    subsample=0.8,\n",
    "    colsample_bytree=1.0,\n",
    "    scale_pos_weight=5, #最好\n",
    "    gamma=0.05, #最好\n",
    "    use_label_encoder=False,\n",
    "    bootstrap=True,\n",
    "    eval_metric='logloss',\n",
    "    random_state=RANDOM_SEED\n",
    ")\n",
    "xgb_model.fit(X_train, y_train)\n",
    "\n",
    "# === Train Isolation Forest model ===\n",
    "iso_forest = IsolationForest(\n",
    "    n_estimators=500,\n",
    "    max_samples=\"auto\",\n",
    "    contamination=sum(y_train) / len(y_train),  # roughly fraud ratio\n",
    "    random_state=RANDOM_SEED,\n",
    "    bootstrap=True,\n",
    ")\n",
    "iso_forest.fit(X_train)\n",
    "iso_scores = iso_forest.decision_function(X_test)\n",
    "iso_pred = iso_forest.predict(X_test)\n",
    "iso_pred = np.where(iso_pred == -1, 1, 0)  # Anomaly -> 1\n",
    "\n",
    "# === Combine both models ===\n",
    "xgb_prob = xgb_model.predict_proba(X_test)[:, 1]\n",
    "xgb_pred = (xgb_prob > 0.45).astype(int)\n",
    "\n",
    "# Soft voting (weighted average)\n",
    "combined_score = 0.9 * xgb_prob + 0.1 * (-iso_scores)  # iso_scores 越小越異常\n",
    "combined_pred = (combined_score > 0.3).astype(int)\n"
   ]
  },
  {
   "cell_type": "code",
   "execution_count": 148,
   "id": "fce77a1d",
   "metadata": {},
   "outputs": [
    {
     "name": "stdout",
     "output_type": "stream",
     "text": [
      "\n",
      "Combined (XGB + IsoForest) Evaluation:\n",
      "=============================================\n",
      "         Accuracy: 0.9995669627705019\n",
      "  Precision Score: 0.937007874015748\n",
      "     Recall Score: 0.8040540540540541\n",
      "         F1 Score: 0.8654545454545455\n",
      "\n",
      "Classification Report:\n",
      "              precision    recall  f1-score   support\n",
      "\n",
      "           0       1.00      1.00      1.00     85295\n",
      "           1       0.94      0.80      0.87       148\n",
      "\n",
      "    accuracy                           1.00     85443\n",
      "   macro avg       0.97      0.90      0.93     85443\n",
      "weighted avg       1.00      1.00      1.00     85443\n",
      "\n"
     ]
    }
   ],
   "source": [
    "def evaluation(y_true, y_pred, model_name=\"Model\"):\n",
    "    accuracy = accuracy_score(y_true, y_pred)\n",
    "    precision = precision_score(y_true, y_pred, zero_division=0)\n",
    "    recall = recall_score(y_true, y_pred, zero_division=0)\n",
    "    f1 = f1_score(y_true, y_pred, zero_division=0)\n",
    "    print(f'\\n{model_name} Evaluation:')\n",
    "    print('===' * 15)\n",
    "    print('         Accuracy:', accuracy)\n",
    "    print('  Precision Score:', precision)\n",
    "    print('     Recall Score:', recall)\n",
    "    print('         F1 Score:', f1)\n",
    "    print(\"\\nClassification Report:\")\n",
    "    print(classification_report(y_true, y_pred))\n",
    "\n",
    "# === Results ===\n",
    "#evaluation(y_test, xgb_pred, model_name=\"XGBoost\")\n",
    "#evaluation(y_test, iso_pred, model_name=\"Isolation Forest\")\n",
    "evaluation(y_test, combined_pred, model_name=\"Combined (XGB + IsoForest)\")"
   ]
  }
 ],
 "metadata": {
  "kernelspec": {
   "display_name": "Python 3",
   "language": "python",
   "name": "python3"
  },
  "language_info": {
   "codemirror_mode": {
    "name": "ipython",
    "version": 3
   },
   "file_extension": ".py",
   "mimetype": "text/x-python",
   "name": "python",
   "nbconvert_exporter": "python",
   "pygments_lexer": "ipython3",
   "version": "3.11.9"
  }
 },
 "nbformat": 4,
 "nbformat_minor": 5
}
