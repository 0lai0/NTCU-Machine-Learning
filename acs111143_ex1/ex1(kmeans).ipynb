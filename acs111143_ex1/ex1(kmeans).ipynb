{
 "cells": [
  {
   "cell_type": "code",
   "execution_count": 36,
   "id": "3658b54c",
   "metadata": {},
   "outputs": [
    {
     "name": "stdout",
     "output_type": "stream",
     "text": [
      "Fraudulent:492, non-fraudulent:284315\n",
      "the positive class (frauds) percentage: 492/284807 (0.173%)\n"
     ]
    }
   ],
   "source": [
    "import numpy as np\n",
    "import pandas as pd\n",
    "from sklearn.model_selection import train_test_split\n",
    "from sklearn.preprocessing import StandardScaler\n",
    "from sklearn.ensemble import RandomForestClassifier\n",
    "from sklearn.metrics import classification_report\n",
    "from sklearn.cluster import KMeans\n",
    "from sklearn.metrics import silhouette_score, accuracy_score, precision_score, recall_score, f1_score, roc_auc_score, confusion_matrix\n",
    "import kagglehub\n",
    "\n",
    "# general setting. do not change TEST_SIZE\n",
    "RANDOM_SEED = 42\n",
    "TEST_SIZE = 0.3\n",
    "# load dataset（from kagglehub）\n",
    "path = kagglehub.dataset_download(\"mlg-ulb/creditcardfraud\")\n",
    "data = pd.read_csv(f\"{path}/creditcard.csv\")\n",
    "data['Class'] = data['Class'].astype(int)\n",
    "\n",
    "# prepare data\n",
    "data = data.drop(['Time'], axis=1)\n",
    "data['Amount'] = StandardScaler().fit_transform(data['Amount'].values.reshape(-1, 1))\n",
    "fraud = data[data['Class'] == 1]\n",
    "nonfraud = data[data['Class'] == 0]\n",
    "print(f'Fraudulent:{len(fraud)}, non-fraudulent:{len(nonfraud)}')\n",
    "print(f'the positive class (frauds) percentage: {len(fraud)}/{len(fraud) + len(nonfraud)} ({len(fraud)/(len(fraud) + len(nonfraud))*100:.3f}%)')    \n"
   ]
  },
  {
   "cell_type": "code",
   "execution_count": 44,
   "id": "251e8a03",
   "metadata": {},
   "outputs": [],
   "source": [
    "# Extract features and labels\n",
    "X = np.asarray(data.drop(columns=['Class']))\n",
    "y = np.asarray(data['Class'])\n",
    "\n",
    "# Split the dataset into training and testing sets (with stratification)\n",
    "x_train, x_test, y_train, y_test = train_test_split(\n",
    "   X, y, test_size=TEST_SIZE, random_state=RANDOM_SEED, stratify=y\n",
    ")\n",
    "\n",
    "scaler = StandardScaler()\n",
    "x_train = scaler.fit_transform(x_train)\n",
    "x_test = scaler.transform(x_test)\n",
    "\n",
    "# Select a small sample of normal (non-fraud) data for unsupervised training\n",
    "n_x_train = x_train[y_train == 0]\n",
    "n_x_train = n_x_train[:1000]\n"
   ]
  },
  {
   "cell_type": "code",
   "execution_count": 45,
   "id": "6e33cbed",
   "metadata": {},
   "outputs": [],
   "source": [
    "scores = []\n",
    "for k in range(2, 5):\n",
    "   kmeans = KMeans(n_clusters=k, init='k-means++', random_state=RANDOM_SEED)\n",
    "   kmeans.fit(n_x_train)\n",
    "   score = silhouette_score(n_x_train, kmeans.labels_)\n",
    "   scores.append(score)\n",
    "optimal_k = np.argmax(scores) + 2\n",
    "kmeans = KMeans(\n",
    "    n_clusters=optimal_k,\n",
    "    init='k-means++',\n",
    "    n_init=20,\n",
    "    max_iter=500,\n",
    "    tol=1e-4,\n",
    "    random_state=RANDOM_SEED,\n",
    "    algorithm='elkan'\n",
    ")\n",
    "kmeans.fit(n_x_train)\n",
    "y_pred_test = kmeans.predict(x_test)\n",
    "def align_labels(y_true, y_pred, n_clusters):\n",
    "   labels = np.zeros_like(y_pred)\n",
    "   for i in range(n_clusters):\n",
    "       mask = (y_pred == i)\n",
    "       if np.sum(mask) > 0:\n",
    "           labels[mask] = np.bincount(y_true[mask]).argmax()\n",
    "       else:\n",
    "           labels[mask] = 0  # Default to normal class\n",
    "   return labels\n",
    "y_pred_aligned = align_labels(y_test, y_pred_test, optimal_k)"
   ]
  },
  {
   "cell_type": "code",
   "execution_count": 46,
   "id": "7fed985f",
   "metadata": {},
   "outputs": [
    {
     "name": "stdout",
     "output_type": "stream",
     "text": [
      "\n",
      "KMeans (Unsupervised) Evaluation:\n",
      "=============================================\n",
      "         Accuracy: 0.9987242957293166\n",
      "  Precision Score: 0.782608695652174\n",
      "     Recall Score: 0.36486486486486486\n",
      "         F1 Score: 0.4976958525345622\n",
      "\n",
      "Classification Report:\n",
      "              precision    recall  f1-score   support\n",
      "\n",
      "           0       1.00      1.00      1.00     85295\n",
      "           1       0.78      0.36      0.50       148\n",
      "\n",
      "    accuracy                           1.00     85443\n",
      "   macro avg       0.89      0.68      0.75     85443\n",
      "weighted avg       1.00      1.00      1.00     85443\n",
      "\n"
     ]
    }
   ],
   "source": [
    "def evaluation(y_true, y_pred, model_name=\"Model\"):\n",
    "   accuracy = accuracy_score(y_true, y_pred)\n",
    "   precision = precision_score(y_true, y_pred, zero_division=0)\n",
    "   recall = recall_score(y_true, y_pred)\n",
    "   f1 = f1_score(y_true, y_pred)\n",
    "\n",
    "   print(f'\\n{model_name} Evaluation:')\n",
    "   print('===' * 15)\n",
    "   print('         Accuracy:', accuracy)\n",
    "   print('  Precision Score:', precision)\n",
    "   print('     Recall Score:', recall)\n",
    "   print('         F1 Score:', f1)\n",
    "   print(\"\\nClassification Report:\")\n",
    "   print(classification_report(y_true, y_pred))\n",
    "\n",
    "evaluation(y_test, y_pred_aligned, model_name=\"KMeans (Unsupervised)\")\n",
    "\n"
   ]
  },
  {
   "cell_type": "markdown",
   "id": "7ddaa090",
   "metadata": {},
   "source": [
    "\n",
    "KMeans (Unsupervised) Evaluation:\n",
    "=============================================\n",
    "         Accuracy: 0.9987242957293166\n",
    "  Precision Score: 0.782608695652174\n",
    "     Recall Score: 0.36486486486486486\n",
    "         F1 Score: 0.4976958525345622\n",
    "\n",
    "Classification Report:\n",
    "              precision    recall  f1-score   support\n",
    "\n",
    "           0       1.00      1.00      1.00     85295\n",
    "           1       0.78      0.36      0.50       148\n",
    "\n",
    "    accuracy                           1.00     85443\n",
    "   macro avg       0.89      0.68      0.75     85443\n",
    "weighted avg       1.00      1.00      1.00     85443\n"
   ]
  }
 ],
 "metadata": {
  "kernelspec": {
   "display_name": "Python 3",
   "language": "python",
   "name": "python3"
  },
  "language_info": {
   "codemirror_mode": {
    "name": "ipython",
    "version": 3
   },
   "file_extension": ".py",
   "mimetype": "text/x-python",
   "name": "python",
   "nbconvert_exporter": "python",
   "pygments_lexer": "ipython3",
   "version": "3.11.9"
  }
 },
 "nbformat": 4,
 "nbformat_minor": 5
}
