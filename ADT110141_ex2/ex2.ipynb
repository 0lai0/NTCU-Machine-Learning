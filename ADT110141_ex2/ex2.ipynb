{
  "nbformat": 4,
  "nbformat_minor": 0,
  "metadata": {
    "colab": {
      "provenance": [],
      "authorship_tag": "ABX9TyMHBWrkUmEBPDTbEUWv0owS",
      "include_colab_link": true
    },
    "kernelspec": {
      "name": "python3",
      "display_name": "Python 3"
    },
    "language_info": {
      "name": "python"
    }
  },
  "cells": [
    {
      "cell_type": "markdown",
      "metadata": {
        "id": "view-in-github",
        "colab_type": "text"
      },
      "source": [
        "<a href=\"https://colab.research.google.com/github/hyazoe/NTCU-Machine-Learning/blob/main/ex2.ipynb\" target=\"_parent\"><img src=\"https://colab.research.google.com/assets/colab-badge.svg\" alt=\"Open In Colab\"/></a>"
      ]
    },
    {
      "cell_type": "code",
      "execution_count": 6,
      "metadata": {
        "colab": {
          "base_uri": "https://localhost:8080/"
        },
        "id": "vtAbpb6UESog",
        "outputId": "87aafd68-07b2-4312-c5ec-ea72eeda6145"
      },
      "outputs": [
        {
          "output_type": "stream",
          "name": "stdout",
          "text": [
            "Requirement already satisfied: pandas in /usr/local/lib/python3.11/dist-packages (2.2.2)\n",
            "Requirement already satisfied: numpy in /usr/local/lib/python3.11/dist-packages (2.0.2)\n",
            "Requirement already satisfied: scikit-learn in /usr/local/lib/python3.11/dist-packages (1.6.1)\n",
            "Requirement already satisfied: xgboost in /usr/local/lib/python3.11/dist-packages (2.1.4)\n",
            "Requirement already satisfied: python-dateutil>=2.8.2 in /usr/local/lib/python3.11/dist-packages (from pandas) (2.9.0.post0)\n",
            "Requirement already satisfied: pytz>=2020.1 in /usr/local/lib/python3.11/dist-packages (from pandas) (2025.2)\n",
            "Requirement already satisfied: tzdata>=2022.7 in /usr/local/lib/python3.11/dist-packages (from pandas) (2025.2)\n",
            "Requirement already satisfied: scipy>=1.6.0 in /usr/local/lib/python3.11/dist-packages (from scikit-learn) (1.15.3)\n",
            "Requirement already satisfied: joblib>=1.2.0 in /usr/local/lib/python3.11/dist-packages (from scikit-learn) (1.5.1)\n",
            "Requirement already satisfied: threadpoolctl>=3.1.0 in /usr/local/lib/python3.11/dist-packages (from scikit-learn) (3.6.0)\n",
            "Requirement already satisfied: nvidia-nccl-cu12 in /usr/local/lib/python3.11/dist-packages (from xgboost) (2.21.5)\n",
            "Requirement already satisfied: six>=1.5 in /usr/local/lib/python3.11/dist-packages (from python-dateutil>=2.8.2->pandas) (1.17.0)\n"
          ]
        }
      ],
      "source": [
        "pip install pandas numpy scikit-learn xgboost"
      ]
    },
    {
      "cell_type": "code",
      "source": [
        "# 匯入必要套件\n",
        "import pandas as pd\n",
        "import numpy as np\n",
        "import kagglehub\n",
        "\n",
        "from sklearn.model_selection import train_test_split\n",
        "from sklearn.preprocessing import StandardScaler\n",
        "from sklearn.metrics import accuracy_score, precision_score, recall_score, f1_score, classification_report\n",
        "from sklearn.ensemble import IsolationForest\n",
        "from xgboost import XGBClassifier\n",
        "\n",
        "# 固定亂數種子\n",
        "RANDOM_SEED = 42\n",
        "TEST_SIZE = 0.3\n",
        "\n",
        "# 載入資料\n",
        "path = kagglehub.dataset_download(\"mlg-ulb/creditcardfraud\")\n",
        "data = pd.read_csv(f\"{path}/creditcard.csv\")\n",
        "data['Class'] = data['Class'].astype(int)\n",
        "\n",
        "# 資料前處理\n",
        "data = data.drop(columns=['Time'])\n",
        "data['Amount'] = StandardScaler().fit_transform(data['Amount'].values.reshape(-1, 1))\n",
        "\n",
        "x = data.drop(columns=['Class']).values\n",
        "y = data['Class'].values\n",
        "\n",
        "x_train, x_test, y_train, y_test = train_test_split(\n",
        "    x, y, test_size=TEST_SIZE, random_state=RANDOM_SEED, stratify=y\n",
        ")\n",
        "\n",
        "scaler = StandardScaler()\n",
        "x_train = scaler.fit_transform(x_train)\n",
        "x_test = scaler.transform(x_test)\n",
        "\n",
        "# 評估函數\n",
        "def evaluation(y_true, y_pred, model_name=\"Model\"):\n",
        "    accuracy = accuracy_score(y_true, y_pred)\n",
        "    precision = precision_score(y_true, y_pred, zero_division=0)\n",
        "    recall = recall_score(y_true, y_pred)\n",
        "    f1 = f1_score(y_true, y_pred)\n",
        "\n",
        "    print(f\"\\n{model_name} Evaluation:\")\n",
        "    print(\"=\" * 45)\n",
        "    print(f\"         Accuracy: {accuracy:.16f}\")\n",
        "    print(f\"  Precision Score: {precision:.16f}\")\n",
        "    print(f\"     Recall Score: {recall:.16f}\")\n",
        "    print(f\"         F1 Score: {f1:.16f}\\n\")\n",
        "    print(\"Classification Report:\")\n",
        "    print(classification_report(y_true, y_pred))\n"
      ],
      "metadata": {
        "id": "1FFeTn1UFQVH"
      },
      "execution_count": 7,
      "outputs": []
    },
    {
      "cell_type": "code",
      "source": [
        "# ========== 融合非監督與監督模型 ========== #\n",
        "# 1. Isolation Forest 建立異常特徵\n",
        "iso_forest = IsolationForest(\n",
        "    contamination=len(y_train[y_train==1]) / len(y_train),\n",
        "    random_state=RANDOM_SEED\n",
        ")\n",
        "iso_forest.fit(x_train)\n",
        "\n",
        "iso_feature_train = iso_forest.predict(x_train).reshape(-1, 1)\n",
        "iso_feature_test = iso_forest.predict(x_test).reshape(-1, 1)\n",
        "iso_feature_train = np.where(iso_feature_train == -1, 1, 0)\n",
        "iso_feature_test = np.where(iso_feature_test == -1, 1, 0)\n",
        "\n",
        "# 2. 合併特徵\n",
        "x_train_fused = np.hstack((x_train, iso_feature_train))\n",
        "x_test_fused = np.hstack((x_test, iso_feature_test))\n",
        "\n",
        "# 3. XGBoost 訓練（融合了非監督特徵）\n",
        "scale_weight = len(y_train[y_train==0]) / len(y_train[y_train==1])\n",
        "xgb_model = XGBClassifier(\n",
        "    random_state=RANDOM_SEED,\n",
        "    use_label_encoder=False,\n",
        "    eval_metric='logloss',\n",
        "    scale_pos_weight=scale_weight\n",
        ")\n",
        "xgb_model.fit(x_train_fused, y_train)\n",
        "y_pred_fused = xgb_model.predict(x_test_fused)\n",
        "\n",
        "# 4. 評估融合模型\n",
        "evaluation(y_test, y_pred_fused, model_name=\"XGBoost with Isolation Forest Feature\")"
      ],
      "metadata": {
        "colab": {
          "base_uri": "https://localhost:8080/"
        },
        "id": "E-8k8vZJFv-A",
        "outputId": "788dea6e-5c3c-41f2-931b-71e28a6e81f1"
      },
      "execution_count": 8,
      "outputs": [
        {
          "output_type": "stream",
          "name": "stderr",
          "text": [
            "/usr/local/lib/python3.11/dist-packages/xgboost/core.py:158: UserWarning: [03:22:05] WARNING: /workspace/src/learner.cc:740: \n",
            "Parameters: { \"use_label_encoder\" } are not used.\n",
            "\n",
            "  warnings.warn(smsg, UserWarning)\n"
          ]
        },
        {
          "output_type": "stream",
          "name": "stdout",
          "text": [
            "\n",
            "XGBoost with Isolation Forest Feature Evaluation:\n",
            "=============================================\n",
            "         Accuracy: 0.9994148145547324\n",
            "  Precision Score: 0.8769230769230769\n",
            "     Recall Score: 0.7702702702702703\n",
            "         F1 Score: 0.8201438848920863\n",
            "\n",
            "Classification Report:\n",
            "              precision    recall  f1-score   support\n",
            "\n",
            "           0       1.00      1.00      1.00     85295\n",
            "           1       0.88      0.77      0.82       148\n",
            "\n",
            "    accuracy                           1.00     85443\n",
            "   macro avg       0.94      0.89      0.91     85443\n",
            "weighted avg       1.00      1.00      1.00     85443\n",
            "\n"
          ]
        }
      ]
    }
  ]
}
