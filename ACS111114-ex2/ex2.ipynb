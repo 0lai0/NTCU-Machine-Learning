{
  "nbformat": 4,
  "nbformat_minor": 0,
  "metadata": {
    "colab": {
      "provenance": []
    },
    "kernelspec": {
      "name": "python3",
      "display_name": "Python 3"
    },
    "language_info": {
      "name": "python"
    }
  },
  "cells": [
    {
      "cell_type": "code",
      "source": [
        "import numpy as np\n",
        "import pandas as pd\n",
        "from sklearn.model_selection import train_test_split\n",
        "from sklearn.preprocessing import StandardScaler\n",
        "from sklearn.semi_supervised import LabelSpreading\n",
        "from sklearn.ensemble import RandomForestClassifier\n",
        "from sklearn.cluster import KMeans\n",
        "from sklearn.metrics import classification_report, accuracy_score, precision_score, recall_score, f1_score\n",
        "from imblearn.over_sampling import SMOTE\n",
        "import kagglehub\n",
        "\n",
        "# General settings\n",
        "RANDOM_SEED = 42\n",
        "TEST_SIZE = 0.3\n",
        "\n",
        "# Load dataset\n",
        "path = kagglehub.dataset_download(\"mlg-ulb/creditcardfraud\")\n",
        "data = pd.read_csv(f\"{path}/creditcard.csv\")\n",
        "data['Class'] = data['Class'].astype(int)\n",
        "\n",
        "# Prepare data\n",
        "data = data.drop(['Time'], axis=1)\n",
        "data['Amount'] = StandardScaler().fit_transform(data['Amount'].values.reshape(-1, 1))\n",
        "\n",
        "# Print class distribution\n",
        "fraud = data[data['Class'] == 1]\n",
        "nonfraud = data[data['Class'] == 0]\n",
        "print(f'Fraudulent: {len(fraud)}, Non-fraudulent: {len(nonfraud)}')\n",
        "print(f'The positive class (frauds) percentage: {len(fraud)}/{len(fraud) + len(nonfraud)} '\n",
        "      f'({len(fraud)/(len(fraud) + len(nonfraud))*100:.3f}%)')\n",
        "\n",
        "# Extract features and labels\n",
        "X = np.asarray(data.drop(columns=['Class']))\n",
        "y = np.asarray(data['Class'])\n",
        "\n",
        "# Split data\n",
        "X_train_full, X_test, y_train_full, y_test = train_test_split(X, y, test_size=TEST_SIZE, random_state=RANDOM_SEED, stratify=y)\n",
        "fraud_idx = np.where(y_train_full == 1)[0]\n",
        "nonfraud_idx = np.where(y_train_full == 0)[0]\n",
        "n_labeled_normals = 500\n",
        "np.random.seed(RANDOM_SEED)\n",
        "labeled_normals_idx = np.random.choice(nonfraud_idx, size=n_labeled_normals, replace=False)\n",
        "labeled_idx = np.concatenate([fraud_idx, labeled_normals_idx])\n",
        "unlabeled_idx = np.setdiff1d(nonfraud_idx, labeled_normals_idx)\n",
        "y_semi = np.full_like(y_train_full, -1)\n",
        "y_semi[labeled_idx] = y_train_full[labeled_idx]\n",
        "ls_model = LabelSpreading(kernel='knn', n_neighbors=10, alpha=0.1)\n",
        "ls_model.fit(X_train_full, y_semi)\n",
        "label_distributions = ls_model.label_distributions_\n",
        "confidence = label_distributions.max(axis=1)\n",
        "high_confidence_mask = confidence >= 0.9\n",
        "X_filtered = X_train_full[high_confidence_mask]\n",
        "y_filtered = ls_model.transduction_[high_confidence_mask]\n",
        "rf = RandomForestClassifier(class_weight='balanced', random_state=RANDOM_SEED)\n",
        "rf.fit(X_filtered, y_filtered)\n",
        "y_proba = rf.predict_proba(X_test_scaled)[:, 1]\n",
        "threshold = 0.8\n",
        "y_pred = (y_proba > threshold).astype(int)\n",
        "\n",
        "# Define evaluation function\n",
        "def evaluation(y_true, y_pred, model_name=\"Model\"):\n",
        "    accuracy = accuracy_score(y_true, y_pred)\n",
        "    precision = precision_score(y_true, y_pred)\n",
        "    recall = recall_score(y_true, y_pred)\n",
        "    f1 = f1_score(y_true, y_pred)\n",
        "    print(f'\\n{model_name} Evaluation:')\n",
        "    print('===' * 15)\n",
        "    print('         Accuracy:', accuracy)\n",
        "    print('  Precision Score:', precision)\n",
        "    print('     Recall Score:', recall)\n",
        "    print('         F1 Score:', f1)\n",
        "    print(\"\\nClassification Report:\")\n",
        "    print(classification_report(y_true, y_pred))\n",
        "\n",
        "evaluation(y_test, y_pred)"
      ],
      "metadata": {
        "colab": {
          "base_uri": "https://localhost:8080/"
        },
        "id": "oSJh4rrCiAyn",
        "outputId": "fa6344ad-c2c6-40d2-c23f-3c20310387ea"
      },
      "execution_count": 29,
      "outputs": [
        {
          "output_type": "stream",
          "name": "stdout",
          "text": [
            "Fraudulent: 492, Non-fraudulent: 284315\n",
            "The positive class (frauds) percentage: 492/284807 (0.173%)\n",
            "\n",
            "Model Evaluation:\n",
            "=============================================\n",
            "         Accuracy: 0.9987594068560327\n",
            "  Precision Score: 0.7058823529411765\n",
            "     Recall Score: 0.4864864864864865\n",
            "         F1 Score: 0.576\n",
            "\n",
            "Classification Report:\n",
            "              precision    recall  f1-score   support\n",
            "\n",
            "           0       1.00      1.00      1.00     85295\n",
            "           1       0.71      0.49      0.58       148\n",
            "\n",
            "    accuracy                           1.00     85443\n",
            "   macro avg       0.85      0.74      0.79     85443\n",
            "weighted avg       1.00      1.00      1.00     85443\n",
            "\n"
          ]
        }
      ]
    }
  ]
}