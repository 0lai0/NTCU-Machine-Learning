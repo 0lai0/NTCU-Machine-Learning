{
  "cells": [
    {
      "cell_type": "code",
      "execution_count": 2,
      "metadata": {
        "id": "VVdvmE5Zhdue"
      },
      "outputs": [],
      "source": [
        "# 監督式學習 XGBoost\n",
        "\n",
        "import numpy as np\n",
        "import pandas as pd\n",
        "from sklearn.model_selection import train_test_split\n",
        "from sklearn.preprocessing import StandardScaler\n",
        "from sklearn.ensemble import RandomForestClassifier\n",
        "from sklearn.metrics import classification_report\n",
        "from sklearn.cluster import KMeans\n",
        "from sklearn.metrics import silhouette_score, accuracy_score, precision_score, recall_score, f1_score, roc_auc_score, confusion_matrix\n",
        "import kagglehub\n",
        "\n",
        "# general setting. do not change TEST_SIZE\n",
        "RANDOM_SEED = 42\n",
        "TEST_SIZE = 0.3\n"
      ]
    },
    {
      "cell_type": "code",
      "execution_count": 3,
      "metadata": {
        "id": "z1l5zL1BhlbH"
      },
      "outputs": [],
      "source": [
        "# load dataset（from kagglehub）\n",
        "path = kagglehub.dataset_download(\"mlg-ulb/creditcardfraud\")\n",
        "data = pd.read_csv(f\"{path}/creditcard.csv\")\n",
        "data['Class'] = data['Class'].astype(int)\n",
        "\n",
        "# prepare data\n",
        "data = data.drop(['Time'], axis=1)\n",
        "data['Amount'] = StandardScaler().fit_transform(data['Amount'].values.reshape(-1, 1))\n"
      ]
    },
    {
      "cell_type": "code",
      "execution_count": 4,
      "metadata": {
        "colab": {
          "base_uri": "https://localhost:8080/"
        },
        "id": "jvsq3uGWhpIf",
        "outputId": "27f16d2f-1cc9-4ca4-ae8b-91bf4c394faa"
      },
      "outputs": [
        {
          "output_type": "stream",
          "name": "stdout",
          "text": [
            "Fraudulent:492, non-fraudulent:284315\n",
            "the positive class (frauds) percentage: 492/284807 (0.173%)\n"
          ]
        }
      ],
      "source": [
        "fraud = data[data['Class'] == 1]\n",
        "nonfraud = data[data['Class'] == 0]\n",
        "print(f'Fraudulent:{len(fraud)}, non-fraudulent:{len(nonfraud)}')\n",
        "print(f'the positive class (frauds) percentage: {len(fraud)}/{len(fraud) + len(nonfraud)} ({len(fraud)/(len(fraud) + len(nonfraud))*100:.3f}%)')"
      ]
    },
    {
      "cell_type": "code",
      "execution_count": 5,
      "metadata": {
        "colab": {
          "base_uri": "https://localhost:8080/"
        },
        "id": "bu3QkXVDhs9f",
        "outputId": "47cd4e1f-bd9e-40a1-e209-e4acc5d0ce26"
      },
      "outputs": [
        {
          "output_type": "stream",
          "name": "stdout",
          "text": [
            "\n",
            "XGBoost Evaluation:\n",
            "=============================================\n",
            "         Accuracy: 0.9996722961506501\n",
            "  Precision Score: 0.9426229508196722\n",
            "     Recall Score: 0.8455882352941176\n",
            "         F1 Score: 0.8914728682170543\n",
            "\n",
            "Classification Report:\n",
            "              precision    recall  f1-score   support\n",
            "\n",
            "           0       1.00      1.00      1.00     85307\n",
            "           1       0.94      0.85      0.89       136\n",
            "\n",
            "    accuracy                           1.00     85443\n",
            "   macro avg       0.97      0.92      0.95     85443\n",
            "weighted avg       1.00      1.00      1.00     85443\n",
            "\n"
          ]
        }
      ],
      "source": [
        "from xgboost import XGBClassifier\n",
        "\n",
        "X = np.asarray(data.iloc[:, ~data.columns.isin(['Class'])])\n",
        "Y = np.asarray(data.iloc[:, data.columns == 'Class'])\n",
        "\n",
        "# split training set and data set\n",
        "X_train, X_test, y_train, y_test = train_test_split(X, Y, test_size=TEST_SIZE, random_state=RANDOM_SEED)\n",
        "\n",
        "xgb_model = XGBClassifier(\n",
        "    n_estimators=325,\n",
        "    max_depth=7,\n",
        "    learning_rate=0.066,\n",
        "    subsample=0.95,\n",
        "    colsample_bytree=0.85,\n",
        "    scale_pos_weight=7.5,\n",
        "    random_state=RANDOM_SEED,\n",
        "    use_label_encoder=False,\n",
        "    eval_metric='logloss',\n",
        "    tree_method='hist'\n",
        "\n",
        ")\n",
        "xgb_model.fit(X_train, y_train)\n",
        "y_pred = xgb_model.predict(X_test)\n",
        "\n",
        "def evaluation(y_true, y_pred, model_name=\"Model\"):\n",
        "    accuracy = accuracy_score(y_true, y_pred)\n",
        "    precision = precision_score(y_true, y_pred)\n",
        "    recall = recall_score(y_true, y_pred)\n",
        "    f1 = f1_score(y_true, y_pred)\n",
        "    print(f'\\n{model_name} Evaluation:')\n",
        "    print('===' * 15)\n",
        "    print('         Accuracy:', accuracy)\n",
        "    print('  Precision Score:', precision)\n",
        "    print('     Recall Score:', recall)\n",
        "    print('         F1 Score:', f1)\n",
        "    print(\"\\nClassification Report:\")\n",
        "    print(classification_report(y_true, y_pred))\n",
        "\n",
        "# predict and print result\n",
        "evaluation(y_test, y_pred, model_name=\"XGBoost\")\n",
        "\n",
        "\n",
        "\n"
      ]
    },
    {
      "cell_type": "code",
      "source": [
        "import numpy as np\n",
        "import pandas as pd\n",
        "import kagglehub\n",
        "import warnings\n",
        "import tensorflow as tf\n",
        "from sklearn.model_selection import train_test_split\n",
        "from sklearn.preprocessing import StandardScaler\n",
        "from sklearn.metrics import accuracy_score, precision_score, recall_score, f1_score, classification_report\n",
        "\n",
        "warnings.filterwarnings(\"ignore\")\n",
        "tf.get_logger().setLevel(\"ERROR\")\n",
        "\n",
        "# --- 評估函數 ---\n",
        "def evaluation(y_true, y_pred, model_name=\"Model\"):\n",
        "    accuracy = accuracy_score(y_true, y_pred)\n",
        "    precision = precision_score(y_true, y_pred, zero_division=0)\n",
        "    recall = recall_score(y_true, y_pred)\n",
        "    f1 = f1_score(y_true, y_pred)\n",
        "    print(f'\\n{model_name} Evaluation:')\n",
        "    print('===' * 15)\n",
        "    print('         Accuracy:', accuracy)\n",
        "    print('  Precision Score:', precision)\n",
        "    print('     Recall Score:', recall)\n",
        "    print('         F1 Score:', f1)\n",
        "    print(\"\\nClassification Report:\")\n",
        "    print(classification_report(y_true, y_pred))\n",
        "\n",
        "# --- 超參 ---\n",
        "SEED        = 42\n",
        "TEST_SIZE   = 0.30\n",
        "ENC_UNITS   = [64,32,16]\n",
        "DROPOUT     = 0.2\n",
        "NOISE_STD   = 0.05\n",
        "EPOCHS      = 70\n",
        "BATCH       = 256\n",
        "THRESH_PCT  = 99.9   # 從掃描結果選出的最佳門檻\n",
        "\n",
        "\n",
        "y = data[\"Class\"].values\n",
        "\n",
        "x_tr, x_te, y_tr, y_te = train_test_split(\n",
        "    X, y, test_size=TEST_SIZE, stratify=y, random_state=SEED)\n",
        "\n",
        "scaler = StandardScaler()\n",
        "x_tr = scaler.fit_transform(x_tr)\n",
        "x_te = scaler.transform(x_te)\n",
        "\n",
        "#  訓練 Denoising Auto-Encoder（只用正常樣本）\n",
        "x_norm = x_tr[y_tr == 0]\n",
        "tf.random.set_seed(SEED)\n",
        "\n",
        "inp = tf.keras.Input(shape=(x_tr.shape[1],))\n",
        "x   = tf.keras.layers.GaussianNoise(NOISE_STD)(inp)\n",
        "for h in ENC_UNITS[:-1]:\n",
        "    x = tf.keras.layers.Dense(h, activation=\"relu\")(x)\n",
        "    x = tf.keras.layers.Dropout(DROPOUT)(x)\n",
        "encoded = tf.keras.layers.Dense(ENC_UNITS[-1], activation=\"relu\")(x)\n",
        "x = tf.keras.layers.Dense(ENC_UNITS[-2], activation=\"relu\")(encoded)\n",
        "x = tf.keras.layers.Dense(ENC_UNITS[-3], activation=\"relu\")(x)\n",
        "out = tf.keras.layers.Dense(x_tr.shape[1], activation=\"linear\")(x)\n",
        "\n",
        "dae = tf.keras.Model(inp, out)\n",
        "dae.compile(optimizer=\"adam\", loss=\"mse\")\n",
        "dae.fit(x_norm, x_norm, epochs=EPOCHS, batch_size=BATCH, shuffle=True, verbose=0)\n",
        "\n",
        "# 計算重建誤差\n",
        "mse_tr = np.mean((dae.predict(x_tr, verbose=0) - x_tr)**2, axis=1)\n",
        "mse_te = np.mean((dae.predict(x_te, verbose=0) - x_te)**2, axis=1)\n",
        "\n",
        "# 使用固定門檻進行預測\n",
        "thr = np.percentile(mse_tr, THRESH_PCT)\n",
        "y_pred = (mse_te > thr).astype(int)\n",
        "\n",
        "# 呼叫 evaluation 印出結果\n",
        "evaluation(y_te, y_pred, model_name=f\"Denoising AE (thr={THRESH_PCT}%)\")\n"
      ],
      "metadata": {
        "colab": {
          "base_uri": "https://localhost:8080/"
        },
        "id": "0DRN-IPMLxux",
        "outputId": "3dce00f3-ce76-4ddc-c8d7-56ddc7be9d37"
      },
      "execution_count": 6,
      "outputs": [
        {
          "output_type": "stream",
          "name": "stdout",
          "text": [
            "\n",
            "Denoising AE (thr=99.9%) Evaluation:\n",
            "=============================================\n",
            "         Accuracy: 0.9987828142738434\n",
            "  Precision Score: 0.7619047619047619\n",
            "     Recall Score: 0.43243243243243246\n",
            "         F1 Score: 0.5517241379310345\n",
            "\n",
            "Classification Report:\n",
            "              precision    recall  f1-score   support\n",
            "\n",
            "           0       1.00      1.00      1.00     85295\n",
            "           1       0.76      0.43      0.55       148\n",
            "\n",
            "    accuracy                           1.00     85443\n",
            "   macro avg       0.88      0.72      0.78     85443\n",
            "weighted avg       1.00      1.00      1.00     85443\n",
            "\n"
          ]
        }
      ]
    },
    {
      "cell_type": "markdown",
      "metadata": {
        "id": "cOrAsc0-zLE8"
      },
      "source": [
        "# 新增區段"
      ]
    }
  ],
  "metadata": {
    "colab": {
      "provenance": []
    },
    "kernelspec": {
      "display_name": "Python 3",
      "name": "python3"
    },
    "language_info": {
      "name": "python"
    }
  },
  "nbformat": 4,
  "nbformat_minor": 0
}