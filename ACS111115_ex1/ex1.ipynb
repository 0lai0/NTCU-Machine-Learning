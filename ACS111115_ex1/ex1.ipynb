{
  "cells": [
    {
      "cell_type": "markdown",
      "metadata": {
        "id": "-1NCfO261RzL"
      },
      "source": [
        "# XGBoost"
      ]
    },
    {
      "cell_type": "code",
      "execution_count": 11,
      "metadata": {
        "colab": {
          "base_uri": "https://localhost:8080/"
        },
        "id": "fWTFRjZR1STr",
        "outputId": "7e8728bb-adc2-4c17-894c-b67cfbbc0c10"
      },
      "outputs": [
        {
          "name": "stdout",
          "output_type": "stream",
          "text": [
            "Fraudulent:492, non-fraudulent:284315\n",
            "the positive class (frauds) percentage: 0.173%\n",
            "              precision    recall  f1-score   support\n",
            "\n",
            "           0       1.00      1.00      1.00     85307\n",
            "           1       0.94      0.85      0.90       136\n",
            "\n",
            "    accuracy                           1.00     85443\n",
            "   macro avg       0.97      0.93      0.95     85443\n",
            "weighted avg       1.00      1.00      1.00     85443\n",
            "\n"
          ]
        }
      ],
      "source": [
        "import numpy as np\n",
        "import pandas as pd\n",
        "from sklearn.model_selection import train_test_split\n",
        "from sklearn.preprocessing import StandardScaler\n",
        "from xgboost import XGBClassifier\n",
        "from sklearn.metrics import classification_report, precision_recall_curve\n",
        "import kagglehub\n",
        "\n",
        "# 一般參數\n",
        "RANDOM_SEED = 42\n",
        "TEST_SIZE = 0.3\n",
        "\n",
        "# 載入資料集\n",
        "path = kagglehub.dataset_download(\"mlg-ulb/creditcardfraud\")\n",
        "data = pd.read_csv(f\"{path}/creditcard.csv\")\n",
        "data['Class'] = data['Class'].astype(int)\n",
        "data.drop('Time', axis=1, inplace=True)\n",
        "data['Amount'] = StandardScaler().fit_transform(data['Amount'].values.reshape(-1, 1))\n",
        "\n",
        "# 顯示類別比例\n",
        "fraud = data[data['Class'] == 1]\n",
        "nonfraud = data[data['Class'] == 0]\n",
        "print(f'Fraudulent:{len(fraud)}, non-fraudulent:{len(nonfraud)}')\n",
        "print(f'the positive class (frauds) percentage: {len(fraud)/(len(fraud)+len(nonfraud))*100:.3f}%')\n",
        "\n",
        "# 特徵與標籤\n",
        "X = data.drop(columns=['Class']).to_numpy()\n",
        "Y = data['Class'].to_numpy()\n",
        "\n",
        "# 切分訓練與測試集\n",
        "X_train, X_test, y_train, y_test = train_test_split(X, Y, test_size=TEST_SIZE, random_state=RANDOM_SEED)\n",
        "\n",
        "# 標準化\n",
        "scaler = StandardScaler()\n",
        "X_train_std = scaler.fit_transform(X_train)\n",
        "X_test_std = scaler.transform(X_test)\n",
        "\n",
        "# 建立 XGBoost 模型\n",
        "xgb_model = XGBClassifier(\n",
        "    colsample_bytree=1.0,\n",
        "    learning_rate=0.1,\n",
        "    max_depth=7,\n",
        "    n_estimators=200,\n",
        "    subsample=0.8,\n",
        "    scale_pos_weight=2.5,            \n",
        "    eval_metric='logloss',\n",
        "    tree_method='hist',\n",
        "    random_state=RANDOM_SEED\n",
        ")\n",
        "\n",
        "# 訓練模型\n",
        "xgb_model.fit(X_train_std, y_train)\n",
        "\n",
        "# 模型機率預測\n",
        "y_prob = xgb_model.predict_proba(X_test_std)[:, 1]\n",
        "\n",
        "threshold = 0.4577\n",
        "y_pred_custom = (y_prob > threshold).astype(int)\n",
        "\n",
        "# 分類報告\n",
        "print(classification_report(y_test, y_pred_custom))"
      ]
    }
  ],
  "metadata": {
    "colab": {
      "provenance": []
    },
    "kernelspec": {
      "display_name": "Python 3",
      "name": "python3"
    }
  },
  "nbformat": 4,
  "nbformat_minor": 0
}
