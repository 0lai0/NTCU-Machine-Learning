{
  "cells": [
    {
      "cell_type": "markdown",
      "source": [
        "# random_forest"
      ],
      "metadata": {
        "id": "-1NCfO261RzL"
      }
    },
    {
      "cell_type": "code",
      "source": [
        "import numpy as np\n",
        "import pandas as pd\n",
        "from sklearn.model_selection import train_test_split\n",
        "from sklearn.preprocessing import StandardScaler\n",
        "from sklearn.ensemble import RandomForestClassifier\n",
        "from sklearn.metrics import classification_report, accuracy_score, precision_score, recall_score, f1_score, roc_auc_score, confusion_matrix\n",
        "from sklearn.cluster import KMeans\n",
        "from sklearn.metrics import silhouette_score\n",
        "import kagglehub\n",
        "\n",
        "# 一般參數設定\n",
        "RANDOM_SEED = 42     # 固定隨機種子，確保每次結果一致\n",
        "TEST_SIZE = 0.3      # 測試集佔比 30%\n",
        "\n",
        "# 載入 Kaggle 資料集（信用卡詐騙資料）\n",
        "path = kagglehub.dataset_download(\"mlg-ulb/creditcardfraud\")\n",
        "data = pd.read_csv(f\"{path}/creditcard.csv\")\n",
        "\n",
        "# 將 'Class' 欄位轉為整數（0：正常，1：詐騙）\n",
        "data['Class'] = data['Class'].astype(int)\n",
        "\n",
        "# 移除 'Time' 欄位（通常無預測意義）\n",
        "data = data.drop(['Time'], axis=1)\n",
        "\n",
        "# 對 'Amount' 欄位做標準化處理（均值為 0，標準差為 1）\n",
        "data['Amount'] = StandardScaler().fit_transform(data['Amount'].values.reshape(-1, 1))\n",
        "\n",
        "# 顯示正負樣本數量與比例\n",
        "fraud = data[data['Class'] == 1]\n",
        "nonfraud = data[data['Class'] == 0]\n",
        "print(f'Fraudulent:{len(fraud)}, non-fraudulent:{len(nonfraud)}')\n",
        "print(f'the positive class (frauds) percentage: {len(fraud)}/{len(fraud) + len(nonfraud)} ({len(fraud)/(len(fraud) + len(nonfraud))*100:.3f}%)')\n",
        "\n",
        "# 特徵與標籤準備\n",
        "# X：所有除了 'Class' 的欄位（轉成 NumPy 陣列）\n",
        "X = np.asarray(data.iloc[:, ~data.columns.isin(['Class'])])\n",
        "\n",
        "# Y：'Class' 欄位（轉成 NumPy 陣列）\n",
        "Y = data['Class'].to_numpy()\n",
        "\n",
        "# 訓練集 / 測試集 切分\n",
        "X_train, X_test, y_train, y_test = train_test_split(X, Y, test_size=TEST_SIZE, random_state=RANDOM_SEED)\n",
        "\n",
        "# 建立 Random Forest 分類模型\n",
        "rf_model = RandomForestClassifier(\n",
        "    n_estimators=85,                 # 使用 85 棵樹進行投票\n",
        "    class_weight='balanced_subsample',  # 每棵樹針對類別權重調整，幫助學習詐騙樣本\n",
        "    min_samples_leaf=2,             # 每個葉節點最少 2 筆樣本（可防過擬合）\n",
        "    min_samples_split=3,            # 每個節點至少 3 筆樣本才能再分裂\n",
        "    oob_score=True,                 # 啟用 Out-of-Bag 估計\n",
        "    max_features='sqrt',            # 每棵樹每次分裂只考慮 sqrt(n) 個特徵（通常可提升泛化）\n",
        "    max_depth=25,                   # 限制樹的最大深度，避免太深過擬合\n",
        "    random_state=RANDOM_SEED        # 固定隨機種子\n",
        ")\n",
        "\n",
        "# 訓練模型\n",
        "rf_model.fit(X_train, y_train)\n",
        "\n",
        "\n",
        "# 定義評估函式\n",
        "def evaluation(y_true, y_pred, model_name=\"Model\"):\n",
        "    accuracy = accuracy_score(y_true, y_pred)\n",
        "    precision = precision_score(y_true, y_pred)\n",
        "    recall = recall_score(y_true, y_pred)\n",
        "    f1 = f1_score(y_true, y_pred)\n",
        "\n",
        "    print(f'\\n{model_name} Evaluation:')\n",
        "    print('===' * 15)\n",
        "    print('         Accuracy:', accuracy)\n",
        "    print('  Precision Score:', precision)\n",
        "    print('     Recall Score:', recall)\n",
        "    print('         F1 Score:', f1)\n",
        "    print(\"\\nClassification Report:\")\n",
        "    print(classification_report(y_true, y_pred))\n",
        "\n",
        "# 模型預測與結果輸出\n",
        "y_pred = rf_model.predict(X_test)\n",
        "\n",
        "# 輸出完整報告\n",
        "print(classification_report(y_test, y_pred))\n"
      ],
      "metadata": {
        "colab": {
          "base_uri": "https://localhost:8080/"
        },
        "id": "fWTFRjZR1STr",
        "outputId": "01c146a5-eaee-4a4b-f2c6-de4e1d6583f7"
      },
      "execution_count": 7,
      "outputs": [
        {
          "output_type": "stream",
          "name": "stdout",
          "text": [
            "Fraudulent:492, non-fraudulent:284315\n",
            "the positive class (frauds) percentage: 492/284807 (0.173%)\n",
            "              precision    recall  f1-score   support\n",
            "\n",
            "           0       1.00      1.00      1.00     85307\n",
            "           1       0.96      0.82      0.88       136\n",
            "\n",
            "    accuracy                           1.00     85443\n",
            "   macro avg       0.98      0.91      0.94     85443\n",
            "weighted avg       1.00      1.00      1.00     85443\n",
            "\n"
          ]
        }
      ]
    }
  ],
  "metadata": {
    "colab": {
      "provenance": []
    },
    "kernelspec": {
      "display_name": "Python 3",
      "name": "python3"
    }
  },
  "nbformat": 4,
  "nbformat_minor": 0
}