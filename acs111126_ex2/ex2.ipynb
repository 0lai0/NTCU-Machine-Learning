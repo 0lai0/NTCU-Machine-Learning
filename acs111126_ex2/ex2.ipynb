{
 "cells": [
  {
   "cell_type": "code",
   "execution_count": null,
   "id": "3d735aa1",
   "metadata": {},
   "outputs": [
    {
     "name": "stdout",
     "output_type": "stream",
     "text": [
      "Fraudulent:492, non-fraudulent:284315\n",
      "the positive class (frauds) percentage: 492/284807 (0.173%)\n"
     ]
    }
   ],
   "source": [
    "import numpy as np\n",
    "import pandas as pd\n",
    "from sklearn.model_selection import train_test_split\n",
    "from sklearn.preprocessing import StandardScaler\n",
    "from sklearn.metrics import classification_report\n",
    "from xgboost import XGBClassifier\n",
    "from sklearn.metrics import silhouette_score, accuracy_score, precision_score, recall_score, f1_score, roc_auc_score, confusion_matrix\n",
    "from sklearn.decomposition import PCA\n",
    "from sklearn.ensemble import IsolationForest\n",
    "import kagglehub\n",
    "# same as ex1\n",
    "# general setting. do not change TEST_SIZE\n",
    "RANDOM_SEED = 42\n",
    "TEST_SIZE = 0.3\n",
    "\n",
    "# load dataset（from kagglehub）\n",
    "path = kagglehub.dataset_download(\"mlg-ulb/creditcardfraud\")\n",
    "data = pd.read_csv(f\"{path}/creditcard.csv\")\n",
    "data['Class'] = data['Class'].astype(int)\n",
    "\n",
    "# prepare data\n",
    "data = data.drop(['Time'], axis=1)\n",
    "data['Amount'] = StandardScaler().fit_transform(data['Amount'].values.reshape(-1, 1))\n",
    "\n",
    "fraud = data[data['Class'] == 1]\n",
    "nonfraud = data[data['Class'] == 0]\n",
    "print(f'Fraudulent:{len(fraud)}, non-fraudulent:{len(nonfraud)}')\n",
    "print(f'the positive class (frauds) percentage: {len(fraud)}/{len(fraud) + len(nonfraud)} ({len(fraud)/(len(fraud) + len(nonfraud))*100:.3f}%)')    \n",
    "\n",
    "\n",
    "\n"
   ]
  },
  {
   "cell_type": "code",
   "execution_count": null,
   "id": "9475f073",
   "metadata": {},
   "outputs": [
    {
     "name": "stdout",
     "output_type": "stream",
     "text": [
      "\n",
      "isolation+XGBoost Evaluation:\n",
      "=============================================\n",
      "         Accuracy: 0.9997074072773662\n",
      "  Precision Score: 0.9512195121951219\n",
      "     Recall Score: 0.8602941176470589\n",
      "         F1 Score: 0.9034749034749034\n",
      "\n",
      "Classification Report:\n",
      "              precision    recall  f1-score   support\n",
      "\n",
      "           0       1.00      1.00      1.00     85307\n",
      "           1       0.95      0.86      0.90       136\n",
      "\n",
      "    accuracy                           1.00     85443\n",
      "   macro avg       0.98      0.93      0.95     85443\n",
      "weighted avg       1.00      1.00      1.00     85443\n",
      "\n"
     ]
    }
   ],
   "source": [
    "X = np.asarray(data.iloc[:, ~data.columns.isin(['Class'])])\n",
    "Y = np.asarray(data.iloc[:, data.columns == 'Class'])\n",
    "\n",
    "# split training set and data set\n",
    "X_train, X_test, y_train, y_test = train_test_split(X, Y, test_size=TEST_SIZE, random_state=RANDOM_SEED)\n",
    "\n",
    "iso_forest = IsolationForest(random_state=RANDOM_SEED, contamination=0.016)\n",
    "iso_forest.fit(X_train)\n",
    "\n",
    "#xgb model\n",
    "xgb_model = XGBClassifier(\n",
    "    max_depth=6,\n",
    "    n_estimators=120,\n",
    "    learning_rate=0.1,\n",
    "    subsample=0.8,\n",
    "    scale_pos_weight=2.5,\n",
    "    random_state=RANDOM_SEED\n",
    ")\n",
    "xgb_model.fit(X_train, y_train)\n",
    "\n",
    "# same as ex1\n",
    "def evaluation(y_true, y_pred, model_name=\"Model\"):\n",
    "   accuracy = accuracy_score(y_true, y_pred)\n",
    "   precision = precision_score(y_true, y_pred, zero_division=0)\n",
    "   recall = recall_score(y_true, y_pred)\n",
    "   f1 = f1_score(y_true, y_pred)\n",
    "\n",
    "   print(f'\\n{model_name} Evaluation:')\n",
    "   print('===' * 15)\n",
    "   print('         Accuracy:', accuracy)\n",
    "   print('  Precision Score:', precision)\n",
    "   print('     Recall Score:', recall)\n",
    "   print('         F1 Score:', f1)\n",
    "   print(\"\\nClassification Report:\")\n",
    "   print(classification_report(y_true, y_pred))\n",
    "\n",
    "y_pred = xgb_model.predict(X_test)\n",
    "evaluation(y_test, y_pred, model_name=\"isolation+XGBoost\")"
   ]
  }
 ],
 "metadata": {
  "kernelspec": {
   "display_name": ".conda",
   "language": "python",
   "name": "python3"
  },
  "language_info": {
   "codemirror_mode": {
    "name": "ipython",
    "version": 3
   },
   "file_extension": ".py",
   "mimetype": "text/x-python",
   "name": "python",
   "nbconvert_exporter": "python",
   "pygments_lexer": "ipython3",
   "version": "3.11.11"
  }
 },
 "nbformat": 4,
 "nbformat_minor": 5
}
