{
  "nbformat": 4,
  "nbformat_minor": 0,
  "metadata": {
    "colab": {
      "provenance": [],
      "authorship_tag": "ABX9TyPxGK+d1JsopJCzOWjj1uVD",
      "include_colab_link": true
    },
    "kernelspec": {
      "name": "python3",
      "display_name": "Python 3"
    },
    "language_info": {
      "name": "python"
    }
  },
  "cells": [
    {
      "cell_type": "markdown",
      "metadata": {
        "id": "view-in-github",
        "colab_type": "text"
      },
      "source": [
        "<a href=\"https://colab.research.google.com/github/thomaschen01/NTCU-Machine-Learning/blob/main/ACS111106_ex2.ipynb\" target=\"_parent\"><img src=\"https://colab.research.google.com/assets/colab-badge.svg\" alt=\"Open In Colab\"/></a>"
      ]
    },
    {
      "cell_type": "markdown",
      "source": [
        "非監督式學習:Isolation Forest 和 PCA降維 + 監督式學習:XGBoost"
      ],
      "metadata": {
        "id": "7Ab8C1Qvs3UI"
      }
    },
    {
      "cell_type": "code",
      "source": [
        "import numpy as np\n",
        "import pandas as pd\n",
        "from sklearn.model_selection import train_test_split\n",
        "from sklearn.preprocessing import StandardScaler\n",
        "from sklearn.metrics import accuracy_score, precision_score, recall_score, f1_score, classification_report\n",
        "from sklearn.ensemble import IsolationForest\n",
        "from sklearn.decomposition import PCA\n",
        "from xgboost import XGBClassifier\n",
        "import kagglehub\n",
        "path = kagglehub.dataset_download(\"mlg-ulb/creditcardfraud\")\n",
        "data = pd.read_csv(f\"{path}/creditcard.csv\")\n",
        "\n",
        "data['Class'] = data['Class'].astype(int)\n",
        "data = data.drop(['Time'], axis=1)\n",
        "data['Amount'] = StandardScaler().fit_transform(data['Amount'].values.reshape(-1, 1))\n",
        "\n",
        "X = data.drop(columns=['Class']).to_numpy()\n",
        "Y = data['Class'].to_numpy()\n",
        "RANDOM_SEED = 42\n",
        "TEST_SIZE = 0.3\n",
        "X_train, X_test, y_train, y_test = train_test_split(X, Y, test_size=TEST_SIZE, random_state=RANDOM_SEED)\n",
        "\n",
        "scaler = StandardScaler()\n",
        "X_train_std = scaler.fit_transform(X_train)\n",
        "X_test_std = scaler.transform(X_test)\n",
        "\n",
        "# === 3. Isolation Forest 特徵 ===\n",
        "iso_forest = IsolationForest(contamination=0.0017, random_state=RANDOM_SEED)\n",
        "iso_forest.fit(X_train_std)\n",
        "\n",
        "train_anomaly_scores = iso_forest.decision_function(X_train_std).reshape(-1, 1)\n",
        "test_anomaly_scores = iso_forest.decision_function(X_test_std).reshape(-1, 1)\n",
        "\n",
        "# === 4. PCA 特徵抽取（10 維）===\n",
        "pca = PCA(n_components=10, random_state=RANDOM_SEED)\n",
        "pca.fit(X_train_std)\n",
        "\n",
        "X_train_pca = pca.transform(X_train_std)\n",
        "X_test_pca = pca.transform(X_test_std)\n",
        "\n",
        "# === 5. 合併原始特徵 + IF分數 + PCA 特徵 ===\n",
        "X_train_enhanced = np.hstack((X_train_std, train_anomaly_scores, X_train_pca))\n",
        "X_test_enhanced = np.hstack((X_test_std, test_anomaly_scores, X_test_pca))\n",
        "\n",
        "# === 6. 建立並訓練 XGBoost 模型 ===\n",
        "xgb_model = XGBClassifier(\n",
        "    colsample_bytree=1.0,\n",
        "    learning_rate=0.1,\n",
        "    max_depth=6,\n",
        "    n_estimators=200,\n",
        "    subsample=0.8,\n",
        "    scale_pos_weight=2.5,\n",
        "    eval_metric='logloss',\n",
        "    tree_method='hist',\n",
        "    use_label_encoder=False,\n",
        "    random_state=RANDOM_SEED\n",
        ")\n",
        "\n",
        "xgb_model.fit(X_train_enhanced, y_train)\n",
        "y_prob = xgb_model.predict_proba(X_test_enhanced)[:, 1]\n",
        "threshold = 0.43\n",
        "y_pred_custom = (y_prob > threshold).astype(int)\n",
        "def evaluation(y_true, y_pred, model_name=\"Model\"):\n",
        "    accuracy = accuracy_score(y_true, y_pred)\n",
        "    precision = precision_score(y_true, y_pred)\n",
        "    recall = recall_score(y_true, y_pred)\n",
        "    f1 = f1_score(y_true, y_pred)\n",
        "\n",
        "    print(f'\\n{model_name} Evaluation:')\n",
        "    print('===' * 15)\n",
        "    print('         Accuracy:', accuracy)\n",
        "    print('  Precision Score:', precision)\n",
        "    print('     Recall Score:', recall)\n",
        "    print('         F1 Score:', f1)\n",
        "    print(\"\\nClassification Report:\")\n",
        "    print(classification_report(y_true, y_pred))\n",
        "evaluation(y_test, y_pred_custom, model_name=\"XGBoost with IF + PCA Features\")"
      ],
      "metadata": {
        "colab": {
          "base_uri": "https://localhost:8080/"
        },
        "id": "aHeWLx19rl4X",
        "outputId": "67d5de8d-a418-4795-a562-dc84415adf9d"
      },
      "execution_count": 22,
      "outputs": [
        {
          "output_type": "stream",
          "name": "stderr",
          "text": [
            "/usr/local/lib/python3.11/dist-packages/xgboost/core.py:158: UserWarning: [16:41:12] WARNING: /workspace/src/learner.cc:740: \n",
            "Parameters: { \"use_label_encoder\" } are not used.\n",
            "\n",
            "  msg += \" or \"\n"
          ]
        },
        {
          "output_type": "stream",
          "name": "stdout",
          "text": [
            "\n",
            "XGBoost with IF + PCA Features Evaluation:\n",
            "=============================================\n",
            "         Accuracy: 0.9996957035684608\n",
            "  Precision Score: 0.9365079365079365\n",
            "     Recall Score: 0.8676470588235294\n",
            "         F1 Score: 0.9007633587786259\n",
            "\n",
            "Classification Report:\n",
            "              precision    recall  f1-score   support\n",
            "\n",
            "           0       1.00      1.00      1.00     85307\n",
            "           1       0.94      0.87      0.90       136\n",
            "\n",
            "    accuracy                           1.00     85443\n",
            "   macro avg       0.97      0.93      0.95     85443\n",
            "weighted avg       1.00      1.00      1.00     85443\n",
            "\n"
          ]
        }
      ]
    }
  ]
}