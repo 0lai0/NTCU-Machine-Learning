{
  "nbformat": 4,
  "nbformat_minor": 0,
  "metadata": {
    "colab": {
      "provenance": []
    },
    "kernelspec": {
      "name": "python3",
      "display_name": "Python 3"
    },
    "language_info": {
      "name": "python"
    }
  },
  "cells": [
    {
      "cell_type": "code",
      "execution_count": 1,
      "metadata": {
        "colab": {
          "base_uri": "https://localhost:8080/"
        },
        "id": "snXKL7w_15t8",
        "outputId": "cfa8d981-c3fa-46b5-c552-e1739b4d412a"
      },
      "outputs": [
        {
          "output_type": "stream",
          "name": "stderr",
          "text": [
            "/usr/local/lib/python3.11/dist-packages/xgboost/core.py:158: UserWarning: [18:26:36] WARNING: /workspace/src/learner.cc:740: \n",
            "Parameters: { \"use_label_encoder\" } are not used.\n",
            "\n",
            "  warnings.warn(smsg, UserWarning)\n"
          ]
        },
        {
          "output_type": "stream",
          "name": "stdout",
          "text": [
            "\n",
            "✅ Best Threshold = 0.4160\n",
            "Accuracy       : 0.9995786665\n",
            "Precision Score: 0.9307692308\n",
            "Recall Score   : 0.8175675676\n",
            "F1 Score       : 0.8705035971\n",
            "\n",
            "Classification Report:\n",
            "              precision    recall  f1-score   support\n",
            "\n",
            "           0     0.9997    0.9999    0.9998     85295\n",
            "           1     0.9308    0.8176    0.8705       148\n",
            "\n",
            "    accuracy                         0.9996     85443\n",
            "   macro avg     0.9652    0.9087    0.9351     85443\n",
            "weighted avg     0.9996    0.9996    0.9996     85443\n",
            "\n"
          ]
        }
      ],
      "source": [
        "import numpy as np\n",
        "import pandas as pd\n",
        "from sklearn.model_selection import train_test_split\n",
        "from sklearn.preprocessing import StandardScaler\n",
        "from sklearn.ensemble import IsolationForest\n",
        "from sklearn.decomposition import PCA\n",
        "from sklearn.metrics import accuracy_score, precision_score, recall_score, f1_score, classification_report\n",
        "from xgboost import XGBClassifier\n",
        "import kagglehub\n",
        "\n",
        "# 設定隨機種子與資料\n",
        "RANDOM_SEED = 42\n",
        "SPLIT_SEED = 7  # ⭐️ 微調點：改 seed 7\n",
        "np.random.seed(RANDOM_SEED)\n",
        "\n",
        "# 下載資料\n",
        "path = kagglehub.dataset_download(\"mlg-ulb/creditcardfraud\")\n",
        "data = pd.read_csv(f\"{path}/creditcard.csv\")\n",
        "data['Class'] = data['Class'].astype(int)\n",
        "data.drop(\"Time\", axis=1, inplace=True)\n",
        "data[\"Amount\"] = StandardScaler().fit_transform(data[[\"Amount\"]])\n",
        "\n",
        "X = data.drop(columns=[\"Class\"]).values\n",
        "y = data[\"Class\"].values\n",
        "\n",
        "# 切分資料\n",
        "X_train, X_test, y_train, y_test = train_test_split(X, y, test_size=0.3, stratify=y, random_state=SPLIT_SEED)\n",
        "\n",
        "# 標準化\n",
        "scaler = StandardScaler()\n",
        "X_train_std = scaler.fit_transform(X_train)\n",
        "X_test_std = scaler.transform(X_test)\n",
        "\n",
        "# Isolation Forest 異常分數\n",
        "iso = IsolationForest(contamination=0.0017, n_estimators=200, random_state=RANDOM_SEED)\n",
        "iso.fit(X_train_std)\n",
        "train_if = iso.decision_function(X_train_std).reshape(-1, 1)\n",
        "test_if = iso.decision_function(X_test_std).reshape(-1, 1)\n",
        "\n",
        "# PCA 特徵（⭐️ 微調點：12 維）\n",
        "pca = PCA(n_components=10, random_state=RANDOM_SEED)\n",
        "X_train_pca = pca.fit_transform(X_train_std)\n",
        "X_test_pca = pca.transform(X_test_std)\n",
        "\n",
        "# 合併特徵\n",
        "X_train_final = np.hstack([X_train_std, train_if, X_train_pca])\n",
        "X_test_final = np.hstack([X_test_std, test_if, X_test_pca])\n",
        "\n",
        "# XGBoost 模型\n",
        "model = XGBClassifier(\n",
        "    learning_rate=0.08,\n",
        "    max_depth=6,\n",
        "    n_estimators=250,\n",
        "    subsample=0.9,\n",
        "    colsample_bytree=0.9,\n",
        "    scale_pos_weight=150,\n",
        "    eval_metric='logloss',\n",
        "    tree_method='hist',\n",
        "    use_label_encoder=False,\n",
        "    random_state=RANDOM_SEED\n",
        ")\n",
        "model.fit(X_train_final, y_train)\n",
        "\n",
        "# 門檻搜尋範圍 0.425 ~ 0.435\n",
        "y_prob = model.predict_proba(X_test_final)[:, 1]\n",
        "best = {\"threshold\": 0, \"accuracy\": 0, \"precision\": 0, \"recall\": 0, \"f1\": 0}\n",
        "for t in np.arange(0.39, 0.435, 0.001):\n",
        "    y_pred = (y_prob > t).astype(int)\n",
        "    acc = accuracy_score(y_test, y_pred)\n",
        "    pre = precision_score(y_test, y_pred, zero_division=0)\n",
        "    rec = recall_score(y_test, y_pred, zero_division=0)\n",
        "    f1 = f1_score(y_test, y_pred, zero_division=0)\n",
        "    if f1 > best[\"f1\"]:\n",
        "        best = {\"threshold\": t, \"accuracy\": acc, \"precision\": pre, \"recall\": rec, \"f1\": f1}\n",
        "\n",
        "# 顯示最終結果\n",
        "print(f\"\\n✅ Best Threshold = {best['threshold']:.4f}\")\n",
        "print(f\"Accuracy       : {best['accuracy']:.10f}\")\n",
        "print(f\"Precision Score: {best['precision']:.10f}\")\n",
        "print(f\"Recall Score   : {best['recall']:.10f}\")\n",
        "print(f\"F1 Score       : {best['f1']:.10f}\")\n",
        "\n",
        "# 最終報告\n",
        "y_final = (y_prob > best[\"threshold\"]).astype(int)\n",
        "print(\"\\nClassification Report:\")\n",
        "print(classification_report(y_test, y_final, digits=4))"
      ]
    }
  ]
}