{
  "nbformat": 4,
  "nbformat_minor": 0,
  "metadata": {
    "colab": {
      "provenance": [],
      "include_colab_link": true
    },
    "kernelspec": {
      "name": "python3",
      "display_name": "Python 3"
    },
    "language_info": {
      "name": "python"
    }
  },
  "cells": [
    {
      "cell_type": "markdown",
      "metadata": {
        "id": "view-in-github",
        "colab_type": "text"
      },
      "source": [
        "<a href=\"https://colab.research.google.com/github/Sandrala0413/NTCU-Machine-Learning/blob/main/NTCU_ML_Challenge1_Example.ipynb\" target=\"_parent\"><img src=\"https://colab.research.google.com/assets/colab-badge.svg\" alt=\"Open In Colab\"/></a>"
      ]
    },
    {
      "cell_type": "markdown",
      "source": [
        "## Import Necessary Package"
      ],
      "metadata": {
        "id": "dWMfSiQ965S2"
      }
    },
    {
      "cell_type": "code",
      "source": [
        "import numpy as np\n",
        "import pandas as pd\n",
        "from sklearn.model_selection import train_test_split, GridSearchCV\n",
        "from sklearn.preprocessing import StandardScaler\n",
        "from sklearn.ensemble import RandomForestClassifier\n",
        "from sklearn.metrics import classification_report\n",
        "from sklearn.cluster import KMeans\n",
        "from sklearn.metrics import silhouette_score, accuracy_score, precision_score, recall_score, f1_score, roc_auc_score, confusion_matrix\n",
        "import kagglehub\n",
        "\n",
        "# general setting. do not change TEST_SIZE\n",
        "RANDOM_SEED = 42\n",
        "TEST_SIZE = 0.3"
      ],
      "metadata": {
        "id": "Z9p241Ag6_W4"
      },
      "execution_count": null,
      "outputs": []
    },
    {
      "cell_type": "markdown",
      "source": [
        "## Load Dataset & Prepare Data"
      ],
      "metadata": {
        "id": "ysBADDUY7ESi"
      }
    },
    {
      "cell_type": "code",
      "source": [
        "# load dataset（from kagglehub）\n",
        "path = kagglehub.dataset_download(\"mlg-ulb/creditcardfraud\")\n",
        "data = pd.read_csv(f\"{path}/creditcard.csv\")\n",
        "data['Class'] = data['Class'].astype(int)\n",
        "\n",
        "# prepare data\n",
        "data = data.drop(['Time'], axis=1)  #拿掉Time欄位\n",
        "data['Amount'] = StandardScaler().fit_transform(data['Amount'].values.reshape(-1, 1))"
      ],
      "metadata": {
        "id": "S9OzKek-7Ly4"
      },
      "execution_count": null,
      "outputs": []
    },
    {
      "cell_type": "markdown",
      "source": [
        "## Fraud/Non-Fraud Transactions"
      ],
      "metadata": {
        "id": "OSGjRpDG7Vac"
      }
    },
    {
      "cell_type": "code",
      "source": [
        "fraud = data[data['Class'] == 1]\n",
        "nonfraud = data[data['Class'] == 0]\n",
        "print(f'Fraudulent:{len(fraud)}, non-fraudulent:{len(nonfraud)}')\n",
        "print(f'the positive class (frauds) percentage: {len(fraud)}/{len(fraud) + len(nonfraud)} ({len(fraud)/(len(fraud) + len(nonfraud))*100:.3f}%)')"
      ],
      "metadata": {
        "colab": {
          "base_uri": "https://localhost:8080/"
        },
        "id": "HBTR4FUN7dTM",
        "outputId": "ef57326e-a689-402f-f9d6-02e6b084178a"
      },
      "execution_count": null,
      "outputs": [
        {
          "output_type": "stream",
          "name": "stdout",
          "text": [
            "Fraudulent:492, non-fraudulent:284315\n",
            "the positive class (frauds) percentage: 492/284807 (0.173%)\n"
          ]
        }
      ]
    },
    {
      "cell_type": "markdown",
      "source": [
        "## 監督式學習 (random forest)"
      ],
      "metadata": {
        "id": "NwgT6nZQ7le0"
      }
    },
    {
      "cell_type": "code",
      "source": [
        "X = np.asarray(data.iloc[:, ~data.columns.isin(['Class'])]) #從資料集中選出除了Class外的欄位作為輸入特徵x\n",
        "Y = np.asarray(data.iloc[:, data.columns == 'Class'])   #選出Class欄位當作標籤Y(是否詐欺)\n",
        "\n",
        "# split training set and data set\n",
        "X_train, X_test, y_train, y_test = train_test_split(X, Y, test_size=TEST_SIZE, random_state=RANDOM_SEED)\n",
        "\n",
        "y_train = y_train.ravel() #標籤轉為一維向量\n",
        "y_test = y_test.ravel()\n",
        "\n",
        "#define GridSearchCV\n",
        "\n",
        "# param_grid = {\n",
        "#     'n_estimators': [100, 150, 200, 250],           # 樹的數量：先從 100、150 開始，不要太多\n",
        "#     'max_depth': [10, 15, 20],                # 限制樹的深度：避免過擬合\n",
        "#     'min_samples_split': [2],             # 最小切分樣本數：先固定\n",
        "#     'min_samples_leaf': [1],              # 最小葉節點樣本數：先固定\n",
        "#     'class_weight': [\n",
        "#         'balanced',\n",
        "#         'balanced_subsample',\n",
        "#         {0: 1, 1: 5},\n",
        "#         {0: 1, 1: 10},\n",
        "#         {0: 1, 1: 15},\n",
        "#         {0: 1, 1: 20}\n",
        "#     ]\n",
        "# }\n",
        "\n",
        "# grid_search = GridSearchCV(\n",
        "#     estimator=RandomForestClassifier(random_state=42),\n",
        "#     param_grid=param_grid,\n",
        "#     cv=3,\n",
        "#     scoring='f1',\n",
        "#     n_jobs=-1,\n",
        "#     verbose=1\n",
        "# )\n",
        "\n",
        "# grid_search.fit(X_train, y_train)\n",
        "\n",
        "# print(\"Best Parameters:\")\n",
        "# print(grid_search.best_params_)\n",
        "\n",
        "# 評估所有模型在 test set 的 precision 和 recall\n",
        "# results = []\n",
        "# for i, params in enumerate(grid_search.cv_results_[\"params\"]):\n",
        "#     est = grid_search.cv_results_[\"params\"][i]\n",
        "#     model = RandomForestClassifier(**est, random_state=42)\n",
        "#     model.fit(X_train, y_train)\n",
        "#     y_pred = model.predict(X_test)\n",
        "\n",
        "#     precision = precision_score(y_test, y_pred)\n",
        "#     recall = recall_score(y_test, y_pred)\n",
        "#     f1 = f1_score(y_test, y_pred)\n",
        "\n",
        "#     if precision >= 0.94 and recall >= 0.82:\n",
        "#         results.append({\n",
        "#             \"params\": est,\n",
        "#             \"precision\": precision,\n",
        "#             \"recall\": recall,\n",
        "#             \"f1\": f1\n",
        "#         })\n",
        "\n",
        "# 顯示符合條件的參數組合\n",
        "# for r in results:\n",
        "#     print(f\"\\n✓ 符合條件的模型：\")\n",
        "#     print(f\"params = {r['params']}\")\n",
        "#     print(f\"precision = {r['precision']:.4f}, recall = {r['recall']:.4f}, f1 = {r['f1']:.4f}\")\n",
        "\n",
        "# build Random Forest model\n",
        "\n",
        "rf_best = RandomForestClassifier(\n",
        "    n_estimators=150,\n",
        "    max_depth=25,\n",
        "    min_samples_split=2,\n",
        "    min_samples_leaf=1,\n",
        "    class_weight={0: 1, 1: 10},\n",
        "    max_features=15,\n",
        "    random_state=42\n",
        ")\n",
        "rf_best.fit(X_train, y_train)\n",
        "\n",
        "# rf_model = RandomForestClassifier(n_estimators=250, random_state=RANDOM_SEED)\n",
        "# rf_model.fit(X_train, y_train)"
      ],
      "metadata": {
        "id": "8avvmtSO7szn"
      },
      "execution_count": null,
      "outputs": []
    },
    {
      "cell_type": "markdown",
      "source": [
        "## Result of 監督式學習(random forest)"
      ],
      "metadata": {
        "id": "Evp5wA1K79pN"
      }
    },
    {
      "cell_type": "code",
      "source": [
        "# define evaluation function\n",
        "def evaluation(y_true, y_pred, model_name=\"Model\"):\n",
        "    accuracy = accuracy_score(y_true, y_pred)\n",
        "    precision = precision_score(y_true, y_pred)\n",
        "    recall = recall_score(y_true, y_pred)\n",
        "    f1 = f1_score(y_true, y_pred)\n",
        "\n",
        "    print(f'\\n{model_name} Evaluation:')\n",
        "    print('===' * 15)\n",
        "    print('         Accuracy:', accuracy)\n",
        "    print('  Precision Score:', precision)\n",
        "    print('     Recall Score:', recall)\n",
        "    print('         F1 Score:', f1)\n",
        "    print(\"\\nClassification Report:\")\n",
        "    print(classification_report(y_true, y_pred))\n",
        "\n",
        "# predict and print result\n",
        "# best_rf = grid_search.best_estimator_\n",
        "# y_probs = rf_best.predict_proba(X_test)[:, 1]\n",
        "# y_pred = (y_probs >= 0.483).astype(int)\n",
        "y_pred = rf_best.predict(X_test)\n",
        "#y_pred = rf_model.predict(X_test)\n",
        "# print(classification_report(y_test, y_pred))\n",
        "evaluation(y_test, y_pred, model_name=\"Random Forest(Supervised)\")"
      ],
      "metadata": {
        "id": "FtFnNrdm8FYr"
      },
      "execution_count": null,
      "outputs": []
    },
    {
      "cell_type": "markdown",
      "source": [
        "## 非監督式學習(KMeans)"
      ],
      "metadata": {
        "id": "WZJ5hAwi8LdR"
      }
    },
    {
      "cell_type": "code",
      "source": [
        "# Extract features and labels\n",
        "X = np.asarray(data.drop(columns=['Class']))\n",
        "y = np.asarray(data['Class'])\n",
        "\n",
        "# Split the dataset into training and testing sets (with stratification)\n",
        "x_train, x_test, y_train, y_test = train_test_split(\n",
        "   X, y, test_size=TEST_SIZE, random_state=RANDOM_SEED, stratify=y\n",
        ")\n",
        "\n",
        "scaler = StandardScaler()\n",
        "x_train = scaler.fit_transform(x_train)\n",
        "x_test = scaler.transform(x_test)\n",
        "\n",
        "# Select a small sample of normal (non-fraud) data for unsupervised training\n",
        "n_x_train = x_train[y_train == 0]\n",
        "n_x_train = n_x_train[:1000]\n",
        "\n",
        "scores = []\n",
        "for k in range(2, 5):\n",
        "   kmeans = KMeans(n_clusters=k, init='k-means++', random_state=RANDOM_SEED)\n",
        "   kmeans.fit(n_x_train)\n",
        "   score = silhouette_score(n_x_train, kmeans.labels_)\n",
        "   scores.append(score)\n",
        "\n",
        "optimal_k = np.argmax(scores) + 2\n",
        "kmeans = KMeans(n_clusters=optimal_k, init='k-means++', random_state=RANDOM_SEED)\n",
        "kmeans.fit(n_x_train)\n",
        "y_pred_test = kmeans.predict(x_test)\n",
        "def align_labels(y_true, y_pred, n_clusters):\n",
        "   labels = np.zeros_like(y_pred)\n",
        "   for i in range(n_clusters):\n",
        "       mask = (y_pred == i)\n",
        "       if np.sum(mask) > 0:\n",
        "           labels[mask] = np.bincount(y_true[mask]).argmax()\n",
        "       else:\n",
        "           labels[mask] = 0  # Default to normal class\n",
        "   return labels\n",
        "\n",
        "y_pred_aligned = align_labels(y_test, y_pred_test, optimal_k)"
      ],
      "metadata": {
        "id": "NhOX-eo98M0R"
      },
      "execution_count": null,
      "outputs": []
    },
    {
      "cell_type": "markdown",
      "source": [
        "## Result of 非監督式學習(KMeans)"
      ],
      "metadata": {
        "id": "xM-RCW778m8Y"
      }
    },
    {
      "cell_type": "code",
      "source": [
        "def evaluation(y_true, y_pred, model_name=\"Model\"):\n",
        "   accuracy = accuracy_score(y_true, y_pred)\n",
        "   precision = precision_score(y_true, y_pred, zero_division=0)\n",
        "   recall = recall_score(y_true, y_pred)\n",
        "   f1 = f1_score(y_true, y_pred)\n",
        "\n",
        "   print(f'\\n{model_name} Evaluation:')\n",
        "   print('===' * 15)\n",
        "   print('         Accuracy:', accuracy)\n",
        "   print('  Precision Score:', precision)\n",
        "   print('     Recall Score:', recall)\n",
        "   print('         F1 Score:', f1)\n",
        "   print(\"\\nClassification Report:\")\n",
        "   print(classification_report(y_true, y_pred))\n",
        "\n",
        "evaluation(y_test, y_pred_aligned, model_name=\"KMeans (Unsupervised)\")"
      ],
      "metadata": {
        "colab": {
          "base_uri": "https://localhost:8080/"
        },
        "id": "Od_eP3Da8p3Q",
        "outputId": "4310b112-5d38-41d4-f2ff-83e00ed7ca19"
      },
      "execution_count": null,
      "outputs": [
        {
          "output_type": "stream",
          "name": "stdout",
          "text": [
            "\n",
            "KMeans (Unsupervised) Evaluation:\n",
            "=============================================\n",
            "         Accuracy: 0.9987242957293166\n",
            "  Precision Score: 0.782608695652174\n",
            "     Recall Score: 0.36486486486486486\n",
            "         F1 Score: 0.4976958525345622\n",
            "\n",
            "Classification Report:\n",
            "              precision    recall  f1-score   support\n",
            "\n",
            "           0       1.00      1.00      1.00     85295\n",
            "           1       0.78      0.36      0.50       148\n",
            "\n",
            "    accuracy                           1.00     85443\n",
            "   macro avg       0.89      0.68      0.75     85443\n",
            "weighted avg       1.00      1.00      1.00     85443\n",
            "\n"
          ]
        }
      ]
    }
  ]
}