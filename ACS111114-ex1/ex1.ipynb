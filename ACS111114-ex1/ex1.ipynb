{
  "nbformat": 4,
  "nbformat_minor": 0,
  "metadata": {
    "colab": {
      "provenance": []
    },
    "kernelspec": {
      "name": "python3",
      "display_name": "Python 3"
    },
    "language_info": {
      "name": "python"
    }
  },
  "cells": [
    {
      "cell_type": "code",
      "execution_count": 11,
      "metadata": {
        "colab": {
          "base_uri": "https://localhost:8080/"
        },
        "id": "Cvp8tyv7YCKE",
        "outputId": "829fb919-6974-4881-aca3-32490ffe8123"
      },
      "outputs": [
        {
          "output_type": "stream",
          "name": "stdout",
          "text": [
            "Fraudulent:492, non-fraudulent:284315\n",
            "the positive class (frauds) percentage: 492/284807 (0.173%)\n"
          ]
        },
        {
          "output_type": "stream",
          "name": "stderr",
          "text": [
            "/usr/local/lib/python3.11/dist-packages/sklearn/base.py:1389: DataConversionWarning: A column-vector y was passed when a 1d array was expected. Please change the shape of y to (n_samples,), for example using ravel().\n",
            "  return fit_method(estimator, *args, **kwargs)\n"
          ]
        },
        {
          "output_type": "stream",
          "name": "stdout",
          "text": [
            "\n",
            "RandomForestClassifier(Supervised) Evaluation:\n",
            "=============================================\n",
            "         Accuracy: 0.9996254813150287\n",
            "  Precision Score: 0.9\n",
            "     Recall Score: 0.8602941176470589\n",
            "         F1 Score: 0.8796992481203008\n",
            "\n",
            "Classification Report:\n",
            "              precision    recall  f1-score   support\n",
            "\n",
            "           0       1.00      1.00      1.00     85307\n",
            "           1       0.90      0.86      0.88       136\n",
            "\n",
            "    accuracy                           1.00     85443\n",
            "   macro avg       0.95      0.93      0.94     85443\n",
            "weighted avg       1.00      1.00      1.00     85443\n",
            "\n",
            "              precision    recall  f1-score   support\n",
            "\n",
            "           0       1.00      1.00      1.00     85307\n",
            "           1       0.90      0.86      0.88       136\n",
            "\n",
            "    accuracy                           1.00     85443\n",
            "   macro avg       0.95      0.93      0.94     85443\n",
            "weighted avg       1.00      1.00      1.00     85443\n",
            "\n"
          ]
        }
      ],
      "source": [
        "import numpy as np\n",
        "import pandas as pd\n",
        "from sklearn.model_selection import train_test_split\n",
        "from sklearn.preprocessing import StandardScaler\n",
        "from sklearn.ensemble import RandomForestClassifier\n",
        "from sklearn.metrics import classification_report\n",
        "from sklearn.cluster import KMeans\n",
        "from sklearn.metrics import silhouette_score, accuracy_score, precision_score, recall_score, f1_score, roc_auc_score, confusion_matrix\n",
        "import kagglehub\n",
        "\n",
        "#supervised learning\n",
        "# general setting. do not change TEST_SIZE\n",
        "RANDOM_SEED = 42\n",
        "TEST_SIZE = 0.3\n",
        "\n",
        "# load dataset（from kagglehub）\n",
        "path = kagglehub.dataset_download(\"mlg-ulb/creditcardfraud\")\n",
        "data = pd.read_csv(f\"{path}/creditcard.csv\")\n",
        "data['Class'] = data['Class'].astype(int)\n",
        "\n",
        "# prepare data\n",
        "data = data.drop(['Time'], axis=1)\n",
        "data['Amount'] = StandardScaler().fit_transform(data['Amount'].values.reshape(-1, 1))\n",
        "\n",
        "fraud = data[data['Class'] == 1]\n",
        "nonfraud = data[data['Class'] == 0]\n",
        "print(f'Fraudulent:{len(fraud)}, non-fraudulent:{len(nonfraud)}')\n",
        "print(f'the positive class (frauds) percentage: {len(fraud)}/{len(fraud) + len(nonfraud)} ({len(fraud)/(len(fraud) + len(nonfraud))*100:.3f}%)')\n",
        "\n",
        "X = np.asarray(data.iloc[:, ~data.columns.isin(['Class'])])\n",
        "Y = np.asarray(data.iloc[:, data.columns == 'Class'])\n",
        "\n",
        "# split training set and data set\n",
        "X_train, X_test, y_train, y_test = train_test_split(X, Y, test_size=TEST_SIZE, random_state=RANDOM_SEED)\n",
        "\n",
        "# build Random Forest model\n",
        "rf_model = RandomForestClassifier(n_estimators=100, random_state=RANDOM_SEED, class_weight='balanced')\n",
        "rf_model.fit(X_train, y_train)\n",
        "\n",
        "# define evaluation function\n",
        "def evaluation(y_true, y_pred, model_name=\"Model\"):\n",
        "    accuracy = accuracy_score(y_true, y_pred)\n",
        "    precision = precision_score(y_true, y_pred)\n",
        "    recall = recall_score(y_true, y_pred)\n",
        "    f1 = f1_score(y_true, y_pred)\n",
        "\n",
        "    print(f'\\n{model_name} Evaluation:')\n",
        "    print('===' * 15)\n",
        "    print('         Accuracy:', accuracy)\n",
        "    print('  Precision Score:', precision)\n",
        "    print('     Recall Score:', recall)\n",
        "    print('         F1 Score:', f1)\n",
        "    print(\"\\nClassification Report:\")\n",
        "    print(classification_report(y_true, y_pred))\n",
        "\n",
        "# predict and print result\n",
        "# 25%就判斷為是詐騙\n",
        "y_score = rf_model.predict_proba(X_test)[:,1]\n",
        "threshold = 0.25\n",
        "y_pred = (y_score > threshold).astype(int)\n",
        "evaluation(y_test, y_pred, model_name=\"RandomForestClassifier(Supervised)\")\n"
      ]
    },
    {
      "cell_type": "code",
      "source": [
        "#unsupervised learning\n",
        "# Extract features and labels\n",
        "X = np.asarray(data.drop(columns=['Class']))\n",
        "y = np.asarray(data['Class'])\n",
        "\n",
        "# Split the dataset into training and testing sets (with stratification)\n",
        "x_train, x_test, y_train, y_test = train_test_split(\n",
        "   X, y, test_size=TEST_SIZE, random_state=RANDOM_SEED, stratify=y\n",
        ")\n",
        "\n",
        "scaler = StandardScaler()\n",
        "\n",
        "x_train = scaler.fit_transform(x_train)\n",
        "x_test = scaler.transform(x_test)\n",
        "\n",
        "# Select a small sample of normal (non-fraud) data for unsupervised training\n",
        "n_x_train = x_train[y_train == 0]\n",
        "n_x_train = n_x_train[:1000]\n",
        "\n",
        "scores = []\n",
        "for k in range(2, 5):\n",
        "   kmeans = KMeans(n_clusters=k, init='k-means++', random_state=RANDOM_SEED)\n",
        "   kmeans.fit(n_x_train)\n",
        "   score = silhouette_score(n_x_train, kmeans.labels_)\n",
        "   scores.append(score)\n",
        "\n",
        "optimal_k = np.argmax(scores) + 2\n",
        "kmeans = KMeans(n_clusters=optimal_k, init='k-means++', random_state=RANDOM_SEED)\n",
        "kmeans.fit(n_x_train)\n",
        "y_pred_test = kmeans.predict(x_test)\n",
        "def align_labels(y_true, y_pred, n_clusters):\n",
        "   labels = np.zeros_like(y_pred)\n",
        "   for i in range(n_clusters):\n",
        "       mask = (y_pred == i)\n",
        "       if np.sum(mask) > 0:\n",
        "           labels[mask] = np.bincount(y_true[mask]).argmax()\n",
        "       else:\n",
        "           labels[mask] = 0  # Default to normal class\n",
        "   return labels\n",
        "\n",
        "#挑離中心進的資料\n",
        "y_pred_aligned = align_labels(y_test, y_pred_test, optimal_k)\n",
        "distances = kmeans.transform(x_test)\n",
        "max_dist = np.max(distances, axis=1)\n",
        "threshold = np.percentile(max_dist, 99)\n",
        "inliers = (max_dist > threshold).astype(int)\n",
        "y_pred_final = ((y_pred_aligned == 1) & (inliers == 1)).astype(int)\n",
        "\n",
        "def evaluation(y_true, y_pred, model_name=\"Model\"):\n",
        "   accuracy = accuracy_score(y_true, y_pred)\n",
        "   precision = precision_score(y_true, y_pred, zero_division=0)\n",
        "   recall = recall_score(y_true, y_pred)\n",
        "   f1 = f1_score(y_true, y_pred)\n",
        "\n",
        "   print(f'\\n{model_name} Evaluation:')\n",
        "   print('===' * 15)\n",
        "   print('         Accuracy:', accuracy)\n",
        "   print('  Precision Score:', precision)\n",
        "   print('     Recall Score:', recall)\n",
        "   print('         F1 Score:', f1)\n",
        "   print(\"\\nClassification Report:\")\n",
        "   print(classification_report(y_true, y_pred))\n",
        "\n",
        "evaluation(y_test, y_pred_final, model_name=\"KMeans (Unsupervised)\")"
      ],
      "metadata": {
        "colab": {
          "base_uri": "https://localhost:8080/"
        },
        "id": "9h93qVbxAK_1",
        "outputId": "f1416c22-6349-48f1-8bfb-efec7d59e9b6"
      },
      "execution_count": 96,
      "outputs": [
        {
          "output_type": "stream",
          "name": "stdout",
          "text": [
            "\n",
            "KMeans (Unsupervised) Evaluation:\n",
            "=============================================\n",
            "         Accuracy: 0.998537036386831\n",
            "  Precision Score: 0.9259259259259259\n",
            "     Recall Score: 0.16891891891891891\n",
            "         F1 Score: 0.2857142857142857\n",
            "\n",
            "Classification Report:\n",
            "              precision    recall  f1-score   support\n",
            "\n",
            "           0       1.00      1.00      1.00     85295\n",
            "           1       0.93      0.17      0.29       148\n",
            "\n",
            "    accuracy                           1.00     85443\n",
            "   macro avg       0.96      0.58      0.64     85443\n",
            "weighted avg       1.00      1.00      1.00     85443\n",
            "\n"
          ]
        }
      ]
    },
    {
      "cell_type": "code",
      "source": [],
      "metadata": {
        "id": "mS1f_Za5IP97"
      },
      "execution_count": null,
      "outputs": []
    }
  ]
}