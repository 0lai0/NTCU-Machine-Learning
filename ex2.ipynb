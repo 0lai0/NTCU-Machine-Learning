{
  "cells": [
    {
      "cell_type": "markdown",
      "metadata": {
        "id": "dWMfSiQ965S2"
      },
      "source": [
        "## Import Necessary Package"
      ]
    },
    {
      "cell_type": "code",
      "execution_count": 94,
      "metadata": {
        "id": "Z9p241Ag6_W4"
      },
      "outputs": [],
      "source": [
        "import numpy as np\n",
        "import pandas as pd\n",
        "from sklearn.model_selection import train_test_split\n",
        "from sklearn.preprocessing import StandardScaler\n",
        "from sklearn.ensemble import RandomForestClassifier\n",
        "from sklearn.metrics import classification_report\n",
        "from sklearn.cluster import KMeans\n",
        "from sklearn.metrics import silhouette_score, accuracy_score, precision_score, recall_score, f1_score, roc_auc_score, confusion_matrix\n",
        "import kagglehub\n",
        "\n",
        "# general setting. do not change TEST_SIZE\n",
        "RANDOM_SEED = 42\n",
        "TEST_SIZE = 0.3"
      ]
    },
    {
      "cell_type": "markdown",
      "metadata": {
        "id": "ysBADDUY7ESi"
      },
      "source": [
        "## Load Dataset & Prepare Data"
      ]
    },
    {
      "cell_type": "code",
      "execution_count": 95,
      "metadata": {
        "id": "S9OzKek-7Ly4"
      },
      "outputs": [],
      "source": [
        "# load dataset（from kagglehub）\n",
        "path = kagglehub.dataset_download(\"mlg-ulb/creditcardfraud\")\n",
        "data = pd.read_csv(f\"{path}/creditcard.csv\")\n",
        "data['Class'] = data['Class'].astype(int)\n",
        "\n",
        "# prepare data\n",
        "data = data.drop(['Time'], axis=1)\n",
        "data['Amount'] = StandardScaler().fit_transform(data['Amount'].values.reshape(-1, 1))"
      ]
    },
    {
      "cell_type": "markdown",
      "metadata": {
        "id": "OSGjRpDG7Vac"
      },
      "source": [
        "## Fraud/Non-Fraud Transactions"
      ]
    },
    {
      "cell_type": "code",
      "execution_count": 96,
      "metadata": {
        "colab": {
          "base_uri": "https://localhost:8080/"
        },
        "id": "HBTR4FUN7dTM",
        "outputId": "2a3a082b-55f9-4d09-c29b-bdfe576fe7a6"
      },
      "outputs": [
        {
          "name": "stdout",
          "output_type": "stream",
          "text": [
            "Fraudulent:492, non-fraudulent:284315\n",
            "the positive class (frauds) percentage: 492/284807 (0.173%)\n"
          ]
        }
      ],
      "source": [
        "fraud = data[data['Class'] == 1]\n",
        "nonfraud = data[data['Class'] == 0]\n",
        "print(f'Fraudulent:{len(fraud)}, non-fraudulent:{len(nonfraud)}')\n",
        "print(f'the positive class (frauds) percentage: {len(fraud)}/{len(fraud) + len(nonfraud)} ({len(fraud)/(len(fraud) + len(nonfraud))*100:.3f}%)')"
      ]
    },
    {
      "cell_type": "code",
      "execution_count": 97,
      "metadata": {
        "id": "NhOX-eo98M0R"
      },
      "outputs": [],
      "source": [
        "# Extract features and labels\n",
        "X = np.asarray(data.drop(columns=['Class']))\n",
        "y = np.asarray(data['Class'])\n",
        "\n",
        "# Split the dataset into training and testing sets (with stratification)\n",
        "x_train, x_test, y_train, y_test = train_test_split(\n",
        "   X, y, test_size=TEST_SIZE, random_state=RANDOM_SEED, stratify=y\n",
        ")\n",
        "\n",
        "scaler = StandardScaler()\n",
        "x_train = scaler.fit_transform(x_train)\n",
        "x_test = scaler.transform(x_test)\n",
        "\n",
        "from sklearn.ensemble import IsolationForest\n",
        "from sklearn.decomposition import PCA\n",
        "# 降維\n",
        "pca = PCA(n_components=25) \n",
        "# n_components=10~25此範圍中數值越大 Precision Score越高\n",
        "x_train = pca.fit_transform(x_train)\n",
        "x_test = pca.transform(x_test)\n",
        "\n",
        "iso = IsolationForest(contamination=0.0017,n_estimators=300,random_state=RANDOM_SEED)\n",
        "iso.fit(x_train)\n",
        "# decision_function 會給每筆資料一個異常分數\n",
        "anomaly_score_train = iso.decision_function(x_train)\n",
        "anomaly_score_test = iso.decision_function(x_test)\n",
        "\n",
        "# === 3. KMeans 聚類標籤 ===\n",
        "# 只使用正常樣本來訓練群集\n",
        "normal_train = x_train[y_train == 0]\n",
        "kmeans = KMeans(n_clusters=3, init='k-means++', random_state=42)\n",
        "kmeans.fit(normal_train)\n",
        "\n",
        "# 對整個訓練 & 測試資料預測所屬 cluster\n",
        "cluster_train = kmeans.predict(x_train)\n",
        "cluster_test = kmeans.predict(x_test)\n",
        "\n",
        "# 將 cluster label one-hot encode（也可以直接用 label）\n",
        "from sklearn.preprocessing import OneHotEncoder\n",
        "\n",
        "enc = OneHotEncoder(sparse_output=False, handle_unknown='ignore')\n",
        "cluster_train_oh = enc.fit_transform(cluster_train.reshape(-1, 1))\n",
        "cluster_test_oh = enc.transform(cluster_test.reshape(-1, 1))\n",
        "\n",
        "# === 4. 合併所有特徵 ===\n",
        "# 原始特徵 + 異常分數 + KMeans cluster label\n",
        "x_train_ext = np.hstack((x_train, anomaly_score_train.reshape(-1, 1), cluster_train_oh))\n",
        "x_test_ext = np.hstack((x_test, anomaly_score_test.reshape(-1, 1), cluster_test_oh))\n"
      ]
    },
    {
      "cell_type": "markdown",
      "metadata": {},
      "source": [
        "# XGBoost"
      ]
    },
    {
      "cell_type": "code",
      "execution_count": 100,
      "metadata": {},
      "outputs": [],
      "source": [
        "import xgboost as xgb\n",
        "xgb_model = xgb.XGBClassifier(n_estimators=175, learning_rate=0.05, max_depth=7, scale_pos_weight=5, random_state=RANDOM_SEED)\n",
        "\n",
        "xgb_model.fit(x_train_ext, y_train)\n",
        "\n",
        "y_pred = xgb_model.predict(x_test_ext)"
      ]
    },
    {
      "cell_type": "markdown",
      "metadata": {
        "id": "xM-RCW778m8Y"
      },
      "source": [
        "## Result of 混和"
      ]
    },
    {
      "cell_type": "code",
      "execution_count": 101,
      "metadata": {
        "colab": {
          "base_uri": "https://localhost:8080/"
        },
        "id": "Od_eP3Da8p3Q",
        "outputId": "9057ea76-0fac-4210-e424-7b0db92af4b2"
      },
      "outputs": [
        {
          "name": "stdout",
          "output_type": "stream",
          "text": [
            "\n",
            "Hybrid Evaluation:\n",
            "=============================================\n",
            "         Accuracy: 0.9995552590615966\n",
            "  Precision Score: 0.9661016949152542\n",
            "     Recall Score: 0.7702702702702703\n",
            "         F1 Score: 0.8571428571428571\n",
            "\n",
            "Classification Report:\n",
            "              precision    recall  f1-score   support\n",
            "\n",
            "           0       1.00      1.00      1.00     85295\n",
            "           1       0.97      0.77      0.86       148\n",
            "\n",
            "    accuracy                           1.00     85443\n",
            "   macro avg       0.98      0.89      0.93     85443\n",
            "weighted avg       1.00      1.00      1.00     85443\n",
            "\n"
          ]
        }
      ],
      "source": [
        "def evaluation(y_true, y_pred, model_name=\"Model\"):\n",
        "   accuracy = accuracy_score(y_true, y_pred)\n",
        "   precision = precision_score(y_true, y_pred, zero_division=0)\n",
        "   recall = recall_score(y_true, y_pred)\n",
        "   f1 = f1_score(y_true, y_pred)\n",
        "\n",
        "   print(f'\\n{model_name} Evaluation:')\n",
        "   print('===' * 15)\n",
        "   print('         Accuracy:', accuracy)\n",
        "   print('  Precision Score:', precision)\n",
        "   print('     Recall Score:', recall)\n",
        "   print('         F1 Score:', f1)\n",
        "   print(\"\\nClassification Report:\")\n",
        "   print(classification_report(y_true, y_pred))\n",
        "\n",
        "evaluation(y_test, y_pred, model_name=\"Hybrid\")"
      ]
    }
  ],
  "metadata": {
    "colab": {
      "provenance": []
    },
    "kernelspec": {
      "display_name": ".venv",
      "language": "python",
      "name": "python3"
    },
    "language_info": {
      "codemirror_mode": {
        "name": "ipython",
        "version": 3
      },
      "file_extension": ".py",
      "mimetype": "text/x-python",
      "name": "python",
      "nbconvert_exporter": "python",
      "pygments_lexer": "ipython3",
      "version": "3.12.1"
    }
  },
  "nbformat": 4,
  "nbformat_minor": 0
}
