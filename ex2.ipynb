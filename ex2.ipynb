{
 "cells": [
  {
   "cell_type": "markdown",
   "id": "a188f524-d728-4a29-a4eb-a45b5f4474c6",
   "metadata": {},
   "source": [
    "## 資料集準備\n",
    "\n",
    "資料集與 Challenge 1 相同，使用 Kaggle 的 `mlg-ulb/creditcardfraud`，移除 `Time` 欄位並將 `Amount` 標準化。\n",
    "\n"
   ]
  },
  {
   "cell_type": "code",
   "execution_count": 34,
   "id": "a99d6170-7b33-48be-aea4-7dd9c62bf155",
   "metadata": {},
   "outputs": [],
   "source": [
    "import kagglehub\n",
    "import numpy as np\n",
    "import pandas as pd\n",
    "from sklearn.decomposition import PCA\n",
    "from sklearn.ensemble import IsolationForest\n",
    "from sklearn.metrics import (\n",
    "    accuracy_score,\n",
    "    classification_report,\n",
    "    f1_score,\n",
    "    precision_score,\n",
    "    recall_score,\n",
    ")\n",
    "from sklearn.model_selection import train_test_split\n",
    "from sklearn.preprocessing import StandardScaler\n",
    "from xgboost import XGBClassifier\n",
    "\n",
    "# general setting. do not change TEST_SIZE\n",
    "RANDOM_SEED = 42\n",
    "TEST_SIZE = 0.3\n",
    "\n",
    "# load data\n",
    "path = kagglehub.dataset_download(\"mlg-ulb/creditcardfraud\")\n",
    "data = pd.read_csv(f\"{path}/creditcard.csv\")\n",
    "data[\"Class\"] = data[\"Class\"].astype(int)\n",
    "data = data.drop([\"Time\"], axis=1)\n",
    "data[\"Amount\"] = StandardScaler().fit_transform(data[\"Amount\"].values.reshape(-1, 1))"
   ]
  },
  {
   "cell_type": "markdown",
   "id": "b51fe096-a0d1-4638-814c-4621d3e39f8a",
   "metadata": {},
   "source": [
    "## Hybrid Model\n",
    "\n",
    "Baseline:\n",
    "\n",
    "```\n",
    "Hybrid Mode Evaluation:\n",
    "=============================================\n",
    "         Accuracy: 0.9996722961506501\n",
    "  Precision Score: 0.9285714285714286\n",
    "     Recall Score: 0.8602941176470589\n",
    "         F1 Score: 0.8931297709923665\n",
    "\n",
    "Classification Report:\n",
    "              precision    recall  f1-score   support\n",
    "\n",
    "           0       1.00      1.00      1.00     85307\n",
    "           1       0.93      0.86      0.89       136\n",
    "\n",
    "    accuracy                           1.00     85443\n",
    "   macro avg       0.96      0.93      0.95     85443\n",
    "weighted avg       1.00      1.00      1.00     85443\n",
    "```"
   ]
  },
  {
   "cell_type": "markdown",
   "id": "071a5660-c3ff-4a83-b302-fcb1de4b3012",
   "metadata": {},
   "source": [
    "### 資料處理\n",
    "\n",
    "首先拆分每筆資料的所有特徵 `X` 與對應的 label `y`，並依照 `TEST_SIZE` 分別拆分成訓練跟測試兩部分。\n",
    "\n",
    "原本有嘗試做 PCA 嘗試提升準確度，但效果反而更差。推測是因為資料集本身已經做過 PCA 了，再做一次變化不大，參數沒調好而造成反效果。"
   ]
  },
  {
   "cell_type": "code",
   "execution_count": 35,
   "id": "f1cd3aaf-87b6-4895-a681-95923bde1fdc",
   "metadata": {},
   "outputs": [],
   "source": [
    "# split data\n",
    "X = np.asarray(data.drop(columns=[\"Class\"]))\n",
    "y = np.asarray(data[\"Class\"])\n",
    "X_train, X_test, y_train, y_test = train_test_split(\n",
    "    X, y, test_size=TEST_SIZE, random_state=RANDOM_SEED\n",
    ")"
   ]
  },
  {
   "cell_type": "markdown",
   "id": "4a75c72b-1880-4831-be3e-2d581dd119c0",
   "metadata": {},
   "source": [
    "### Isolation Forest\n",
    "\n",
    "Isolation Forest 可以找出一堆資料中的異常值，很適合用在這個資料集。\n",
    "\n",
    "參數設定：\n",
    "\n",
    "- `contamination`: 預期有多少比例的異常值，設為整個資料集的詐騙占比 0.17%。\n",
    "- `random_state`: 設置隨機種子，讓相同參數下的實驗結果一致。\n",
    "- `n_estimators`: 模型要建立多少棵樹來預測，設一個較大的值 300。\n",
    "- `bootstrap`: 讓模型使用會放回的重複抽樣 (Bootstrap Method) 建立訓練過程的子樣本，以增加數的多樣性，讓模型更穩健。\n",
    "- `n_jobs`: 設為 -1 使用所有 CPU 核心加速計算。\n",
    "\n",
    "---\n",
    "\n",
    "訓練完成後將預測結果作為**新的特徵**加到資料集，將非監督式模型的結果提供給監督式模型參考。"
   ]
  },
  {
   "cell_type": "code",
   "execution_count": 39,
   "id": "a8983ae1-8ab5-45be-85f1-07b33a7b7cb2",
   "metadata": {},
   "outputs": [],
   "source": [
    "isolation = IsolationForest(\n",
    "    contamination=0.0017,\n",
    "    random_state=RANDOM_SEED,\n",
    "    n_estimators=300,\n",
    "    bootstrap=True,\n",
    "    n_jobs=-1\n",
    ")\n",
    "isolation.fit(X_train)\n",
    "\n",
    "# use all data to predict\n",
    "iso_labels = isolation.predict(X_train)\n",
    "iso_labels = (iso_labels == -1).astype(int)\n",
    "\n",
    "# combine to dataset as a new feature\n",
    "X_train = np.hstack([X_train, iso_labels.reshape(-1, 1)])\n",
    "iso_pred_test = isolation.predict(X_test)\n",
    "iso_feature_test = (iso_pred_test == -1).astype(int)\n",
    "X_test = np.hstack((X_test, iso_feature_test.reshape(-1, 1)))"
   ]
  },
  {
   "cell_type": "markdown",
   "id": "a4b7822f-368b-4726-9957-54911fc19fbb",
   "metadata": {},
   "source": [
    "### XGBoost\n",
    "\n",
    "監督式學習的部分使用跟 Challenge 1 一樣的 XGBoost，但是使用了加入非監督式模型結果的訓練資料。\n",
    "\n",
    "參數設置：\n",
    "\n",
    "- `random_state`: 設置隨機種子，讓相同參數下的實驗結果一致。\n",
    "- `enable_categorical`: 使用分類模式。\n",
    "- `n_estimators`: 經過多組參數測試，設置 300 的效果最好，設更高結果不再提升。\n",
    "- `tree_method`: 分類模式需要使用 `approx` 或 `hist` 演算法，前者兼顧效率與準確度。\n",
    "- `device`: 使用 GPU 加速計算。\n",
    "- `learning_rate`: 預設值是 0.3，在 40 步之後開始出現 overfitting 的現象，\n",
    "- `n_jobs`: -1 表示用所有 CPU 核心進行平行計算。\n",
    "\n",
    "### 結果\n",
    "\n",
    "Recall 比 baseline 低，其餘指標皆有提升：\n",
    "\n",
    "|      指標       |   Baseline   |   My Model   |\n",
    "|:---------------:|:------------:|:------------:|\n",
    "|    Accuracy     |   0.999672   | **0.999661** |\n",
    "| Precision Score |   0.928571   | **0.949580** |\n",
    "|  Recall Score   | **0.860294** |   0.830882   |\n",
    "|    F1 Score     |   0.893130   | **0.886275** |"
   ]
  },
  {
   "cell_type": "code",
   "execution_count": 48,
   "id": "acc36eb6-f1bd-4c89-8253-6b480c60e0e9",
   "metadata": {},
   "outputs": [
    {
     "name": "stdout",
     "output_type": "stream",
     "text": [
      "\n",
      "Isolation Forest + XGBoost Evaluation:\n",
      "=============================================\n",
      "         Accuracy: 0.9996488887328394\n",
      "  Precision Score: 0.9344262295081968\n",
      "     Recall Score: 0.8382352941176471\n",
      "         F1 Score: 0.8837209302325582\n",
      "\n",
      "Classification Report:\n",
      "              precision    recall  f1-score   support\n",
      "\n",
      "           0       1.00      1.00      1.00     85307\n",
      "           1       0.93      0.84      0.88       136\n",
      "\n",
      "    accuracy                           1.00     85443\n",
      "   macro avg       0.97      0.92      0.94     85443\n",
      "weighted avg       1.00      1.00      1.00     85443\n",
      "\n"
     ]
    }
   ],
   "source": [
    "xgb = XGBClassifier(\n",
    "    random_state=RANDOM_SEED,\n",
    "    enable_categorical=True,\n",
    "    n_estimators=350,\n",
    "    tree_method=\"approx\",\n",
    "    device=\"cuda\",\n",
    "    learning_rate=0.1,\n",
    "    n_jobs=-1,\n",
    ")\n",
    "xgb.fit(X_train, y_train)\n",
    "y_pred = xgb.predict(X_test)\n",
    "\n",
    "\n",
    "def evaluation(y_true, y_pred, model_name=\"Model\"):\n",
    "    accuracy = accuracy_score(y_true, y_pred)\n",
    "    precision = precision_score(y_true, y_pred)\n",
    "    recall = recall_score(y_true, y_pred)\n",
    "    f1 = f1_score(y_true, y_pred)\n",
    "    print(f\"\\n{model_name} Evaluation:\")\n",
    "    print(\"===\" * 15)\n",
    "    print(\"         Accuracy:\", accuracy)\n",
    "    print(\"  Precision Score:\", precision)\n",
    "    print(\"     Recall Score:\", recall)\n",
    "    print(\"         F1 Score:\", f1)\n",
    "    print(\"\\nClassification Report:\")\n",
    "    print(classification_report(y_true, y_pred))\n",
    "\n",
    "\n",
    "evaluation(y_test, y_pred, model_name=\"Isolation Forest + XGBoost\")"
   ]
  },
  {
   "cell_type": "code",
   "execution_count": null,
   "id": "06f9b692-be14-4dd4-b6af-705b4392ce32",
   "metadata": {},
   "outputs": [],
   "source": []
  }
 ],
 "metadata": {
  "kernelspec": {
   "display_name": "Python 3 (ipykernel)",
   "language": "python",
   "name": "python3"
  },
  "language_info": {
   "codemirror_mode": {
    "name": "ipython",
    "version": 3
   },
   "file_extension": ".py",
   "mimetype": "text/x-python",
   "name": "python",
   "nbconvert_exporter": "python",
   "pygments_lexer": "ipython3",
   "version": "3.12.3"
  }
 },
 "nbformat": 4,
 "nbformat_minor": 5
}
