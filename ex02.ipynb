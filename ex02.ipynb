{
  "nbformat": 4,
  "nbformat_minor": 0,
  "metadata": {
    "colab": {
      "provenance": [],
      "authorship_tag": "ABX9TyM2eyDjzA73AcHvxuaEcDvZ",
      "include_colab_link": true
    },
    "kernelspec": {
      "name": "python3",
      "display_name": "Python 3"
    },
    "language_info": {
      "name": "python"
    }
  },
  "cells": [
    {
      "cell_type": "markdown",
      "metadata": {
        "id": "view-in-github",
        "colab_type": "text"
      },
      "source": [
        "<a href=\"https://colab.research.google.com/github/Thomas993300/NTCU-Machine-Learning/blob/main/ex02.ipynb\" target=\"_parent\"><img src=\"https://colab.research.google.com/assets/colab-badge.svg\" alt=\"Open In Colab\"/></a>"
      ]
    },
    {
      "cell_type": "code",
      "execution_count": 2,
      "metadata": {
        "colab": {
          "base_uri": "https://localhost:8080/"
        },
        "id": "oMCrMKZxURfg",
        "outputId": "27147b6f-96f3-4ead-f122-a18e533af342"
      },
      "outputs": [
        {
          "output_type": "stream",
          "name": "stdout",
          "text": [
            "Requirement already satisfied: xgboost in /usr/local/lib/python3.11/dist-packages (2.1.4)\n",
            "Collecting xgboost\n",
            "  Downloading xgboost-3.0.2-py3-none-manylinux_2_28_x86_64.whl.metadata (2.1 kB)\n",
            "Requirement already satisfied: imbalanced-learn in /usr/local/lib/python3.11/dist-packages (0.13.0)\n",
            "Requirement already satisfied: numpy in /usr/local/lib/python3.11/dist-packages (from xgboost) (2.0.2)\n",
            "Requirement already satisfied: nvidia-nccl-cu12 in /usr/local/lib/python3.11/dist-packages (from xgboost) (2.21.5)\n",
            "Requirement already satisfied: scipy in /usr/local/lib/python3.11/dist-packages (from xgboost) (1.15.3)\n",
            "Requirement already satisfied: scikit-learn<2,>=1.3.2 in /usr/local/lib/python3.11/dist-packages (from imbalanced-learn) (1.6.1)\n",
            "Requirement already satisfied: sklearn-compat<1,>=0.1 in /usr/local/lib/python3.11/dist-packages (from imbalanced-learn) (0.1.3)\n",
            "Requirement already satisfied: joblib<2,>=1.1.1 in /usr/local/lib/python3.11/dist-packages (from imbalanced-learn) (1.5.0)\n",
            "Requirement already satisfied: threadpoolctl<4,>=2.0.0 in /usr/local/lib/python3.11/dist-packages (from imbalanced-learn) (3.6.0)\n",
            "Downloading xgboost-3.0.2-py3-none-manylinux_2_28_x86_64.whl (253.9 MB)\n",
            "\u001b[2K   \u001b[90m━━━━━━━━━━━━━━━━━━━━━━━━━━━━━━━━━━━━━━━━\u001b[0m \u001b[32m253.9/253.9 MB\u001b[0m \u001b[31m4.4 MB/s\u001b[0m eta \u001b[36m0:00:00\u001b[0m\n",
            "\u001b[?25hInstalling collected packages: xgboost\n",
            "  Attempting uninstall: xgboost\n",
            "    Found existing installation: xgboost 2.1.4\n",
            "    Uninstalling xgboost-2.1.4:\n",
            "      Successfully uninstalled xgboost-2.1.4\n",
            "Successfully installed xgboost-3.0.2\n"
          ]
        }
      ],
      "source": [
        "\n",
        "!pip install --upgrade xgboost imbalanced-learn\n"
      ]
    },
    {
      "cell_type": "code",
      "source": [
        "import numpy as np\n",
        "import pandas as pd\n",
        "from sklearn.model_selection import train_test_split, GridSearchCV\n",
        "from sklearn.preprocessing import StandardScaler\n",
        "from sklearn.ensemble import IsolationForest\n",
        "from xgboost import XGBClassifier\n",
        "from sklearn.metrics import accuracy_score, precision_score, recall_score, f1_score, classification_report\n",
        "import kagglehub"
      ],
      "metadata": {
        "id": "m67jikTkUVDu"
      },
      "execution_count": 3,
      "outputs": []
    },
    {
      "cell_type": "code",
      "source": [
        "def evaluation(y_true, y_pred, model_name=\"Model\"):\n",
        "    acc = accuracy_score(y_true, y_pred)\n",
        "    prec = precision_score(y_true, y_pred, zero_division=0)\n",
        "    rec = recall_score(y_true, y_pred)\n",
        "    f1 = f1_score(y_true, y_pred)\n",
        "    print(f\"\\n{model_name} Evaluation:\")\n",
        "    print(\"=\" * 40)\n",
        "    print(f\" Accuracy       : {acc:.8f}\")\n",
        "    print(f\" Precision Score: {prec:.8f}\")\n",
        "    print(f\" Recall Score   : {rec:.8f}\")\n",
        "    print(f\" F1 Score       : {f1:.8f}\\n\")\n",
        "    print(\"Classification Report:\")\n",
        "    print(classification_report(y_true, y_pred))"
      ],
      "metadata": {
        "id": "6mY9Dv0nUdUP"
      },
      "execution_count": 4,
      "outputs": []
    },
    {
      "cell_type": "code",
      "source": [
        "def load_data():\n",
        "    path = kagglehub.dataset_download(\"mlg-ulb/creditcardfraud\")\n",
        "    data = pd.read_csv(f\"{path}/creditcard.csv\")\n",
        "    data['Class'] = data['Class'].astype(int)\n",
        "    data.drop(['Time'], axis=1, inplace=True)\n",
        "    data['Amount'] = StandardScaler().fit_transform(\n",
        "        data['Amount'].values.reshape(-1, 1))\n",
        "    return data\n",
        "\n",
        "# Load and split\n",
        "RANDOM_SEED = 42\n",
        "TEST_SIZE = 0.3\n",
        "\n",
        "data = load_data()\n",
        "X = data.drop(columns=['Class']).values\n",
        "y = data['Class'].values\n",
        "x_train, x_test, y_train, y_test = train_test_split(\n",
        "    X, y, test_size=TEST_SIZE, random_state=RANDOM_SEED, stratify=y)"
      ],
      "metadata": {
        "id": "QggrMsSNUdbf"
      },
      "execution_count": 5,
      "outputs": []
    },
    {
      "cell_type": "code",
      "source": [
        "iso = IsolationForest(contamination=0.002, random_state=RANDOM_SEED)\n",
        "iso.fit(x_train[y_train == 0])\n",
        "score_train = iso.decision_function(x_train)\n",
        "score_test  = iso.decision_function(x_test)\n",
        "\n",
        "x_train_feat = np.hstack([x_train, score_train.reshape(-1,1)])\n",
        "x_test_feat  = np.hstack([x_test,  score_test.reshape(-1,1)])"
      ],
      "metadata": {
        "id": "rmGHK9f8UdeX"
      },
      "execution_count": 7,
      "outputs": []
    },
    {
      "cell_type": "code",
      "source": [
        "param_grid = {\n",
        "    'n_estimators': [200, 400],\n",
        "    'max_depth': [5, 8],\n",
        "    'learning_rate': [0.05, 0.1],\n",
        "    'scale_pos_weight': [10, 20]\n",
        "}\n",
        "\n",
        "\n",
        "xgb = XGBClassifier(\n",
        "    tree_method='hist',  # <-- changed here: use CPU 'hist' instead of 'gpu_hist'\n",
        "    eval_metric='logloss',\n",
        "    scale_pos_weight=0.172,\n",
        "    random_state=RANDOM_SEED\n",
        ")\n",
        "grid = GridSearchCV(\n",
        "    xgb, param_grid, scoring='f1', cv=3, n_jobs=-1, verbose=1\n",
        ")\n",
        "\n",
        "grid.fit(x_train_feat, y_train)\n",
        "best_model = grid.best_estimator_\n",
        "print(\"Best parameters:\", grid.best_params_)\n",
        "\n",
        "# Default threshold (0.5)\n",
        "y_pred_default = best_model.predict(x_test_feat)\n",
        "evaluation(y_test, y_pred_default, model_name=\"DefaultThreshold\")"
      ],
      "metadata": {
        "colab": {
          "base_uri": "https://localhost:8080/"
        },
        "collapsed": true,
        "id": "GS6juA2iUmMH",
        "outputId": "052864db-5851-416e-ce5e-58a503729210"
      },
      "execution_count": 16,
      "outputs": [
        {
          "output_type": "stream",
          "name": "stdout",
          "text": [
            "Fitting 3 folds for each of 16 candidates, totalling 48 fits\n",
            "Best parameters: {'learning_rate': 0.1, 'max_depth': 8, 'n_estimators': 400, 'scale_pos_weight': 10}\n",
            "\n",
            "DefaultThreshold Evaluation:\n",
            "========================================\n",
            " Accuracy       : 0.99952015\n",
            " Precision Score: 0.92125984\n",
            " Recall Score   : 0.79054054\n",
            " F1 Score       : 0.85090909\n",
            "\n",
            "Classification Report:\n",
            "              precision    recall  f1-score   support\n",
            "\n",
            "           0       1.00      1.00      1.00     85295\n",
            "           1       0.92      0.79      0.85       148\n",
            "\n",
            "    accuracy                           1.00     85443\n",
            "   macro avg       0.96      0.90      0.93     85443\n",
            "weighted avg       1.00      1.00      1.00     85443\n",
            "\n"
          ]
        }
      ]
    },
    {
      "cell_type": "code",
      "source": [
        "y_proba = best_model.predict_proba(x_test_feat)[:,1]\n",
        "\n",
        "# 門檻掃描\n",
        "best_f1, best_thresh = 0, 0.5\n",
        "for t in np.arange(0.1, 0.9, 0.01):\n",
        "    preds = (y_proba > t).astype(int)\n",
        "    f1 = f1_score(y_test, preds)\n",
        "    if f1 > best_f1:\n",
        "        best_f1, best_thresh = f1, t\n",
        "\n",
        "print(f\"Best F1: {best_f1:.5f} at threshold: {best_thresh:.2f}\")\n",
        "\n",
        "# 使用最佳門檻\n",
        "y_pred_tuned = (y_proba > best_thresh).astype(int)\n",
        "evaluation(y_test, y_pred_tuned, model_name=f\"Threshold {best_thresh:.2f}\")"
      ],
      "metadata": {
        "colab": {
          "base_uri": "https://localhost:8080/"
        },
        "id": "FxsNZgP_UmPP",
        "outputId": "dc613e99-4cc1-472c-f21b-7985c15e3bc1"
      },
      "execution_count": 17,
      "outputs": [
        {
          "output_type": "stream",
          "name": "stdout",
          "text": [
            "Best F1: 0.85507 at threshold: 0.42\n",
            "\n",
            "Threshold 0.42 Evaluation:\n",
            "========================================\n",
            " Accuracy       : 0.99953185\n",
            " Precision Score: 0.92187500\n",
            " Recall Score   : 0.79729730\n",
            " F1 Score       : 0.85507246\n",
            "\n",
            "Classification Report:\n",
            "              precision    recall  f1-score   support\n",
            "\n",
            "           0       1.00      1.00      1.00     85295\n",
            "           1       0.92      0.80      0.86       148\n",
            "\n",
            "    accuracy                           1.00     85443\n",
            "   macro avg       0.96      0.90      0.93     85443\n",
            "weighted avg       1.00      1.00      1.00     85443\n",
            "\n"
          ]
        }
      ]
    }
  ]
}