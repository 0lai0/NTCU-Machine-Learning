{
  "nbformat": 4,
  "nbformat_minor": 0,
  "metadata": {
    "colab": {
      "provenance": [],
      "gpuType": "T4",
      "authorship_tag": "ABX9TyOsrzGGt5wSHJUuSE3ylcoW",
      "include_colab_link": true
    },
    "kernelspec": {
      "name": "python3",
      "display_name": "Python 3"
    },
    "language_info": {
      "name": "python"
    },
    "accelerator": "GPU"
  },
  "cells": [
    {
      "cell_type": "markdown",
      "metadata": {
        "id": "view-in-github",
        "colab_type": "text"
      },
      "source": [
        "<a href=\"https://colab.research.google.com/github/Thomas993300/NTCU-Machine-Learning/blob/main/ex02.ipynb\" target=\"_parent\"><img src=\"https://colab.research.google.com/assets/colab-badge.svg\" alt=\"Open In Colab\"/></a>"
      ]
    },
    {
      "cell_type": "code",
      "execution_count": 2,
      "metadata": {
        "id": "3CMYTmSM5TZI"
      },
      "outputs": [],
      "source": [
        "import numpy as np\n",
        "import pandas as pd\n",
        "from sklearn.model_selection import train_test_split\n",
        "from sklearn.preprocessing import StandardScaler\n",
        "import kagglehub\n",
        "\n",
        "#ragular\n",
        "RANDOM_SEED = 42\n",
        "TEST_SIZE = 0.3\n",
        "\n",
        "#load\n",
        "path = kagglehub.dataset_download(\"mlg-ulb/creditcardfraud\")\n",
        "data = pd.read_csv(f\"{path}/creditcard.csv\")\n",
        "data['Class'] = data['Class'].astype(int)\n",
        "\n",
        "#data\n",
        "data = data.drop(['Time'], axis=1)\n",
        "data['Amount'] = StandardScaler().fit_transform(data['Amount'].values.reshape(-1, 1))\n",
        "\n",
        "#split\n",
        "X = np.asarray(data.drop(columns=['Class']))\n",
        "y = np.asarray(data['Class'])\n",
        "x_train, x_test, y_train, y_test = train_test_split(X, y, test_size=TEST_SIZE, random_state=RANDOM_SEED, stratify=y)\n"
      ]
    },
    {
      "cell_type": "code",
      "source": [
        "def evaluation(y_true, y_pred, model_name=\"Model\"):\n",
        "    accuracy = accuracy_score(y_true, y_pred)\n",
        "    precision = precision_score(y_true, y_pred)\n",
        "    recall = recall_score(y_true, y_pred)\n",
        "    f1 = f1_score(y_true, y_pred)\n",
        "    print(f'\\n{model_name} Evaluation:')\n",
        "    print('=' * 30)\n",
        "    print(f' Accuracy       : {accuracy:.8f}')\n",
        "    print(f' Precision Score: {precision:.8f}')\n",
        "    print(f' Recall Score   : {recall:.8f}')\n",
        "    print(f' F1 Score       : {f1:.8f}')\n",
        "    print('\\nClassification Report:')\n",
        "    print(classification_report(y_true, y_pred))"
      ],
      "metadata": {
        "id": "9sk3WtyU5v8l"
      },
      "execution_count": 3,
      "outputs": []
    },
    {
      "cell_type": "code",
      "source": [
        "from sklearn.ensemble import IsolationForest\n",
        "\n",
        "iso = IsolationForest(contamination=0.002, random_state=RANDOM_SEED)\n",
        "iso.fit(x_train[y_train == 0])\n",
        "anomaly_score_train = iso.decision_function(x_train)\n",
        "anomaly_score_test = iso.decision_function(x_test)\n",
        "iso_pred_train = iso.predict(x_train)  # -1: 異常, 1: 正常\n",
        "iso_pred_test = iso.predict(x_test)\n",
        "\n",
        "\n"
      ],
      "metadata": {
        "id": "-ZrlAKI45WP4"
      },
      "execution_count": 36,
      "outputs": []
    },
    {
      "cell_type": "code",
      "source": [
        "from sklearn.decomposition import PCA\n",
        "\n",
        "pca = PCA(n_components=8, random_state=RANDOM_SEED)   # 你可以自己調整n_components\n",
        "x_train_pca = pca.fit_transform(x_train)\n",
        "x_test_pca = pca.transform(x_test)\n"
      ],
      "metadata": {
        "id": "NLB3wS5u9Y7v"
      },
      "execution_count": 37,
      "outputs": []
    },
    {
      "cell_type": "code",
      "source": [
        "# 合併所有特徵（原始 + PCA + anomaly score + IF預測標籤）\n",
        "x_train_all = np.hstack([\n",
        "    x_train,\n",
        "    x_train_pca,\n",
        "    anomaly_score_train.reshape(-1,1),\n",
        "    iso_pred_train.reshape(-1,1)\n",
        "])\n",
        "x_test_all = np.hstack([\n",
        "    x_test,\n",
        "    x_test_pca,\n",
        "    anomaly_score_test.reshape(-1,1),\n",
        "    iso_pred_test.reshape(-1,1)\n",
        "])\n"
      ],
      "metadata": {
        "id": "Wybh4x5a9rgC"
      },
      "execution_count": 38,
      "outputs": []
    },
    {
      "cell_type": "code",
      "source": [
        "from xgboost import XGBClassifier\n",
        "from sklearn.metrics import accuracy_score, precision_score, recall_score, f1_score, classification_report\n",
        "\n",
        "\n",
        "xgb = XGBClassifier(\n",
        "    colsample_bytree=1.0,\n",
        "    learning_rate=0.1,\n",
        "    max_depth=8,\n",
        "    n_estimators=600,\n",
        "    subsample=0.8,\n",
        "    scale_pos_weight=30,\n",
        "    eval_metric='logloss',\n",
        "    tree_method='hist',\n",
        "    use_label_encoder=False,\n",
        "    random_state=RANDOM_SEED\n",
        ")\n",
        "\n",
        "# XGBoost 模型訓練\n",
        "\n",
        "#xgb = XGBClassifier(n_estimators=100, max_depth=5, scale_pos_weight=10, random_state=RANDOM_SEED)\n",
        "xgb.fit(x_train_all, y_train)\n",
        "y_pred = xgb.predict(x_test_all)\n",
        "\n",
        "\n",
        "\n",
        "evaluation(y_test, y_pred, model_name=\"IsolationForest + XGBoost\")\n"
      ],
      "metadata": {
        "colab": {
          "base_uri": "https://localhost:8080/"
        },
        "id": "_S_5ibqV5xfo",
        "outputId": "b023a8c9-3ebb-4d45-c36f-76ff2cac68a0"
      },
      "execution_count": 34,
      "outputs": [
        {
          "output_type": "stream",
          "name": "stderr",
          "text": [
            "/usr/local/lib/python3.11/dist-packages/xgboost/core.py:158: UserWarning: [09:23:32] WARNING: /workspace/src/learner.cc:740: \n",
            "Parameters: { \"use_label_encoder\" } are not used.\n",
            "\n",
            "  warnings.warn(smsg, UserWarning)\n"
          ]
        },
        {
          "output_type": "stream",
          "name": "stdout",
          "text": [
            "\n",
            "IsolationForest + XGBoost Evaluation:\n",
            "==============================\n",
            " Accuracy       : 0.99953185\n",
            " Precision Score: 0.92187500\n",
            " Recall Score   : 0.79729730\n",
            " F1 Score       : 0.85507246\n",
            "\n",
            "Classification Report:\n",
            "              precision    recall  f1-score   support\n",
            "\n",
            "           0       1.00      1.00      1.00     85295\n",
            "           1       0.92      0.80      0.86       148\n",
            "\n",
            "    accuracy                           1.00     85443\n",
            "   macro avg       0.96      0.90      0.93     85443\n",
            "weighted avg       1.00      1.00      1.00     85443\n",
            "\n"
          ]
        }
      ]
    },
    {
      "cell_type": "code",
      "source": [
        "import numpy as np\n",
        "y_proba = xgb.predict_proba(x_test_all)[:, 1]\n",
        "\n",
        "best_f1 = 0\n",
        "best_thresh = 0.5\n",
        "for t in np.arange(0.1, 0.9, 0.01):\n",
        "    y_pred_new = (y_proba > t).astype(int)\n",
        "    f1 = f1_score(y_test, y_pred_new)\n",
        "    recall = recall_score(y_test, y_pred_new)\n",
        "    if f1 > best_f1:\n",
        "        best_f1 = f1\n",
        "        best_thresh = t\n",
        "        best_recall = recall\n",
        "\n",
        "print(f\"Best F1: {best_f1:.5f} at threshold: {best_thresh:.2f} (Recall: {best_recall:.5f})\")\n",
        "# 若你要印出最佳組合的所有分數\n",
        "y_pred_best = (y_proba > best_thresh).astype(int)\n",
        "evaluation(y_test, y_pred_best, model_name=\"XGBoost + IF + PCA + IFlabel (Best Threshold)\")\n"
      ],
      "metadata": {
        "colab": {
          "base_uri": "https://localhost:8080/"
        },
        "id": "ZOS93h76Ka-d",
        "outputId": "ba30b7fe-6edb-4ebe-d948-93e3727fb7df"
      },
      "execution_count": 39,
      "outputs": [
        {
          "output_type": "stream",
          "name": "stdout",
          "text": [
            "Best F1: 0.86022 at threshold: 0.35 (Recall: 0.81081)\n",
            "\n",
            "XGBoost + IF + PCA + IFlabel (Best Threshold) Evaluation:\n",
            "==============================\n",
            " Accuracy       : 0.99954356\n",
            " Precision Score: 0.91603053\n",
            " Recall Score   : 0.81081081\n",
            " F1 Score       : 0.86021505\n",
            "\n",
            "Classification Report:\n",
            "              precision    recall  f1-score   support\n",
            "\n",
            "           0       1.00      1.00      1.00     85295\n",
            "           1       0.92      0.81      0.86       148\n",
            "\n",
            "    accuracy                           1.00     85443\n",
            "   macro avg       0.96      0.91      0.93     85443\n",
            "weighted avg       1.00      1.00      1.00     85443\n",
            "\n"
          ]
        }
      ]
    }
  ]
}