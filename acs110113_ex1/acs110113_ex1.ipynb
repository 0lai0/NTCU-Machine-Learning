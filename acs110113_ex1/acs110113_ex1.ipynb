{
  "nbformat": 4,
  "nbformat_minor": 0,
  "metadata": {
    "colab": {
      "provenance": []
    },
    "kernelspec": {
      "name": "python3",
      "display_name": "Python 3"
    },
    "language_info": {
      "name": "python"
    }
  },
  "cells": [
    {
      "cell_type": "code",
      "execution_count": 2,
      "metadata": {
        "colab": {
          "base_uri": "https://localhost:8080/"
        },
        "id": "Yr8XvZSu_COs",
        "outputId": "8321c476-bef9-4c2d-eb5a-93ca4d9b254d"
      },
      "outputs": [
        {
          "output_type": "stream",
          "name": "stdout",
          "text": [
            "=== Random Forest 評估結果 ===\n",
            "              precision    recall  f1-score   support\n",
            "\n",
            "           0     0.9997    0.9983    0.9990     85295\n",
            "           1     0.4481    0.8176    0.5789       148\n",
            "\n",
            "    accuracy                         0.9979     85443\n",
            "   macro avg     0.7239    0.9079    0.7890     85443\n",
            "weighted avg     0.9987    0.9979    0.9982     85443\n",
            "\n",
            "=== Isolation Forest 評估結果 ===\n",
            "              precision    recall  f1-score   support\n",
            "\n",
            "           0     0.9987    0.9981    0.9984     85295\n",
            "           1     0.1912    0.2635    0.2216       148\n",
            "\n",
            "    accuracy                         0.9968     85443\n",
            "   macro avg     0.5949    0.6308    0.6100     85443\n",
            "weighted avg     0.9973    0.9968    0.9970     85443\n",
            "\n"
          ]
        }
      ],
      "source": [
        "\n",
        "\n",
        "import numpy as np\n",
        "import pandas as pd\n",
        "from sklearn.model_selection import train_test_split\n",
        "from sklearn.preprocessing import StandardScaler\n",
        "from sklearn.ensemble import RandomForestClassifier\n",
        "from sklearn.metrics import classification_report\n",
        "from imblearn.over_sampling import SMOTE\n",
        "from sklearn.ensemble import IsolationForest\n",
        "\n",
        "# 讀取資料\n",
        "data = pd.read_csv(\"https://storage.googleapis.com/download.tensorflow.org/data/creditcard.csv\")\n",
        "\n",
        "# 預處理\n",
        "data = data.drop(['Time'], axis=1)\n",
        "data['Amount'] = StandardScaler().fit_transform(data['Amount'].values.reshape(-1, 1))\n",
        "\n",
        "X = data.drop(['Class'], axis=1)\n",
        "y = data['Class']\n",
        "\n",
        "# 資料分割\n",
        "X_train, X_test, y_train, y_test = train_test_split(X, y, test_size=0.3, random_state=42, stratify=y)\n",
        "\n",
        "# 使用 SMOTE 平衡訓練資料\n",
        "sm = SMOTE(random_state=42)\n",
        "X_train_res, y_train_res = sm.fit_resample(X_train, y_train)\n",
        "\n",
        "# 隨機森林模型\n",
        "rf = RandomForestClassifier(\n",
        "    n_estimators=200,\n",
        "    max_depth=10,\n",
        "    class_weight='balanced',\n",
        "    random_state=42\n",
        ")\n",
        "rf.fit(X_train_res, y_train_res)\n",
        "y_pred_rf = rf.predict(X_test)\n",
        "\n",
        "print(\"=== Random Forest 評估結果 ===\")\n",
        "print(classification_report(y_test, y_pred_rf, digits=4))\n",
        "\n",
        "# === 非監督式學習改用 Isolation Forest ===\n",
        "iso = IsolationForest(contamination=0.002, random_state=42)\n",
        "iso.fit(X_train[y_train == 0])  # 只用正常樣本訓練\n",
        "\n",
        "# IsolationForest 預測測試集\n",
        "y_pred_iso = iso.predict(X_test)\n",
        "y_pred_iso = np.where(y_pred_iso == -1, 1, 0)  # -1 = anomaly\n",
        "\n",
        "print(\"=== Isolation Forest 評估結果 ===\")\n",
        "print(classification_report(y_test, y_pred_iso, digits=4))\n"
      ]
    }
  ]
}