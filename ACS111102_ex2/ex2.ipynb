{
 "cells": [
  {
   "cell_type": "code",
   "execution_count": 2,
   "id": "11d4006e",
   "metadata": {},
   "outputs": [
    {
     "name": "stderr",
     "output_type": "stream",
     "text": [
      "c:\\Users\\huach\\miniconda3\\envs\\ml06\\Lib\\site-packages\\tqdm\\auto.py:21: TqdmWarning: IProgress not found. Please update jupyter and ipywidgets. See https://ipywidgets.readthedocs.io/en/stable/user_install.html\n",
      "  from .autonotebook import tqdm as notebook_tqdm\n"
     ]
    }
   ],
   "source": [
    "import numpy as np\n",
    "import pandas as pd\n",
    "from sklearn.model_selection import train_test_split\n",
    "from sklearn.preprocessing import StandardScaler\n",
    "from sklearn.ensemble import IsolationForest\n",
    "from sklearn.decomposition import PCA\n",
    "from sklearn.metrics import precision_recall_curve, accuracy_score, precision_score, recall_score, f1_score, classification_report\n",
    "from xgboost import XGBClassifier\n",
    "import kagglehub\n",
    "\n",
    "RANDOM_SEED = 42\n",
    "TEST_SIZE = 0.3\n",
    "\n",
    "def evaluate(y_true, y_pred, model_name=\"Model\"):\n",
    "    print(f'\\n{model_name} Evaluation:')\n",
    "    print(f'Accuracy: {accuracy_score(y_true, y_pred):.4f}')\n",
    "    print(f'Precision: {precision_score(y_true, y_pred):.4f}')\n",
    "    print(f'Recall: {recall_score(y_true, y_pred):.4f}')\n",
    "    print(f'F1-score: {f1_score(y_true, y_pred):.4f}')\n",
    "    print(\"\\nClassification Report:\")\n",
    "    print(classification_report(y_true, y_pred, target_names=[\"Normal\", \"Fraud\"]))\n",
    "\n",
    "# Load and preprocess data\n",
    "path = kagglehub.dataset_download(\"mlg-ulb/creditcardfraud\")\n",
    "data = pd.read_csv(f\"{path}/creditcard.csv\")\n",
    "data['Class'] = data['Class'].astype(int)\n",
    "data = data.drop(columns=['Time'])\n",
    "data['Amount'] = StandardScaler().fit_transform(data['Amount'].values.reshape(-1, 1))\n",
    "\n",
    "X = data.drop(columns=['Class']).values\n",
    "y = data['Class'].values\n",
    "\n",
    "X_train, X_test, y_train, y_test = train_test_split(X, y, test_size=TEST_SIZE, random_state=RANDOM_SEED, stratify=y)\n",
    "\n",
    "scaler = StandardScaler()\n",
    "X_train_std = scaler.fit_transform(X_train)\n",
    "X_test_std = scaler.transform(X_test)\n"
   ]
  },
  {
   "cell_type": "code",
   "execution_count": 7,
   "id": "79821032",
   "metadata": {},
   "outputs": [
    {
     "name": "stderr",
     "output_type": "stream",
     "text": [
      "c:\\Users\\huach\\miniconda3\\envs\\ml06\\Lib\\site-packages\\xgboost\\core.py:158: UserWarning: [05:19:58] WARNING: C:\\b\\abs_90_bwj_86a\\croot\\xgboost-split_1724073762025\\work\\src\\learner.cc:740: \n",
      "Parameters: { \"use_label_encoder\" } are not used.\n",
      "\n",
      "  warnings.warn(smsg, UserWarning)\n"
     ]
    },
    {
     "name": "stdout",
     "output_type": "stream",
     "text": [
      "\n",
      "Hybrid Evaluation:\n",
      "Accuracy: 0.9995\n",
      "Precision: 0.9127\n",
      "Recall: 0.7770\n",
      "F1-score: 0.8394\n",
      "\n",
      "Classification Report:\n",
      "              precision    recall  f1-score   support\n",
      "\n",
      "      Normal       1.00      1.00      1.00     85295\n",
      "       Fraud       0.91      0.78      0.84       148\n",
      "\n",
      "    accuracy                           1.00     85443\n",
      "   macro avg       0.96      0.89      0.92     85443\n",
      "weighted avg       1.00      1.00      1.00     85443\n",
      "\n"
     ]
    }
   ],
   "source": [
    "# Isolation Forest scores\n",
    "iso = IsolationForest(n_estimators=200, contamination=0.0017, random_state=RANDOM_SEED)\n",
    "iso.fit(X_train_std[y_train == 0])\n",
    "score_train = iso.decision_function(X_train_std).reshape(-1, 1)\n",
    "score_test = iso.decision_function(X_test_std).reshape(-1, 1)\n",
    "\n",
    "# PCA features\n",
    "pca = PCA(n_components=12, random_state=RANDOM_SEED)\n",
    "X_train_pca = pca.fit_transform(X_train_std)\n",
    "X_test_pca = pca.transform(X_test_std)\n",
    "\n",
    "# Combine features\n",
    "X_train_fused = np.hstack([X_train_std, score_train, X_train_pca])\n",
    "X_test_fused = np.hstack([X_test_std, score_test, X_test_pca])\n",
    "\n",
    "# XGBoost classifier\n",
    "model = XGBClassifier(\n",
    "    n_estimators=200,\n",
    "    max_depth=6,\n",
    "    learning_rate=0.1,\n",
    "    subsample=0.6,\n",
    "    colsample_bytree=1.0,\n",
    "    min_child_weight=5,\n",
    "    gamma=0.5,\n",
    "    alpha=0.1,\n",
    "    scale_pos_weight=3,\n",
    "    use_label_encoder=False,\n",
    "    eval_metric='aucpr',\n",
    "    tree_method='hist',\n",
    "    random_state=RANDOM_SEED\n",
    ")\n",
    "model.fit(X_train_fused, y_train)\n",
    "\n",
    "# Threshold optimization\n",
    "y_prob = model.predict_proba(X_test_fused)[:, 1]\n",
    "prec, rec, thresholds = precision_recall_curve(y_test, y_prob)\n",
    "f1 = 2 * prec[:-1] * rec[:-1] / (prec[:-1] + rec[:-1] + 1e-9)\n",
    "opt_thresh = thresholds[np.argmax(f1)]\n",
    "\n",
    "# Final prediction\n",
    "y_pred = (y_prob > opt_thresh).astype(int)\n",
    "evaluate(y_test, y_pred, model_name=\"Hybrid\")\n"
   ]
  }
 ],
 "metadata": {
  "kernelspec": {
   "display_name": "Python (ml06)",
   "language": "python",
   "name": "ml06"
  },
  "language_info": {
   "codemirror_mode": {
    "name": "ipython",
    "version": 3
   },
   "file_extension": ".py",
   "mimetype": "text/x-python",
   "name": "python",
   "nbconvert_exporter": "python",
   "pygments_lexer": "ipython3",
   "version": "3.11.11"
  }
 },
 "nbformat": 4,
 "nbformat_minor": 5
}
